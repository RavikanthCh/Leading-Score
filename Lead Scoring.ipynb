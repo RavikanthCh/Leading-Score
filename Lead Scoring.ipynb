{
 "cells": [
  {
   "cell_type": "markdown",
   "metadata": {},
   "source": [
    "<font color='green'><h1><center>Case Study - Lead Scoring</center></h1></font>"
   ]
  },
  {
   "cell_type": "markdown",
   "metadata": {},
   "source": [
    "### PROBLEM STATEMENT"
   ]
  },
  {
   "cell_type": "markdown",
   "metadata": {},
   "source": [
    "<p style=\"font-family: Arial; font-size:1.0em;color:blue;\">X Education, an education company, gets a lot of leads, but its lead conversion rate is very less (~30%). Our goal is to improve the lead conversion rate by identifying the most potential leads, also known as ‘Hot Leads’.\n",
    "We have to build a model with 80% sensitivity, assign lead score to all the leads, which depicts the chances of a lead getting converted."
   ]
  },
  {
   "cell_type": "markdown",
   "metadata": {},
   "source": [
    "### IMPORTING LIBRARIES"
   ]
  },
  {
   "cell_type": "code",
   "execution_count": 1,
   "metadata": {},
   "outputs": [],
   "source": [
    "# Supress the warnings.\n",
    "import warnings\n",
    "warnings.filterwarnings('ignore')"
   ]
  },
  {
   "cell_type": "code",
   "execution_count": 2,
   "metadata": {},
   "outputs": [],
   "source": [
    "# Let's import the required libraries.\n",
    "import os\n",
    "import numpy as np\n",
    "import pandas as pd\n",
    "import matplotlib.pyplot as plt\n",
    "import seaborn as sns\n",
    "import sklearn\n",
    "import statsmodels.api as sm\n",
    "from sklearn.preprocessing import StandardScaler\n",
    "from sklearn.model_selection import train_test_split\n",
    "from sklearn.feature_selection import RFE\n",
    "from sklearn import metrics\n",
    "from sklearn.linear_model import LogisticRegression\n",
    "from statsmodels.stats.outliers_influence import variance_inflation_factor\n",
    "from sklearn.metrics import precision_recall_curve"
   ]
  },
  {
   "cell_type": "markdown",
   "metadata": {},
   "source": [
    "### READING THE DATASET"
   ]
  },
  {
   "cell_type": "code",
   "execution_count": 3,
   "metadata": {},
   "outputs": [],
   "source": [
    "# Read the dataset.\n",
    "path=os.getcwd()\n",
    "data=pd.read_csv(path+r'/Leads.csv')"
   ]
  },
  {
   "cell_type": "markdown",
   "metadata": {},
   "source": [
    "### GENERAL CHECKS ON DATA"
   ]
  },
  {
   "cell_type": "code",
   "execution_count": 4,
   "metadata": {},
   "outputs": [
    {
     "data": {
      "text/html": [
       "<div>\n",
       "<style scoped>\n",
       "    .dataframe tbody tr th:only-of-type {\n",
       "        vertical-align: middle;\n",
       "    }\n",
       "\n",
       "    .dataframe tbody tr th {\n",
       "        vertical-align: top;\n",
       "    }\n",
       "\n",
       "    .dataframe thead th {\n",
       "        text-align: right;\n",
       "    }\n",
       "</style>\n",
       "<table border=\"1\" class=\"dataframe\">\n",
       "  <thead>\n",
       "    <tr style=\"text-align: right;\">\n",
       "      <th></th>\n",
       "      <th>Prospect ID</th>\n",
       "      <th>Lead Number</th>\n",
       "      <th>Lead Origin</th>\n",
       "      <th>Lead Source</th>\n",
       "      <th>Do Not Email</th>\n",
       "      <th>Do Not Call</th>\n",
       "      <th>Converted</th>\n",
       "      <th>TotalVisits</th>\n",
       "      <th>Total Time Spent on Website</th>\n",
       "      <th>Page Views Per Visit</th>\n",
       "      <th>...</th>\n",
       "      <th>Get updates on DM Content</th>\n",
       "      <th>Lead Profile</th>\n",
       "      <th>City</th>\n",
       "      <th>Asymmetrique Activity Index</th>\n",
       "      <th>Asymmetrique Profile Index</th>\n",
       "      <th>Asymmetrique Activity Score</th>\n",
       "      <th>Asymmetrique Profile Score</th>\n",
       "      <th>I agree to pay the amount through cheque</th>\n",
       "      <th>A free copy of Mastering The Interview</th>\n",
       "      <th>Last Notable Activity</th>\n",
       "    </tr>\n",
       "  </thead>\n",
       "  <tbody>\n",
       "    <tr>\n",
       "      <td>0</td>\n",
       "      <td>7927b2df-8bba-4d29-b9a2-b6e0beafe620</td>\n",
       "      <td>660737</td>\n",
       "      <td>API</td>\n",
       "      <td>Olark Chat</td>\n",
       "      <td>No</td>\n",
       "      <td>No</td>\n",
       "      <td>0</td>\n",
       "      <td>0.0</td>\n",
       "      <td>0</td>\n",
       "      <td>0.0</td>\n",
       "      <td>...</td>\n",
       "      <td>No</td>\n",
       "      <td>Select</td>\n",
       "      <td>Select</td>\n",
       "      <td>02.Medium</td>\n",
       "      <td>02.Medium</td>\n",
       "      <td>15.0</td>\n",
       "      <td>15.0</td>\n",
       "      <td>No</td>\n",
       "      <td>No</td>\n",
       "      <td>Modified</td>\n",
       "    </tr>\n",
       "    <tr>\n",
       "      <td>1</td>\n",
       "      <td>2a272436-5132-4136-86fa-dcc88c88f482</td>\n",
       "      <td>660728</td>\n",
       "      <td>API</td>\n",
       "      <td>Organic Search</td>\n",
       "      <td>No</td>\n",
       "      <td>No</td>\n",
       "      <td>0</td>\n",
       "      <td>5.0</td>\n",
       "      <td>674</td>\n",
       "      <td>2.5</td>\n",
       "      <td>...</td>\n",
       "      <td>No</td>\n",
       "      <td>Select</td>\n",
       "      <td>Select</td>\n",
       "      <td>02.Medium</td>\n",
       "      <td>02.Medium</td>\n",
       "      <td>15.0</td>\n",
       "      <td>15.0</td>\n",
       "      <td>No</td>\n",
       "      <td>No</td>\n",
       "      <td>Email Opened</td>\n",
       "    </tr>\n",
       "    <tr>\n",
       "      <td>2</td>\n",
       "      <td>8cc8c611-a219-4f35-ad23-fdfd2656bd8a</td>\n",
       "      <td>660727</td>\n",
       "      <td>Landing Page Submission</td>\n",
       "      <td>Direct Traffic</td>\n",
       "      <td>No</td>\n",
       "      <td>No</td>\n",
       "      <td>1</td>\n",
       "      <td>2.0</td>\n",
       "      <td>1532</td>\n",
       "      <td>2.0</td>\n",
       "      <td>...</td>\n",
       "      <td>No</td>\n",
       "      <td>Potential Lead</td>\n",
       "      <td>Mumbai</td>\n",
       "      <td>02.Medium</td>\n",
       "      <td>01.High</td>\n",
       "      <td>14.0</td>\n",
       "      <td>20.0</td>\n",
       "      <td>No</td>\n",
       "      <td>Yes</td>\n",
       "      <td>Email Opened</td>\n",
       "    </tr>\n",
       "    <tr>\n",
       "      <td>3</td>\n",
       "      <td>0cc2df48-7cf4-4e39-9de9-19797f9b38cc</td>\n",
       "      <td>660719</td>\n",
       "      <td>Landing Page Submission</td>\n",
       "      <td>Direct Traffic</td>\n",
       "      <td>No</td>\n",
       "      <td>No</td>\n",
       "      <td>0</td>\n",
       "      <td>1.0</td>\n",
       "      <td>305</td>\n",
       "      <td>1.0</td>\n",
       "      <td>...</td>\n",
       "      <td>No</td>\n",
       "      <td>Select</td>\n",
       "      <td>Mumbai</td>\n",
       "      <td>02.Medium</td>\n",
       "      <td>01.High</td>\n",
       "      <td>13.0</td>\n",
       "      <td>17.0</td>\n",
       "      <td>No</td>\n",
       "      <td>No</td>\n",
       "      <td>Modified</td>\n",
       "    </tr>\n",
       "    <tr>\n",
       "      <td>4</td>\n",
       "      <td>3256f628-e534-4826-9d63-4a8b88782852</td>\n",
       "      <td>660681</td>\n",
       "      <td>Landing Page Submission</td>\n",
       "      <td>Google</td>\n",
       "      <td>No</td>\n",
       "      <td>No</td>\n",
       "      <td>1</td>\n",
       "      <td>2.0</td>\n",
       "      <td>1428</td>\n",
       "      <td>1.0</td>\n",
       "      <td>...</td>\n",
       "      <td>No</td>\n",
       "      <td>Select</td>\n",
       "      <td>Mumbai</td>\n",
       "      <td>02.Medium</td>\n",
       "      <td>01.High</td>\n",
       "      <td>15.0</td>\n",
       "      <td>18.0</td>\n",
       "      <td>No</td>\n",
       "      <td>No</td>\n",
       "      <td>Modified</td>\n",
       "    </tr>\n",
       "  </tbody>\n",
       "</table>\n",
       "<p>5 rows × 37 columns</p>\n",
       "</div>"
      ],
      "text/plain": [
       "                            Prospect ID  Lead Number              Lead Origin  \\\n",
       "0  7927b2df-8bba-4d29-b9a2-b6e0beafe620       660737                      API   \n",
       "1  2a272436-5132-4136-86fa-dcc88c88f482       660728                      API   \n",
       "2  8cc8c611-a219-4f35-ad23-fdfd2656bd8a       660727  Landing Page Submission   \n",
       "3  0cc2df48-7cf4-4e39-9de9-19797f9b38cc       660719  Landing Page Submission   \n",
       "4  3256f628-e534-4826-9d63-4a8b88782852       660681  Landing Page Submission   \n",
       "\n",
       "      Lead Source Do Not Email Do Not Call  Converted  TotalVisits  \\\n",
       "0      Olark Chat           No          No          0          0.0   \n",
       "1  Organic Search           No          No          0          5.0   \n",
       "2  Direct Traffic           No          No          1          2.0   \n",
       "3  Direct Traffic           No          No          0          1.0   \n",
       "4          Google           No          No          1          2.0   \n",
       "\n",
       "   Total Time Spent on Website  Page Views Per Visit  ...  \\\n",
       "0                            0                   0.0  ...   \n",
       "1                          674                   2.5  ...   \n",
       "2                         1532                   2.0  ...   \n",
       "3                          305                   1.0  ...   \n",
       "4                         1428                   1.0  ...   \n",
       "\n",
       "  Get updates on DM Content    Lead Profile    City  \\\n",
       "0                        No          Select  Select   \n",
       "1                        No          Select  Select   \n",
       "2                        No  Potential Lead  Mumbai   \n",
       "3                        No          Select  Mumbai   \n",
       "4                        No          Select  Mumbai   \n",
       "\n",
       "  Asymmetrique Activity Index Asymmetrique Profile Index  \\\n",
       "0                   02.Medium                  02.Medium   \n",
       "1                   02.Medium                  02.Medium   \n",
       "2                   02.Medium                    01.High   \n",
       "3                   02.Medium                    01.High   \n",
       "4                   02.Medium                    01.High   \n",
       "\n",
       "  Asymmetrique Activity Score Asymmetrique Profile Score  \\\n",
       "0                        15.0                       15.0   \n",
       "1                        15.0                       15.0   \n",
       "2                        14.0                       20.0   \n",
       "3                        13.0                       17.0   \n",
       "4                        15.0                       18.0   \n",
       "\n",
       "  I agree to pay the amount through cheque  \\\n",
       "0                                       No   \n",
       "1                                       No   \n",
       "2                                       No   \n",
       "3                                       No   \n",
       "4                                       No   \n",
       "\n",
       "  A free copy of Mastering The Interview Last Notable Activity  \n",
       "0                                     No              Modified  \n",
       "1                                     No          Email Opened  \n",
       "2                                    Yes          Email Opened  \n",
       "3                                     No              Modified  \n",
       "4                                     No              Modified  \n",
       "\n",
       "[5 rows x 37 columns]"
      ]
     },
     "execution_count": 4,
     "metadata": {},
     "output_type": "execute_result"
    }
   ],
   "source": [
    "# Check the head of the dataset.\n",
    "data.head()"
   ]
  },
  {
   "cell_type": "code",
   "execution_count": 5,
   "metadata": {},
   "outputs": [
    {
     "data": {
      "text/plain": [
       "(9240, 37)"
      ]
     },
     "execution_count": 5,
     "metadata": {},
     "output_type": "execute_result"
    }
   ],
   "source": [
    "# Check the shape of the dataset.\n",
    "data.shape"
   ]
  },
  {
   "cell_type": "code",
   "execution_count": 6,
   "metadata": {},
   "outputs": [
    {
     "name": "stdout",
     "output_type": "stream",
     "text": [
      "<class 'pandas.core.frame.DataFrame'>\n",
      "RangeIndex: 9240 entries, 0 to 9239\n",
      "Data columns (total 37 columns):\n",
      "Prospect ID                                      9240 non-null object\n",
      "Lead Number                                      9240 non-null int64\n",
      "Lead Origin                                      9240 non-null object\n",
      "Lead Source                                      9204 non-null object\n",
      "Do Not Email                                     9240 non-null object\n",
      "Do Not Call                                      9240 non-null object\n",
      "Converted                                        9240 non-null int64\n",
      "TotalVisits                                      9103 non-null float64\n",
      "Total Time Spent on Website                      9240 non-null int64\n",
      "Page Views Per Visit                             9103 non-null float64\n",
      "Last Activity                                    9137 non-null object\n",
      "Country                                          6779 non-null object\n",
      "Specialization                                   7802 non-null object\n",
      "How did you hear about X Education               7033 non-null object\n",
      "What is your current occupation                  6550 non-null object\n",
      "What matters most to you in choosing a course    6531 non-null object\n",
      "Search                                           9240 non-null object\n",
      "Magazine                                         9240 non-null object\n",
      "Newspaper Article                                9240 non-null object\n",
      "X Education Forums                               9240 non-null object\n",
      "Newspaper                                        9240 non-null object\n",
      "Digital Advertisement                            9240 non-null object\n",
      "Through Recommendations                          9240 non-null object\n",
      "Receive More Updates About Our Courses           9240 non-null object\n",
      "Tags                                             5887 non-null object\n",
      "Lead Quality                                     4473 non-null object\n",
      "Update me on Supply Chain Content                9240 non-null object\n",
      "Get updates on DM Content                        9240 non-null object\n",
      "Lead Profile                                     6531 non-null object\n",
      "City                                             7820 non-null object\n",
      "Asymmetrique Activity Index                      5022 non-null object\n",
      "Asymmetrique Profile Index                       5022 non-null object\n",
      "Asymmetrique Activity Score                      5022 non-null float64\n",
      "Asymmetrique Profile Score                       5022 non-null float64\n",
      "I agree to pay the amount through cheque         9240 non-null object\n",
      "A free copy of Mastering The Interview           9240 non-null object\n",
      "Last Notable Activity                            9240 non-null object\n",
      "dtypes: float64(4), int64(3), object(30)\n",
      "memory usage: 2.6+ MB\n"
     ]
    }
   ],
   "source": [
    "# Info of the dataset.\n",
    "data.info()"
   ]
  },
  {
   "cell_type": "code",
   "execution_count": 7,
   "metadata": {},
   "outputs": [
    {
     "data": {
      "text/html": [
       "<div>\n",
       "<style scoped>\n",
       "    .dataframe tbody tr th:only-of-type {\n",
       "        vertical-align: middle;\n",
       "    }\n",
       "\n",
       "    .dataframe tbody tr th {\n",
       "        vertical-align: top;\n",
       "    }\n",
       "\n",
       "    .dataframe thead th {\n",
       "        text-align: right;\n",
       "    }\n",
       "</style>\n",
       "<table border=\"1\" class=\"dataframe\">\n",
       "  <thead>\n",
       "    <tr style=\"text-align: right;\">\n",
       "      <th></th>\n",
       "      <th>Lead Number</th>\n",
       "      <th>Converted</th>\n",
       "      <th>TotalVisits</th>\n",
       "      <th>Total Time Spent on Website</th>\n",
       "      <th>Page Views Per Visit</th>\n",
       "      <th>Asymmetrique Activity Score</th>\n",
       "      <th>Asymmetrique Profile Score</th>\n",
       "    </tr>\n",
       "  </thead>\n",
       "  <tbody>\n",
       "    <tr>\n",
       "      <td>count</td>\n",
       "      <td>9240.000000</td>\n",
       "      <td>9240.000000</td>\n",
       "      <td>9103.000000</td>\n",
       "      <td>9240.000000</td>\n",
       "      <td>9103.000000</td>\n",
       "      <td>5022.000000</td>\n",
       "      <td>5022.000000</td>\n",
       "    </tr>\n",
       "    <tr>\n",
       "      <td>mean</td>\n",
       "      <td>617188.435606</td>\n",
       "      <td>0.385390</td>\n",
       "      <td>3.445238</td>\n",
       "      <td>487.698268</td>\n",
       "      <td>2.362820</td>\n",
       "      <td>14.306252</td>\n",
       "      <td>16.344883</td>\n",
       "    </tr>\n",
       "    <tr>\n",
       "      <td>std</td>\n",
       "      <td>23405.995698</td>\n",
       "      <td>0.486714</td>\n",
       "      <td>4.854853</td>\n",
       "      <td>548.021466</td>\n",
       "      <td>2.161418</td>\n",
       "      <td>1.386694</td>\n",
       "      <td>1.811395</td>\n",
       "    </tr>\n",
       "    <tr>\n",
       "      <td>min</td>\n",
       "      <td>579533.000000</td>\n",
       "      <td>0.000000</td>\n",
       "      <td>0.000000</td>\n",
       "      <td>0.000000</td>\n",
       "      <td>0.000000</td>\n",
       "      <td>7.000000</td>\n",
       "      <td>11.000000</td>\n",
       "    </tr>\n",
       "    <tr>\n",
       "      <td>25%</td>\n",
       "      <td>596484.500000</td>\n",
       "      <td>0.000000</td>\n",
       "      <td>1.000000</td>\n",
       "      <td>12.000000</td>\n",
       "      <td>1.000000</td>\n",
       "      <td>14.000000</td>\n",
       "      <td>15.000000</td>\n",
       "    </tr>\n",
       "    <tr>\n",
       "      <td>50%</td>\n",
       "      <td>615479.000000</td>\n",
       "      <td>0.000000</td>\n",
       "      <td>3.000000</td>\n",
       "      <td>248.000000</td>\n",
       "      <td>2.000000</td>\n",
       "      <td>14.000000</td>\n",
       "      <td>16.000000</td>\n",
       "    </tr>\n",
       "    <tr>\n",
       "      <td>75%</td>\n",
       "      <td>637387.250000</td>\n",
       "      <td>1.000000</td>\n",
       "      <td>5.000000</td>\n",
       "      <td>936.000000</td>\n",
       "      <td>3.000000</td>\n",
       "      <td>15.000000</td>\n",
       "      <td>18.000000</td>\n",
       "    </tr>\n",
       "    <tr>\n",
       "      <td>max</td>\n",
       "      <td>660737.000000</td>\n",
       "      <td>1.000000</td>\n",
       "      <td>251.000000</td>\n",
       "      <td>2272.000000</td>\n",
       "      <td>55.000000</td>\n",
       "      <td>18.000000</td>\n",
       "      <td>20.000000</td>\n",
       "    </tr>\n",
       "  </tbody>\n",
       "</table>\n",
       "</div>"
      ],
      "text/plain": [
       "         Lead Number    Converted  TotalVisits  Total Time Spent on Website  \\\n",
       "count    9240.000000  9240.000000  9103.000000                  9240.000000   \n",
       "mean   617188.435606     0.385390     3.445238                   487.698268   \n",
       "std     23405.995698     0.486714     4.854853                   548.021466   \n",
       "min    579533.000000     0.000000     0.000000                     0.000000   \n",
       "25%    596484.500000     0.000000     1.000000                    12.000000   \n",
       "50%    615479.000000     0.000000     3.000000                   248.000000   \n",
       "75%    637387.250000     1.000000     5.000000                   936.000000   \n",
       "max    660737.000000     1.000000   251.000000                  2272.000000   \n",
       "\n",
       "       Page Views Per Visit  Asymmetrique Activity Score  \\\n",
       "count           9103.000000                  5022.000000   \n",
       "mean               2.362820                    14.306252   \n",
       "std                2.161418                     1.386694   \n",
       "min                0.000000                     7.000000   \n",
       "25%                1.000000                    14.000000   \n",
       "50%                2.000000                    14.000000   \n",
       "75%                3.000000                    15.000000   \n",
       "max               55.000000                    18.000000   \n",
       "\n",
       "       Asymmetrique Profile Score  \n",
       "count                 5022.000000  \n",
       "mean                    16.344883  \n",
       "std                      1.811395  \n",
       "min                     11.000000  \n",
       "25%                     15.000000  \n",
       "50%                     16.000000  \n",
       "75%                     18.000000  \n",
       "max                     20.000000  "
      ]
     },
     "execution_count": 7,
     "metadata": {},
     "output_type": "execute_result"
    }
   ],
   "source": [
    "# Check the summary statistics of the dataframe.\n",
    "data.describe()"
   ]
  },
  {
   "cell_type": "markdown",
   "metadata": {},
   "source": [
    "### DATA CLEANING"
   ]
  },
  {
   "cell_type": "code",
   "execution_count": 8,
   "metadata": {},
   "outputs": [
    {
     "data": {
      "text/plain": [
       "Index(['Prospect ID', 'Lead Number', 'Lead Origin', 'Lead Source',\n",
       "       'Do Not Email', 'Do Not Call', 'Converted', 'TotalVisits',\n",
       "       'Total Time Spent on Website', 'Page Views Per Visit', 'Last Activity',\n",
       "       'Country', 'Specialization', 'How did you hear about X Education',\n",
       "       'What is your current occupation',\n",
       "       'What matters most to you in choosing a course', 'Search', 'Magazine',\n",
       "       'Newspaper Article', 'X Education Forums', 'Newspaper',\n",
       "       'Digital Advertisement', 'Through Recommendations',\n",
       "       'Receive More Updates About Our Courses', 'Tags', 'Lead Quality',\n",
       "       'Update me on Supply Chain Content', 'Get updates on DM Content',\n",
       "       'Lead Profile', 'City', 'Asymmetrique Activity Index',\n",
       "       'Asymmetrique Profile Index', 'Asymmetrique Activity Score',\n",
       "       'Asymmetrique Profile Score',\n",
       "       'I agree to pay the amount through cheque',\n",
       "       'A free copy of Mastering The Interview', 'Last Notable Activity'],\n",
       "      dtype='object')"
      ]
     },
     "execution_count": 8,
     "metadata": {},
     "output_type": "execute_result"
    }
   ],
   "source": [
    "# Get the columns of the dataframe.\n",
    "data.columns"
   ]
  },
  {
   "cell_type": "markdown",
   "metadata": {},
   "source": [
    "<p style=\"font-family: Arial; font-size:1.0em;color:blue;\">  Data duplication is one of the major issues which is often faced. We have to make sure there are no duplicate data available in the dataset. Presense of duplicate data makes the dataset more redundant."
   ]
  },
  {
   "cell_type": "code",
   "execution_count": 9,
   "metadata": {},
   "outputs": [
    {
     "data": {
      "text/html": [
       "<div>\n",
       "<style scoped>\n",
       "    .dataframe tbody tr th:only-of-type {\n",
       "        vertical-align: middle;\n",
       "    }\n",
       "\n",
       "    .dataframe tbody tr th {\n",
       "        vertical-align: top;\n",
       "    }\n",
       "\n",
       "    .dataframe thead th {\n",
       "        text-align: right;\n",
       "    }\n",
       "</style>\n",
       "<table border=\"1\" class=\"dataframe\">\n",
       "  <thead>\n",
       "    <tr style=\"text-align: right;\">\n",
       "      <th></th>\n",
       "      <th>Prospect ID</th>\n",
       "      <th>Lead Number</th>\n",
       "      <th>Lead Origin</th>\n",
       "      <th>Lead Source</th>\n",
       "      <th>Do Not Email</th>\n",
       "      <th>Do Not Call</th>\n",
       "      <th>Converted</th>\n",
       "      <th>TotalVisits</th>\n",
       "      <th>Total Time Spent on Website</th>\n",
       "      <th>Page Views Per Visit</th>\n",
       "      <th>...</th>\n",
       "      <th>Get updates on DM Content</th>\n",
       "      <th>Lead Profile</th>\n",
       "      <th>City</th>\n",
       "      <th>Asymmetrique Activity Index</th>\n",
       "      <th>Asymmetrique Profile Index</th>\n",
       "      <th>Asymmetrique Activity Score</th>\n",
       "      <th>Asymmetrique Profile Score</th>\n",
       "      <th>I agree to pay the amount through cheque</th>\n",
       "      <th>A free copy of Mastering The Interview</th>\n",
       "      <th>Last Notable Activity</th>\n",
       "    </tr>\n",
       "  </thead>\n",
       "  <tbody>\n",
       "  </tbody>\n",
       "</table>\n",
       "<p>0 rows × 37 columns</p>\n",
       "</div>"
      ],
      "text/plain": [
       "Empty DataFrame\n",
       "Columns: [Prospect ID, Lead Number, Lead Origin, Lead Source, Do Not Email, Do Not Call, Converted, TotalVisits, Total Time Spent on Website, Page Views Per Visit, Last Activity, Country, Specialization, How did you hear about X Education, What is your current occupation, What matters most to you in choosing a course, Search, Magazine, Newspaper Article, X Education Forums, Newspaper, Digital Advertisement, Through Recommendations, Receive More Updates About Our Courses, Tags, Lead Quality, Update me on Supply Chain Content, Get updates on DM Content, Lead Profile, City, Asymmetrique Activity Index, Asymmetrique Profile Index, Asymmetrique Activity Score, Asymmetrique Profile Score, I agree to pay the amount through cheque, A free copy of Mastering The Interview, Last Notable Activity]\n",
       "Index: []\n",
       "\n",
       "[0 rows x 37 columns]"
      ]
     },
     "execution_count": 9,
     "metadata": {},
     "output_type": "execute_result"
    }
   ],
   "source": [
    "# Check for duplicates (w.r.t 'Prospect ID')\n",
    "data.loc[data.duplicated(subset = 'Prospect ID')]"
   ]
  },
  {
   "cell_type": "code",
   "execution_count": 10,
   "metadata": {},
   "outputs": [
    {
     "data": {
      "text/html": [
       "<div>\n",
       "<style scoped>\n",
       "    .dataframe tbody tr th:only-of-type {\n",
       "        vertical-align: middle;\n",
       "    }\n",
       "\n",
       "    .dataframe tbody tr th {\n",
       "        vertical-align: top;\n",
       "    }\n",
       "\n",
       "    .dataframe thead th {\n",
       "        text-align: right;\n",
       "    }\n",
       "</style>\n",
       "<table border=\"1\" class=\"dataframe\">\n",
       "  <thead>\n",
       "    <tr style=\"text-align: right;\">\n",
       "      <th></th>\n",
       "      <th>Prospect ID</th>\n",
       "      <th>Lead Number</th>\n",
       "      <th>Lead Origin</th>\n",
       "      <th>Lead Source</th>\n",
       "      <th>Do Not Email</th>\n",
       "      <th>Do Not Call</th>\n",
       "      <th>Converted</th>\n",
       "      <th>TotalVisits</th>\n",
       "      <th>Total Time Spent on Website</th>\n",
       "      <th>Page Views Per Visit</th>\n",
       "      <th>...</th>\n",
       "      <th>Get updates on DM Content</th>\n",
       "      <th>Lead Profile</th>\n",
       "      <th>City</th>\n",
       "      <th>Asymmetrique Activity Index</th>\n",
       "      <th>Asymmetrique Profile Index</th>\n",
       "      <th>Asymmetrique Activity Score</th>\n",
       "      <th>Asymmetrique Profile Score</th>\n",
       "      <th>I agree to pay the amount through cheque</th>\n",
       "      <th>A free copy of Mastering The Interview</th>\n",
       "      <th>Last Notable Activity</th>\n",
       "    </tr>\n",
       "  </thead>\n",
       "  <tbody>\n",
       "  </tbody>\n",
       "</table>\n",
       "<p>0 rows × 37 columns</p>\n",
       "</div>"
      ],
      "text/plain": [
       "Empty DataFrame\n",
       "Columns: [Prospect ID, Lead Number, Lead Origin, Lead Source, Do Not Email, Do Not Call, Converted, TotalVisits, Total Time Spent on Website, Page Views Per Visit, Last Activity, Country, Specialization, How did you hear about X Education, What is your current occupation, What matters most to you in choosing a course, Search, Magazine, Newspaper Article, X Education Forums, Newspaper, Digital Advertisement, Through Recommendations, Receive More Updates About Our Courses, Tags, Lead Quality, Update me on Supply Chain Content, Get updates on DM Content, Lead Profile, City, Asymmetrique Activity Index, Asymmetrique Profile Index, Asymmetrique Activity Score, Asymmetrique Profile Score, I agree to pay the amount through cheque, A free copy of Mastering The Interview, Last Notable Activity]\n",
       "Index: []\n",
       "\n",
       "[0 rows x 37 columns]"
      ]
     },
     "execution_count": 10,
     "metadata": {},
     "output_type": "execute_result"
    }
   ],
   "source": [
    "# Check for duplicates (w.r.t 'Lead Number')\n",
    "data.loc[data.duplicated(subset = 'Lead Number')]"
   ]
  },
  {
   "cell_type": "markdown",
   "metadata": {},
   "source": [
    "<p style=\"font-family: Arial; font-size:1.0em;color:blue;\">  Observation:<br>\n",
    "From the above calculations, we determined that there is no duplicate data present in the columns of Lead Number and Prospect ID. Then we dropped those 2 columns since they are not required for futher analysis."
   ]
  },
  {
   "cell_type": "code",
   "execution_count": 11,
   "metadata": {},
   "outputs": [
    {
     "data": {
      "text/html": [
       "<div>\n",
       "<style scoped>\n",
       "    .dataframe tbody tr th:only-of-type {\n",
       "        vertical-align: middle;\n",
       "    }\n",
       "\n",
       "    .dataframe tbody tr th {\n",
       "        vertical-align: top;\n",
       "    }\n",
       "\n",
       "    .dataframe thead th {\n",
       "        text-align: right;\n",
       "    }\n",
       "</style>\n",
       "<table border=\"1\" class=\"dataframe\">\n",
       "  <thead>\n",
       "    <tr style=\"text-align: right;\">\n",
       "      <th></th>\n",
       "      <th>Prospect ID</th>\n",
       "      <th>Lead Number</th>\n",
       "    </tr>\n",
       "  </thead>\n",
       "  <tbody>\n",
       "    <tr>\n",
       "      <td>0</td>\n",
       "      <td>7927b2df-8bba-4d29-b9a2-b6e0beafe620</td>\n",
       "      <td>660737</td>\n",
       "    </tr>\n",
       "    <tr>\n",
       "      <td>1</td>\n",
       "      <td>2a272436-5132-4136-86fa-dcc88c88f482</td>\n",
       "      <td>660728</td>\n",
       "    </tr>\n",
       "    <tr>\n",
       "      <td>2</td>\n",
       "      <td>8cc8c611-a219-4f35-ad23-fdfd2656bd8a</td>\n",
       "      <td>660727</td>\n",
       "    </tr>\n",
       "    <tr>\n",
       "      <td>3</td>\n",
       "      <td>0cc2df48-7cf4-4e39-9de9-19797f9b38cc</td>\n",
       "      <td>660719</td>\n",
       "    </tr>\n",
       "    <tr>\n",
       "      <td>4</td>\n",
       "      <td>3256f628-e534-4826-9d63-4a8b88782852</td>\n",
       "      <td>660681</td>\n",
       "    </tr>\n",
       "  </tbody>\n",
       "</table>\n",
       "</div>"
      ],
      "text/plain": [
       "                            Prospect ID  Lead Number\n",
       "0  7927b2df-8bba-4d29-b9a2-b6e0beafe620       660737\n",
       "1  2a272436-5132-4136-86fa-dcc88c88f482       660728\n",
       "2  8cc8c611-a219-4f35-ad23-fdfd2656bd8a       660727\n",
       "3  0cc2df48-7cf4-4e39-9de9-19797f9b38cc       660719\n",
       "4  3256f628-e534-4826-9d63-4a8b88782852       660681"
      ]
     },
     "execution_count": 11,
     "metadata": {},
     "output_type": "execute_result"
    }
   ],
   "source": [
    "# Drop 'Prospect ID' and 'Lead Number' columns.\n",
    "id = data[['Prospect ID', 'Lead Number']].copy()\n",
    "data.drop(['Prospect ID', 'Lead Number'], axis=1, inplace=True)\n",
    "\n",
    "# Look at the head of the 'id' dataframe\n",
    "id.head()"
   ]
  },
  {
   "cell_type": "code",
   "execution_count": 12,
   "metadata": {
    "scrolled": true
   },
   "outputs": [
    {
     "data": {
      "text/html": [
       "<div>\n",
       "<style scoped>\n",
       "    .dataframe tbody tr th:only-of-type {\n",
       "        vertical-align: middle;\n",
       "    }\n",
       "\n",
       "    .dataframe tbody tr th {\n",
       "        vertical-align: top;\n",
       "    }\n",
       "\n",
       "    .dataframe thead th {\n",
       "        text-align: right;\n",
       "    }\n",
       "</style>\n",
       "<table border=\"1\" class=\"dataframe\">\n",
       "  <thead>\n",
       "    <tr style=\"text-align: right;\">\n",
       "      <th></th>\n",
       "      <th>Lead Origin</th>\n",
       "      <th>Lead Source</th>\n",
       "      <th>Do Not Email</th>\n",
       "      <th>Do Not Call</th>\n",
       "      <th>Converted</th>\n",
       "      <th>TotalVisits</th>\n",
       "      <th>Total Time Spent on Website</th>\n",
       "      <th>Page Views Per Visit</th>\n",
       "      <th>Last Activity</th>\n",
       "      <th>Country</th>\n",
       "      <th>...</th>\n",
       "      <th>Get updates on DM Content</th>\n",
       "      <th>Lead Profile</th>\n",
       "      <th>City</th>\n",
       "      <th>Asymmetrique Activity Index</th>\n",
       "      <th>Asymmetrique Profile Index</th>\n",
       "      <th>Asymmetrique Activity Score</th>\n",
       "      <th>Asymmetrique Profile Score</th>\n",
       "      <th>I agree to pay the amount through cheque</th>\n",
       "      <th>A free copy of Mastering The Interview</th>\n",
       "      <th>Last Notable Activity</th>\n",
       "    </tr>\n",
       "  </thead>\n",
       "  <tbody>\n",
       "    <tr>\n",
       "      <td>0</td>\n",
       "      <td>API</td>\n",
       "      <td>Olark Chat</td>\n",
       "      <td>No</td>\n",
       "      <td>No</td>\n",
       "      <td>0</td>\n",
       "      <td>0.0</td>\n",
       "      <td>0</td>\n",
       "      <td>0.0</td>\n",
       "      <td>Page Visited on Website</td>\n",
       "      <td>NaN</td>\n",
       "      <td>...</td>\n",
       "      <td>No</td>\n",
       "      <td>Select</td>\n",
       "      <td>Select</td>\n",
       "      <td>02.Medium</td>\n",
       "      <td>02.Medium</td>\n",
       "      <td>15.0</td>\n",
       "      <td>15.0</td>\n",
       "      <td>No</td>\n",
       "      <td>No</td>\n",
       "      <td>Modified</td>\n",
       "    </tr>\n",
       "    <tr>\n",
       "      <td>1</td>\n",
       "      <td>API</td>\n",
       "      <td>Organic Search</td>\n",
       "      <td>No</td>\n",
       "      <td>No</td>\n",
       "      <td>0</td>\n",
       "      <td>5.0</td>\n",
       "      <td>674</td>\n",
       "      <td>2.5</td>\n",
       "      <td>Email Opened</td>\n",
       "      <td>India</td>\n",
       "      <td>...</td>\n",
       "      <td>No</td>\n",
       "      <td>Select</td>\n",
       "      <td>Select</td>\n",
       "      <td>02.Medium</td>\n",
       "      <td>02.Medium</td>\n",
       "      <td>15.0</td>\n",
       "      <td>15.0</td>\n",
       "      <td>No</td>\n",
       "      <td>No</td>\n",
       "      <td>Email Opened</td>\n",
       "    </tr>\n",
       "    <tr>\n",
       "      <td>2</td>\n",
       "      <td>Landing Page Submission</td>\n",
       "      <td>Direct Traffic</td>\n",
       "      <td>No</td>\n",
       "      <td>No</td>\n",
       "      <td>1</td>\n",
       "      <td>2.0</td>\n",
       "      <td>1532</td>\n",
       "      <td>2.0</td>\n",
       "      <td>Email Opened</td>\n",
       "      <td>India</td>\n",
       "      <td>...</td>\n",
       "      <td>No</td>\n",
       "      <td>Potential Lead</td>\n",
       "      <td>Mumbai</td>\n",
       "      <td>02.Medium</td>\n",
       "      <td>01.High</td>\n",
       "      <td>14.0</td>\n",
       "      <td>20.0</td>\n",
       "      <td>No</td>\n",
       "      <td>Yes</td>\n",
       "      <td>Email Opened</td>\n",
       "    </tr>\n",
       "    <tr>\n",
       "      <td>3</td>\n",
       "      <td>Landing Page Submission</td>\n",
       "      <td>Direct Traffic</td>\n",
       "      <td>No</td>\n",
       "      <td>No</td>\n",
       "      <td>0</td>\n",
       "      <td>1.0</td>\n",
       "      <td>305</td>\n",
       "      <td>1.0</td>\n",
       "      <td>Unreachable</td>\n",
       "      <td>India</td>\n",
       "      <td>...</td>\n",
       "      <td>No</td>\n",
       "      <td>Select</td>\n",
       "      <td>Mumbai</td>\n",
       "      <td>02.Medium</td>\n",
       "      <td>01.High</td>\n",
       "      <td>13.0</td>\n",
       "      <td>17.0</td>\n",
       "      <td>No</td>\n",
       "      <td>No</td>\n",
       "      <td>Modified</td>\n",
       "    </tr>\n",
       "    <tr>\n",
       "      <td>4</td>\n",
       "      <td>Landing Page Submission</td>\n",
       "      <td>Google</td>\n",
       "      <td>No</td>\n",
       "      <td>No</td>\n",
       "      <td>1</td>\n",
       "      <td>2.0</td>\n",
       "      <td>1428</td>\n",
       "      <td>1.0</td>\n",
       "      <td>Converted to Lead</td>\n",
       "      <td>India</td>\n",
       "      <td>...</td>\n",
       "      <td>No</td>\n",
       "      <td>Select</td>\n",
       "      <td>Mumbai</td>\n",
       "      <td>02.Medium</td>\n",
       "      <td>01.High</td>\n",
       "      <td>15.0</td>\n",
       "      <td>18.0</td>\n",
       "      <td>No</td>\n",
       "      <td>No</td>\n",
       "      <td>Modified</td>\n",
       "    </tr>\n",
       "  </tbody>\n",
       "</table>\n",
       "<p>5 rows × 35 columns</p>\n",
       "</div>"
      ],
      "text/plain": [
       "               Lead Origin     Lead Source Do Not Email Do Not Call  \\\n",
       "0                      API      Olark Chat           No          No   \n",
       "1                      API  Organic Search           No          No   \n",
       "2  Landing Page Submission  Direct Traffic           No          No   \n",
       "3  Landing Page Submission  Direct Traffic           No          No   \n",
       "4  Landing Page Submission          Google           No          No   \n",
       "\n",
       "   Converted  TotalVisits  Total Time Spent on Website  Page Views Per Visit  \\\n",
       "0          0          0.0                            0                   0.0   \n",
       "1          0          5.0                          674                   2.5   \n",
       "2          1          2.0                         1532                   2.0   \n",
       "3          0          1.0                          305                   1.0   \n",
       "4          1          2.0                         1428                   1.0   \n",
       "\n",
       "             Last Activity Country  ... Get updates on DM Content  \\\n",
       "0  Page Visited on Website     NaN  ...                        No   \n",
       "1             Email Opened   India  ...                        No   \n",
       "2             Email Opened   India  ...                        No   \n",
       "3              Unreachable   India  ...                        No   \n",
       "4        Converted to Lead   India  ...                        No   \n",
       "\n",
       "     Lead Profile    City Asymmetrique Activity Index  \\\n",
       "0          Select  Select                   02.Medium   \n",
       "1          Select  Select                   02.Medium   \n",
       "2  Potential Lead  Mumbai                   02.Medium   \n",
       "3          Select  Mumbai                   02.Medium   \n",
       "4          Select  Mumbai                   02.Medium   \n",
       "\n",
       "  Asymmetrique Profile Index Asymmetrique Activity Score  \\\n",
       "0                  02.Medium                        15.0   \n",
       "1                  02.Medium                        15.0   \n",
       "2                    01.High                        14.0   \n",
       "3                    01.High                        13.0   \n",
       "4                    01.High                        15.0   \n",
       "\n",
       "  Asymmetrique Profile Score I agree to pay the amount through cheque  \\\n",
       "0                       15.0                                       No   \n",
       "1                       15.0                                       No   \n",
       "2                       20.0                                       No   \n",
       "3                       17.0                                       No   \n",
       "4                       18.0                                       No   \n",
       "\n",
       "  A free copy of Mastering The Interview Last Notable Activity  \n",
       "0                                     No              Modified  \n",
       "1                                     No          Email Opened  \n",
       "2                                    Yes          Email Opened  \n",
       "3                                     No              Modified  \n",
       "4                                     No              Modified  \n",
       "\n",
       "[5 rows x 35 columns]"
      ]
     },
     "execution_count": 12,
     "metadata": {},
     "output_type": "execute_result"
    }
   ],
   "source": [
    "# Look at the head of the dataframe.\n",
    "data.head()"
   ]
  },
  {
   "cell_type": "markdown",
   "metadata": {},
   "source": [
    "<p style=\"font-family: Arial; font-size:1.0em;color:blue;\">   We noticed that in a lot columns, there is an attribute called 'Select'.  So, we consider it as null value and then do the further analysis."
   ]
  },
  {
   "cell_type": "code",
   "execution_count": 13,
   "metadata": {},
   "outputs": [
    {
     "data": {
      "text/html": [
       "<div>\n",
       "<style scoped>\n",
       "    .dataframe tbody tr th:only-of-type {\n",
       "        vertical-align: middle;\n",
       "    }\n",
       "\n",
       "    .dataframe tbody tr th {\n",
       "        vertical-align: top;\n",
       "    }\n",
       "\n",
       "    .dataframe thead th {\n",
       "        text-align: right;\n",
       "    }\n",
       "</style>\n",
       "<table border=\"1\" class=\"dataframe\">\n",
       "  <thead>\n",
       "    <tr style=\"text-align: right;\">\n",
       "      <th></th>\n",
       "      <th>Lead Origin</th>\n",
       "      <th>Lead Source</th>\n",
       "      <th>Do Not Email</th>\n",
       "      <th>Do Not Call</th>\n",
       "      <th>Converted</th>\n",
       "      <th>TotalVisits</th>\n",
       "      <th>Total Time Spent on Website</th>\n",
       "      <th>Page Views Per Visit</th>\n",
       "      <th>Last Activity</th>\n",
       "      <th>Country</th>\n",
       "      <th>...</th>\n",
       "      <th>Get updates on DM Content</th>\n",
       "      <th>Lead Profile</th>\n",
       "      <th>City</th>\n",
       "      <th>Asymmetrique Activity Index</th>\n",
       "      <th>Asymmetrique Profile Index</th>\n",
       "      <th>Asymmetrique Activity Score</th>\n",
       "      <th>Asymmetrique Profile Score</th>\n",
       "      <th>I agree to pay the amount through cheque</th>\n",
       "      <th>A free copy of Mastering The Interview</th>\n",
       "      <th>Last Notable Activity</th>\n",
       "    </tr>\n",
       "  </thead>\n",
       "  <tbody>\n",
       "    <tr>\n",
       "      <td>0</td>\n",
       "      <td>API</td>\n",
       "      <td>Olark Chat</td>\n",
       "      <td>No</td>\n",
       "      <td>No</td>\n",
       "      <td>0</td>\n",
       "      <td>0.0</td>\n",
       "      <td>0</td>\n",
       "      <td>0.0</td>\n",
       "      <td>Page Visited on Website</td>\n",
       "      <td>NaN</td>\n",
       "      <td>...</td>\n",
       "      <td>No</td>\n",
       "      <td>NaN</td>\n",
       "      <td>NaN</td>\n",
       "      <td>02.Medium</td>\n",
       "      <td>02.Medium</td>\n",
       "      <td>15.0</td>\n",
       "      <td>15.0</td>\n",
       "      <td>No</td>\n",
       "      <td>No</td>\n",
       "      <td>Modified</td>\n",
       "    </tr>\n",
       "    <tr>\n",
       "      <td>1</td>\n",
       "      <td>API</td>\n",
       "      <td>Organic Search</td>\n",
       "      <td>No</td>\n",
       "      <td>No</td>\n",
       "      <td>0</td>\n",
       "      <td>5.0</td>\n",
       "      <td>674</td>\n",
       "      <td>2.5</td>\n",
       "      <td>Email Opened</td>\n",
       "      <td>India</td>\n",
       "      <td>...</td>\n",
       "      <td>No</td>\n",
       "      <td>NaN</td>\n",
       "      <td>NaN</td>\n",
       "      <td>02.Medium</td>\n",
       "      <td>02.Medium</td>\n",
       "      <td>15.0</td>\n",
       "      <td>15.0</td>\n",
       "      <td>No</td>\n",
       "      <td>No</td>\n",
       "      <td>Email Opened</td>\n",
       "    </tr>\n",
       "    <tr>\n",
       "      <td>2</td>\n",
       "      <td>Landing Page Submission</td>\n",
       "      <td>Direct Traffic</td>\n",
       "      <td>No</td>\n",
       "      <td>No</td>\n",
       "      <td>1</td>\n",
       "      <td>2.0</td>\n",
       "      <td>1532</td>\n",
       "      <td>2.0</td>\n",
       "      <td>Email Opened</td>\n",
       "      <td>India</td>\n",
       "      <td>...</td>\n",
       "      <td>No</td>\n",
       "      <td>Potential Lead</td>\n",
       "      <td>Mumbai</td>\n",
       "      <td>02.Medium</td>\n",
       "      <td>01.High</td>\n",
       "      <td>14.0</td>\n",
       "      <td>20.0</td>\n",
       "      <td>No</td>\n",
       "      <td>Yes</td>\n",
       "      <td>Email Opened</td>\n",
       "    </tr>\n",
       "    <tr>\n",
       "      <td>3</td>\n",
       "      <td>Landing Page Submission</td>\n",
       "      <td>Direct Traffic</td>\n",
       "      <td>No</td>\n",
       "      <td>No</td>\n",
       "      <td>0</td>\n",
       "      <td>1.0</td>\n",
       "      <td>305</td>\n",
       "      <td>1.0</td>\n",
       "      <td>Unreachable</td>\n",
       "      <td>India</td>\n",
       "      <td>...</td>\n",
       "      <td>No</td>\n",
       "      <td>NaN</td>\n",
       "      <td>Mumbai</td>\n",
       "      <td>02.Medium</td>\n",
       "      <td>01.High</td>\n",
       "      <td>13.0</td>\n",
       "      <td>17.0</td>\n",
       "      <td>No</td>\n",
       "      <td>No</td>\n",
       "      <td>Modified</td>\n",
       "    </tr>\n",
       "    <tr>\n",
       "      <td>4</td>\n",
       "      <td>Landing Page Submission</td>\n",
       "      <td>Google</td>\n",
       "      <td>No</td>\n",
       "      <td>No</td>\n",
       "      <td>1</td>\n",
       "      <td>2.0</td>\n",
       "      <td>1428</td>\n",
       "      <td>1.0</td>\n",
       "      <td>Converted to Lead</td>\n",
       "      <td>India</td>\n",
       "      <td>...</td>\n",
       "      <td>No</td>\n",
       "      <td>NaN</td>\n",
       "      <td>Mumbai</td>\n",
       "      <td>02.Medium</td>\n",
       "      <td>01.High</td>\n",
       "      <td>15.0</td>\n",
       "      <td>18.0</td>\n",
       "      <td>No</td>\n",
       "      <td>No</td>\n",
       "      <td>Modified</td>\n",
       "    </tr>\n",
       "  </tbody>\n",
       "</table>\n",
       "<p>5 rows × 35 columns</p>\n",
       "</div>"
      ],
      "text/plain": [
       "               Lead Origin     Lead Source Do Not Email Do Not Call  \\\n",
       "0                      API      Olark Chat           No          No   \n",
       "1                      API  Organic Search           No          No   \n",
       "2  Landing Page Submission  Direct Traffic           No          No   \n",
       "3  Landing Page Submission  Direct Traffic           No          No   \n",
       "4  Landing Page Submission          Google           No          No   \n",
       "\n",
       "   Converted  TotalVisits  Total Time Spent on Website  Page Views Per Visit  \\\n",
       "0          0          0.0                            0                   0.0   \n",
       "1          0          5.0                          674                   2.5   \n",
       "2          1          2.0                         1532                   2.0   \n",
       "3          0          1.0                          305                   1.0   \n",
       "4          1          2.0                         1428                   1.0   \n",
       "\n",
       "             Last Activity Country  ... Get updates on DM Content  \\\n",
       "0  Page Visited on Website     NaN  ...                        No   \n",
       "1             Email Opened   India  ...                        No   \n",
       "2             Email Opened   India  ...                        No   \n",
       "3              Unreachable   India  ...                        No   \n",
       "4        Converted to Lead   India  ...                        No   \n",
       "\n",
       "     Lead Profile    City Asymmetrique Activity Index  \\\n",
       "0             NaN     NaN                   02.Medium   \n",
       "1             NaN     NaN                   02.Medium   \n",
       "2  Potential Lead  Mumbai                   02.Medium   \n",
       "3             NaN  Mumbai                   02.Medium   \n",
       "4             NaN  Mumbai                   02.Medium   \n",
       "\n",
       "  Asymmetrique Profile Index Asymmetrique Activity Score  \\\n",
       "0                  02.Medium                        15.0   \n",
       "1                  02.Medium                        15.0   \n",
       "2                    01.High                        14.0   \n",
       "3                    01.High                        13.0   \n",
       "4                    01.High                        15.0   \n",
       "\n",
       "  Asymmetrique Profile Score I agree to pay the amount through cheque  \\\n",
       "0                       15.0                                       No   \n",
       "1                       15.0                                       No   \n",
       "2                       20.0                                       No   \n",
       "3                       17.0                                       No   \n",
       "4                       18.0                                       No   \n",
       "\n",
       "  A free copy of Mastering The Interview Last Notable Activity  \n",
       "0                                     No              Modified  \n",
       "1                                     No          Email Opened  \n",
       "2                                    Yes          Email Opened  \n",
       "3                                     No              Modified  \n",
       "4                                     No              Modified  \n",
       "\n",
       "[5 rows x 35 columns]"
      ]
     },
     "execution_count": 13,
     "metadata": {},
     "output_type": "execute_result"
    }
   ],
   "source": [
    "# Replace all 'Select' values in the dataframe with 'np.NaN'.\n",
    "data = data.replace('Select', np.nan)\n",
    "\n",
    "# Look at the head of the dataframe.\n",
    "data.head()"
   ]
  },
  {
   "cell_type": "markdown",
   "metadata": {},
   "source": [
    "### CALUCULATING THE NULL VALUES"
   ]
  },
  {
   "cell_type": "markdown",
   "metadata": {},
   "source": [
    "<p style=\"font-family: Arial; font-size:1.0em;color:blue;\">  Null values in the dataframe will effect the analysis and will not be helpful in securing the accurate results. So, we first count the percentage of Null values in each column of the dataframe and deleting the desired based on futher analyis."
   ]
  },
  {
   "cell_type": "code",
   "execution_count": 14,
   "metadata": {},
   "outputs": [
    {
     "data": {
      "text/plain": [
       "Lead Origin                                       0.00\n",
       "Lead Source                                       0.39\n",
       "Do Not Email                                      0.00\n",
       "Do Not Call                                       0.00\n",
       "Converted                                         0.00\n",
       "TotalVisits                                       1.48\n",
       "Total Time Spent on Website                       0.00\n",
       "Page Views Per Visit                              1.48\n",
       "Last Activity                                     1.11\n",
       "Country                                          26.63\n",
       "Specialization                                   36.58\n",
       "How did you hear about X Education               78.46\n",
       "What is your current occupation                  29.11\n",
       "What matters most to you in choosing a course    29.32\n",
       "Search                                            0.00\n",
       "Magazine                                          0.00\n",
       "Newspaper Article                                 0.00\n",
       "X Education Forums                                0.00\n",
       "Newspaper                                         0.00\n",
       "Digital Advertisement                             0.00\n",
       "Through Recommendations                           0.00\n",
       "Receive More Updates About Our Courses            0.00\n",
       "Tags                                             36.29\n",
       "Lead Quality                                     51.59\n",
       "Update me on Supply Chain Content                 0.00\n",
       "Get updates on DM Content                         0.00\n",
       "Lead Profile                                     74.19\n",
       "City                                             39.71\n",
       "Asymmetrique Activity Index                      45.65\n",
       "Asymmetrique Profile Index                       45.65\n",
       "Asymmetrique Activity Score                      45.65\n",
       "Asymmetrique Profile Score                       45.65\n",
       "I agree to pay the amount through cheque          0.00\n",
       "A free copy of Mastering The Interview            0.00\n",
       "Last Notable Activity                             0.00\n",
       "dtype: float64"
      ]
     },
     "execution_count": 14,
     "metadata": {},
     "output_type": "execute_result"
    }
   ],
   "source": [
    "# Get the column-wise null values.\n",
    "columns_missingper = (data.isnull().mean()*100).round(2)\n",
    "columns_missingper"
   ]
  },
  {
   "cell_type": "markdown",
   "metadata": {},
   "source": [
    "<p style=\"font-family: Arial; font-size:1.0em;color:blue;\">  From the above data, we will consider the threshold value as 45 percent. i.e. all the columns which have more than 45 percent missing values will be dropped."
   ]
  },
  {
   "cell_type": "code",
   "execution_count": 15,
   "metadata": {},
   "outputs": [
    {
     "data": {
      "text/plain": [
       "['How did you hear about X Education',\n",
       " 'Lead Quality',\n",
       " 'Lead Profile',\n",
       " 'Asymmetrique Activity Index',\n",
       " 'Asymmetrique Profile Index',\n",
       " 'Asymmetrique Activity Score',\n",
       " 'Asymmetrique Profile Score']"
      ]
     },
     "execution_count": 15,
     "metadata": {},
     "output_type": "execute_result"
    }
   ],
   "source": [
    "# Get the columns with more than 45% missing values.\n",
    "columns_todrop = columns_missingper[columns_missingper.sort_values(ascending = False) > 45].index.tolist()\n",
    "columns_todrop"
   ]
  },
  {
   "cell_type": "code",
   "execution_count": 16,
   "metadata": {},
   "outputs": [
    {
     "data": {
      "text/plain": [
       "Index(['Lead Origin', 'Lead Source', 'Do Not Email', 'Do Not Call',\n",
       "       'Converted', 'TotalVisits', 'Total Time Spent on Website',\n",
       "       'Page Views Per Visit', 'Last Activity', 'Country', 'Specialization',\n",
       "       'What is your current occupation',\n",
       "       'What matters most to you in choosing a course', 'Search', 'Magazine',\n",
       "       'Newspaper Article', 'X Education Forums', 'Newspaper',\n",
       "       'Digital Advertisement', 'Through Recommendations',\n",
       "       'Receive More Updates About Our Courses', 'Tags',\n",
       "       'Update me on Supply Chain Content', 'Get updates on DM Content',\n",
       "       'City', 'I agree to pay the amount through cheque',\n",
       "       'A free copy of Mastering The Interview', 'Last Notable Activity'],\n",
       "      dtype='object')"
      ]
     },
     "execution_count": 16,
     "metadata": {},
     "output_type": "execute_result"
    }
   ],
   "source": [
    "# Drop the columns with more than 45% missing values.\n",
    "data.drop(columns_todrop, axis = 1, inplace = True)\n",
    "\n",
    "# Get the columns of the dataframe to confirm\n",
    "data.columns"
   ]
  },
  {
   "cell_type": "markdown",
   "metadata": {},
   "source": [
    "<p style=\"font-family: Arial; font-size:1.0em;color:blue;\">  There is a case where the data in the columns will be unevenly distributed having one column more skewed than the other. We will find multiple cases for this condition.<br>1. We will find those columns where there is only unique value and we will drop it.<br>2. We will find the columns which have only 2 unique values and find out if the data is skewed towards any one of the value and drop if necessary.<br>3. We will group together the low frequency values of a column as 'Other'. "
   ]
  },
  {
   "cell_type": "code",
   "execution_count": 17,
   "metadata": {},
   "outputs": [
    {
     "data": {
      "text/plain": [
       "Index(['Lead Origin', 'Lead Source', 'Do Not Email', 'Do Not Call',\n",
       "       'Last Activity', 'Country', 'Specialization',\n",
       "       'What is your current occupation',\n",
       "       'What matters most to you in choosing a course', 'Search', 'Magazine',\n",
       "       'Newspaper Article', 'X Education Forums', 'Newspaper',\n",
       "       'Digital Advertisement', 'Through Recommendations',\n",
       "       'Receive More Updates About Our Courses', 'Tags',\n",
       "       'Update me on Supply Chain Content', 'Get updates on DM Content',\n",
       "       'City', 'I agree to pay the amount through cheque',\n",
       "       'A free copy of Mastering The Interview', 'Last Notable Activity'],\n",
       "      dtype='object')"
      ]
     },
     "execution_count": 17,
     "metadata": {},
     "output_type": "execute_result"
    }
   ],
   "source": [
    "# Get the categorical columns of the dataframe into a list.\n",
    "cat_cols = data.select_dtypes(include=['object']).columns\n",
    "cat_cols"
   ]
  },
  {
   "cell_type": "code",
   "execution_count": 18,
   "metadata": {},
   "outputs": [
    {
     "data": {
      "text/plain": [
       "['Magazine',\n",
       " 'Receive More Updates About Our Courses',\n",
       " 'Update me on Supply Chain Content',\n",
       " 'Get updates on DM Content',\n",
       " 'I agree to pay the amount through cheque']"
      ]
     },
     "execution_count": 18,
     "metadata": {},
     "output_type": "execute_result"
    }
   ],
   "source": [
    "# First identify the columns with only one unique value.\n",
    "uniquevalues_1_cols = [col for col in cat_cols if len(data[col].unique()) == 1]\n",
    "uniquevalues_1_cols"
   ]
  },
  {
   "cell_type": "markdown",
   "metadata": {},
   "source": [
    "<p style=\"font-family: Arial; font-size:1.0em;color:blue;\">  The above are the columns where there is only unique value present. So, considering the column for analysing doesn't add any value. So, we drop the those columns."
   ]
  },
  {
   "cell_type": "code",
   "execution_count": 19,
   "metadata": {},
   "outputs": [
    {
     "data": {
      "text/plain": [
       "Index(['Lead Origin', 'Lead Source', 'Do Not Email', 'Do Not Call',\n",
       "       'Converted', 'TotalVisits', 'Total Time Spent on Website',\n",
       "       'Page Views Per Visit', 'Last Activity', 'Country', 'Specialization',\n",
       "       'What is your current occupation',\n",
       "       'What matters most to you in choosing a course', 'Search',\n",
       "       'Newspaper Article', 'X Education Forums', 'Newspaper',\n",
       "       'Digital Advertisement', 'Through Recommendations', 'Tags', 'City',\n",
       "       'A free copy of Mastering The Interview', 'Last Notable Activity'],\n",
       "      dtype='object')"
      ]
     },
     "execution_count": 19,
     "metadata": {},
     "output_type": "execute_result"
    }
   ],
   "source": [
    "# Drop the categorical columns with only one unique value.\n",
    "data.drop(uniquevalues_1_cols, axis=1, inplace=True)\n",
    "\n",
    "# Get the columns of the dataframe to confirm.\n",
    "data.columns"
   ]
  },
  {
   "cell_type": "code",
   "execution_count": 20,
   "metadata": {},
   "outputs": [
    {
     "data": {
      "text/plain": [
       "Index(['Lead Origin', 'Lead Source', 'Do Not Email', 'Do Not Call',\n",
       "       'Last Activity', 'Country', 'Specialization',\n",
       "       'What is your current occupation',\n",
       "       'What matters most to you in choosing a course', 'Search',\n",
       "       'Newspaper Article', 'X Education Forums', 'Newspaper',\n",
       "       'Digital Advertisement', 'Through Recommendations', 'Tags', 'City',\n",
       "       'A free copy of Mastering The Interview', 'Last Notable Activity'],\n",
       "      dtype='object')"
      ]
     },
     "execution_count": 20,
     "metadata": {},
     "output_type": "execute_result"
    }
   ],
   "source": [
    "# update the 'cat_cols' variable after dropping few to proceed further.\n",
    "cat_cols = data.select_dtypes(include=['object']).columns\n",
    "cat_cols"
   ]
  },
  {
   "cell_type": "code",
   "execution_count": 21,
   "metadata": {},
   "outputs": [
    {
     "data": {
      "text/plain": [
       "['Do Not Email',\n",
       " 'Do Not Call',\n",
       " 'Search',\n",
       " 'Newspaper Article',\n",
       " 'X Education Forums',\n",
       " 'Newspaper',\n",
       " 'Digital Advertisement',\n",
       " 'Through Recommendations',\n",
       " 'A free copy of Mastering The Interview']"
      ]
     },
     "execution_count": 21,
     "metadata": {},
     "output_type": "execute_result"
    }
   ],
   "source": [
    "# Now, identify the columns with 2 unique values and check the value counts.\n",
    "uniquevalues_2_cols = [col for col in cat_cols if len(data[col].unique()) == 2]\n",
    "uniquevalues_2_cols"
   ]
  },
  {
   "cell_type": "markdown",
   "metadata": {},
   "source": [
    "<p style=\"font-family: Arial; font-size:1.0em;color:blue;\">  The above are the columns where there only 2 unique values and find out if the data is skewed towards any one of the value."
   ]
  },
  {
   "cell_type": "code",
   "execution_count": 22,
   "metadata": {},
   "outputs": [
    {
     "name": "stdout",
     "output_type": "stream",
     "text": [
      "No     92.056277\n",
      "Yes     7.943723\n",
      "Name: Do Not Email, dtype: float64\n",
      "-----------------------------------------\n",
      "No     99.978355\n",
      "Yes     0.021645\n",
      "Name: Do Not Call, dtype: float64\n",
      "-----------------------------------------\n",
      "No     99.848485\n",
      "Yes     0.151515\n",
      "Name: Search, dtype: float64\n",
      "-----------------------------------------\n",
      "No     99.978355\n",
      "Yes     0.021645\n",
      "Name: Newspaper Article, dtype: float64\n",
      "-----------------------------------------\n",
      "No     99.989177\n",
      "Yes     0.010823\n",
      "Name: X Education Forums, dtype: float64\n",
      "-----------------------------------------\n",
      "No     99.989177\n",
      "Yes     0.010823\n",
      "Name: Newspaper, dtype: float64\n",
      "-----------------------------------------\n",
      "No     99.95671\n",
      "Yes     0.04329\n",
      "Name: Digital Advertisement, dtype: float64\n",
      "-----------------------------------------\n",
      "No     99.924242\n",
      "Yes     0.075758\n",
      "Name: Through Recommendations, dtype: float64\n",
      "-----------------------------------------\n",
      "No     68.744589\n",
      "Yes    31.255411\n",
      "Name: A free copy of Mastering The Interview, dtype: float64\n",
      "-----------------------------------------\n"
     ]
    }
   ],
   "source": [
    "# Get the value counts percentage for the columns with 3 unique values to check for skewness.\n",
    "for col in uniquevalues_2_cols:\n",
    "    print(data[col].value_counts(normalize=True)*100)\n",
    "    print(\"-----------------------------------------\")"
   ]
  },
  {
   "cell_type": "markdown",
   "metadata": {},
   "source": [
    "<p style=\"font-family: Arial; font-size:1.0em;color:blue;\">  From the above results, 'Do Not Email', 'Do Not Call', 'Search', 'Newspaper Article', 'X Education Forums',\n",
    "               'Newspaper', 'Digital Advertisement', 'Through Recommendations' columns are skewed towards one variable. So, considering this column for future analysis will make the model complex and also doesn't provide the accurate results for our quiries. So, we drop these columns."
   ]
  },
  {
   "cell_type": "code",
   "execution_count": 23,
   "metadata": {},
   "outputs": [
    {
     "data": {
      "text/plain": [
       "Index(['Lead Origin', 'Lead Source', 'Converted', 'TotalVisits',\n",
       "       'Total Time Spent on Website', 'Page Views Per Visit', 'Last Activity',\n",
       "       'Country', 'Specialization', 'What is your current occupation',\n",
       "       'What matters most to you in choosing a course', 'Tags', 'City',\n",
       "       'A free copy of Mastering The Interview', 'Last Notable Activity'],\n",
       "      dtype='object')"
      ]
     },
     "execution_count": 23,
     "metadata": {},
     "output_type": "execute_result"
    }
   ],
   "source": [
    "# By looking at the above result, let's drop all the highly skewed columns (>90%)\n",
    "skewed_cols = ['Do Not Email', 'Do Not Call', 'Search', 'Newspaper Article', 'X Education Forums',\n",
    "               'Newspaper', 'Digital Advertisement', 'Through Recommendations']\n",
    "\n",
    "# Drop the columns.\n",
    "data.drop(skewed_cols, axis=1, inplace=True)\n",
    "\n",
    "# Get the columns of the dataframe to confirm.\n",
    "data.columns"
   ]
  },
  {
   "cell_type": "code",
   "execution_count": 24,
   "metadata": {},
   "outputs": [
    {
     "data": {
      "text/plain": [
       "Index(['Lead Origin', 'Lead Source', 'Last Activity', 'Country',\n",
       "       'Specialization', 'What is your current occupation',\n",
       "       'What matters most to you in choosing a course', 'Tags', 'City',\n",
       "       'A free copy of Mastering The Interview', 'Last Notable Activity'],\n",
       "      dtype='object')"
      ]
     },
     "execution_count": 24,
     "metadata": {},
     "output_type": "execute_result"
    }
   ],
   "source": [
    "# update the 'cat_cols' variable after dropping few to proceed further.\n",
    "cat_cols = data.select_dtypes(include=['object']).columns\n",
    "cat_cols"
   ]
  },
  {
   "cell_type": "code",
   "execution_count": 25,
   "metadata": {
    "scrolled": false
   },
   "outputs": [
    {
     "name": "stdout",
     "output_type": "stream",
     "text": [
      "Landing Page Submission    52.878788\n",
      "API                        38.744589\n",
      "Lead Add Form               7.770563\n",
      "Lead Import                 0.595238\n",
      "Quick Add Form              0.010823\n",
      "Name: Lead Origin, dtype: float64\n",
      "-----------------------------------------\n",
      "Google               31.160365\n",
      "Direct Traffic       27.629292\n",
      "Olark Chat           19.067797\n",
      "Organic Search       12.538027\n",
      "Reference             5.801825\n",
      "Welingak Website      1.542807\n",
      "Referral Sites        1.358105\n",
      "Facebook              0.597566\n",
      "bing                  0.065189\n",
      "google                0.054324\n",
      "Click2call            0.043459\n",
      "Press_Release         0.021730\n",
      "Social Media          0.021730\n",
      "Live Chat             0.021730\n",
      "WeLearn               0.010865\n",
      "welearnblog_Home      0.010865\n",
      "youtubechannel        0.010865\n",
      "blog                  0.010865\n",
      "NC_EDM                0.010865\n",
      "Pay per Click Ads     0.010865\n",
      "testone               0.010865\n",
      "Name: Lead Source, dtype: float64\n",
      "-----------------------------------------\n",
      "Email Opened                    37.616285\n",
      "SMS Sent                        30.042684\n",
      "Olark Chat Conversation         10.649010\n",
      "Page Visited on Website          7.004487\n",
      "Converted to Lead                4.684251\n",
      "Email Bounced                    3.567911\n",
      "Email Link Clicked               2.922185\n",
      "Form Submitted on Website        1.269563\n",
      "Unreachable                      1.017840\n",
      "Unsubscribed                     0.667615\n",
      "Had a Phone Conversation         0.328335\n",
      "Approached upfront               0.098501\n",
      "View in browser link Clicked     0.065667\n",
      "Email Marked Spam                0.021889\n",
      "Email Received                   0.021889\n",
      "Visited Booth in Tradeshow       0.010945\n",
      "Resubscribed to emails           0.010945\n",
      "Name: Last Activity, dtype: float64\n",
      "-----------------------------------------\n",
      "India                   95.766337\n",
      "United States            1.017849\n",
      "United Arab Emirates     0.781826\n",
      "Singapore                0.354035\n",
      "Saudi Arabia             0.309780\n",
      "United Kingdom           0.221272\n",
      "Australia                0.191769\n",
      "Qatar                    0.147514\n",
      "Bahrain                  0.103260\n",
      "Hong Kong                0.103260\n",
      "Oman                     0.088509\n",
      "France                   0.088509\n",
      "unknown                  0.073757\n",
      "Kuwait                   0.059006\n",
      "Nigeria                  0.059006\n",
      "Canada                   0.059006\n",
      "South Africa             0.059006\n",
      "Germany                  0.059006\n",
      "Sweden                   0.044254\n",
      "Belgium                  0.029503\n",
      "China                    0.029503\n",
      "Italy                    0.029503\n",
      "Asia/Pacific Region      0.029503\n",
      "Bangladesh               0.029503\n",
      "Philippines              0.029503\n",
      "Uganda                   0.029503\n",
      "Ghana                    0.029503\n",
      "Netherlands              0.029503\n",
      "Liberia                  0.014751\n",
      "Russia                   0.014751\n",
      "Tanzania                 0.014751\n",
      "Switzerland              0.014751\n",
      "Sri Lanka                0.014751\n",
      "Denmark                  0.014751\n",
      "Vietnam                  0.014751\n",
      "Kenya                    0.014751\n",
      "Indonesia                0.014751\n",
      "Malaysia                 0.014751\n",
      "Name: Country, dtype: float64\n",
      "-----------------------------------------\n",
      "Finance Management                   16.655290\n",
      "Human Resource Management            14.470990\n",
      "Marketing Management                 14.300341\n",
      "Operations Management                 8.583618\n",
      "Business Administration               6.877133\n",
      "IT Projects Management                6.245734\n",
      "Supply Chain Management               5.955631\n",
      "Banking, Investment And Insurance     5.767918\n",
      "Travel and Tourism                    3.464164\n",
      "Media and Advertising                 3.464164\n",
      "International Business                3.037543\n",
      "Healthcare Management                 2.713311\n",
      "Hospitality Management                1.945392\n",
      "E-COMMERCE                            1.911263\n",
      "Retail Management                     1.706485\n",
      "Rural and Agribusiness                1.245734\n",
      "E-Business                            0.972696\n",
      "Services Excellence                   0.682594\n",
      "Name: Specialization, dtype: float64\n",
      "-----------------------------------------\n",
      "Unemployed              85.496183\n",
      "Working Professional    10.778626\n",
      "Student                  3.206107\n",
      "Other                    0.244275\n",
      "Housewife                0.152672\n",
      "Businessman              0.122137\n",
      "Name: What is your current occupation, dtype: float64\n",
      "-----------------------------------------\n",
      "Better Career Prospects      99.954065\n",
      "Flexibility & Convenience     0.030623\n",
      "Other                         0.015312\n",
      "Name: What matters most to you in choosing a course, dtype: float64\n",
      "-----------------------------------------\n",
      "Will revert after reading the email                  35.196195\n",
      "Ringing                                              20.434856\n",
      "Interested in other courses                           8.714116\n",
      "Already a student                                     7.898760\n",
      "Closed by Horizzon                                    6.081196\n",
      "switched off                                          4.076779\n",
      "Busy                                                  3.159504\n",
      "Lost to EINS                                          2.972652\n",
      "Not doing further education                           2.463054\n",
      "Interested  in full time MBA                          1.987430\n",
      "Graduation in progress                                1.885510\n",
      "invalid number                                        1.409886\n",
      "Diploma holder (Not Eligible)                         1.070155\n",
      "wrong number given                                    0.798369\n",
      "opp hangup                                            0.560557\n",
      "number not provided                                   0.458638\n",
      "in touch with EINS                                    0.203839\n",
      "Lost to Others                                        0.118906\n",
      "Still Thinking                                        0.101919\n",
      "Want to take admission but has financial problems     0.101919\n",
      "In confusion whether part time or DLP                 0.084933\n",
      "Interested in Next batch                              0.084933\n",
      "Lateral student                                       0.050960\n",
      "University not recognized                             0.033973\n",
      "Shall take in the next coming month                   0.033973\n",
      "Recognition issue (DEC approval)                      0.016987\n",
      "Name: Tags, dtype: float64\n",
      "-----------------------------------------\n",
      "Mumbai                         57.835218\n",
      "Thane & Outskirts              13.498474\n",
      "Other Cities                   12.313768\n",
      "Other Cities of Maharashtra     8.203195\n",
      "Other Metro Cities              6.821038\n",
      "Tier II Cities                  1.328307\n",
      "Name: City, dtype: float64\n",
      "-----------------------------------------\n",
      "No     68.744589\n",
      "Yes    31.255411\n",
      "Name: A free copy of Mastering The Interview, dtype: float64\n",
      "-----------------------------------------\n",
      "Modified                        36.872294\n",
      "Email Opened                    30.595238\n",
      "SMS Sent                        23.506494\n",
      "Page Visited on Website          3.441558\n",
      "Olark Chat Conversation          1.980519\n",
      "Email Link Clicked               1.872294\n",
      "Email Bounced                    0.649351\n",
      "Unsubscribed                     0.508658\n",
      "Unreachable                      0.346320\n",
      "Had a Phone Conversation         0.151515\n",
      "Email Marked Spam                0.021645\n",
      "Form Submitted on Website        0.010823\n",
      "Email Received                   0.010823\n",
      "Resubscribed to emails           0.010823\n",
      "Approached upfront               0.010823\n",
      "View in browser link Clicked     0.010823\n",
      "Name: Last Notable Activity, dtype: float64\n",
      "-----------------------------------------\n"
     ]
    }
   ],
   "source": [
    "# Get the value counts percentage for the remaining columns to check for skewness.\n",
    "for col in cat_cols:\n",
    "    print(data[col].value_counts(normalize=True)*100)\n",
    "    print(\"-----------------------------------------\")"
   ]
  },
  {
   "cell_type": "markdown",
   "metadata": {},
   "source": [
    "<p style=\"font-family: Arial; font-size:1.0em;color:blue;\"> From the above result, the columns 'Country', 'What matters most to you in choosing a course' and 'What is your current occupation' are highly skewed. So, we drop those columns as presense of that data for furthere analysis doesn't add any value and also doesn't provide accurate results."
   ]
  },
  {
   "cell_type": "code",
   "execution_count": 26,
   "metadata": {},
   "outputs": [
    {
     "data": {
      "text/plain": [
       "Index(['Lead Origin', 'Lead Source', 'Converted', 'TotalVisits',\n",
       "       'Total Time Spent on Website', 'Page Views Per Visit', 'Last Activity',\n",
       "       'Specialization', 'Tags', 'City',\n",
       "       'A free copy of Mastering The Interview', 'Last Notable Activity'],\n",
       "      dtype='object')"
      ]
     },
     "execution_count": 26,
     "metadata": {},
     "output_type": "execute_result"
    }
   ],
   "source": [
    "# Let's drop these 2 column.\n",
    "data.drop(['Country', 'What matters most to you in choosing a course', 'What is your current occupation'], axis=1, inplace=True)\n",
    "\n",
    "# Get the columns of the dataframe to confirm.\n",
    "data.columns"
   ]
  },
  {
   "cell_type": "markdown",
   "metadata": {},
   "source": [
    "<p style=\"font-family: Arial; font-size:1.0em;color:blue;\">  Tags is not an important column because it is generated after someone from the sales team gets in touch with the lead. It's a column that is manually filled up by the Sales team.<br>\n",
    "Since we are doing the modelling to predict to whom to call, Tags column will not be useful.<br>\n",
    "Hence we are dropping the tags column.<br>Similarly, Last Notable Activity is an intermediate column which is an update while the sales team representative is in touch with the lead. So, even this column will not be useful."
   ]
  },
  {
   "cell_type": "code",
   "execution_count": 27,
   "metadata": {},
   "outputs": [
    {
     "data": {
      "text/plain": [
       "Index(['Lead Origin', 'Lead Source', 'Converted', 'TotalVisits',\n",
       "       'Total Time Spent on Website', 'Page Views Per Visit', 'Last Activity',\n",
       "       'Specialization', 'City', 'A free copy of Mastering The Interview'],\n",
       "      dtype='object')"
      ]
     },
     "execution_count": 27,
     "metadata": {},
     "output_type": "execute_result"
    }
   ],
   "source": [
    "# Drop the 'Tags' and 'Last Notable Activity' columns.\n",
    "data.drop(['Tags', 'Last Notable Activity'], axis=1, inplace=True)\n",
    "\n",
    "# Get the columns of the dataframe to confirm.\n",
    "data.columns"
   ]
  },
  {
   "cell_type": "code",
   "execution_count": 28,
   "metadata": {},
   "outputs": [
    {
     "data": {
      "text/plain": [
       "(9240, 10)"
      ]
     },
     "execution_count": 28,
     "metadata": {},
     "output_type": "execute_result"
    }
   ],
   "source": [
    "# Look at the shape of the dataframe after dropping columns.\n",
    "data.shape"
   ]
  },
  {
   "cell_type": "code",
   "execution_count": 29,
   "metadata": {},
   "outputs": [
    {
     "data": {
      "text/plain": [
       "Lead Origin                                0.00\n",
       "Lead Source                                0.39\n",
       "Converted                                  0.00\n",
       "TotalVisits                                1.48\n",
       "Total Time Spent on Website                0.00\n",
       "Page Views Per Visit                       1.48\n",
       "Last Activity                              1.11\n",
       "Specialization                            36.58\n",
       "City                                      39.71\n",
       "A free copy of Mastering The Interview     0.00\n",
       "dtype: float64"
      ]
     },
     "execution_count": 29,
     "metadata": {},
     "output_type": "execute_result"
    }
   ],
   "source": [
    "# Again, calculate the column wise null value percentage.\n",
    "(data.isnull().mean()*100).round(2)"
   ]
  },
  {
   "cell_type": "markdown",
   "metadata": {},
   "source": [
    "<p style=\"font-family: Arial; font-size:1.0em;color:blue;\">Now that we successfully dropped all the highly skewed columns, let's proceed with the missing value imputation if any."
   ]
  },
  {
   "cell_type": "markdown",
   "metadata": {},
   "source": [
    "### MISSING VALUE IMPUTATION"
   ]
  },
  {
   "cell_type": "markdown",
   "metadata": {},
   "source": [
    "<p style=\"font-family: Arial; font-size:1.0em;color:blue;\">Below is the percentage of Null columns in the numerical columns."
   ]
  },
  {
   "cell_type": "code",
   "execution_count": 30,
   "metadata": {},
   "outputs": [
    {
     "data": {
      "text/plain": [
       "TotalVisits                    1.48\n",
       "Total Time Spent on Website    0.00\n",
       "Page Views Per Visit           1.48\n",
       "dtype: float64"
      ]
     },
     "execution_count": 30,
     "metadata": {},
     "output_type": "execute_result"
    }
   ],
   "source": [
    "# let's first pick up the numerical columns.\n",
    "num_columns=['TotalVisits','Total Time Spent on Website','Page Views Per Visit']\n",
    "\n",
    "# Calculate the missing value percenage in the numerical columns.\n",
    "(data[num_columns].isnull().mean()*100).round(2)"
   ]
  },
  {
   "cell_type": "markdown",
   "metadata": {},
   "source": [
    "<p style=\"font-family: Arial; font-size:1.0em;color:blue;\">As the perfcentage of missing values is very low. We can eiether replace it with mean of median of that perticular column. But, that depends upon the impact of Outliers in those Columns"
   ]
  },
  {
   "cell_type": "code",
   "execution_count": 31,
   "metadata": {},
   "outputs": [
    {
     "data": {
      "text/html": [
       "<div>\n",
       "<style scoped>\n",
       "    .dataframe tbody tr th:only-of-type {\n",
       "        vertical-align: middle;\n",
       "    }\n",
       "\n",
       "    .dataframe tbody tr th {\n",
       "        vertical-align: top;\n",
       "    }\n",
       "\n",
       "    .dataframe thead th {\n",
       "        text-align: right;\n",
       "    }\n",
       "</style>\n",
       "<table border=\"1\" class=\"dataframe\">\n",
       "  <thead>\n",
       "    <tr style=\"text-align: right;\">\n",
       "      <th></th>\n",
       "      <th>TotalVisits</th>\n",
       "      <th>Total Time Spent on Website</th>\n",
       "      <th>Page Views Per Visit</th>\n",
       "    </tr>\n",
       "  </thead>\n",
       "  <tbody>\n",
       "    <tr>\n",
       "      <td>count</td>\n",
       "      <td>9103.000000</td>\n",
       "      <td>9240.000000</td>\n",
       "      <td>9103.000000</td>\n",
       "    </tr>\n",
       "    <tr>\n",
       "      <td>mean</td>\n",
       "      <td>3.445238</td>\n",
       "      <td>487.698268</td>\n",
       "      <td>2.362820</td>\n",
       "    </tr>\n",
       "    <tr>\n",
       "      <td>std</td>\n",
       "      <td>4.854853</td>\n",
       "      <td>548.021466</td>\n",
       "      <td>2.161418</td>\n",
       "    </tr>\n",
       "    <tr>\n",
       "      <td>min</td>\n",
       "      <td>0.000000</td>\n",
       "      <td>0.000000</td>\n",
       "      <td>0.000000</td>\n",
       "    </tr>\n",
       "    <tr>\n",
       "      <td>5%</td>\n",
       "      <td>0.000000</td>\n",
       "      <td>0.000000</td>\n",
       "      <td>0.000000</td>\n",
       "    </tr>\n",
       "    <tr>\n",
       "      <td>25%</td>\n",
       "      <td>1.000000</td>\n",
       "      <td>12.000000</td>\n",
       "      <td>1.000000</td>\n",
       "    </tr>\n",
       "    <tr>\n",
       "      <td>50%</td>\n",
       "      <td>3.000000</td>\n",
       "      <td>248.000000</td>\n",
       "      <td>2.000000</td>\n",
       "    </tr>\n",
       "    <tr>\n",
       "      <td>75%</td>\n",
       "      <td>5.000000</td>\n",
       "      <td>936.000000</td>\n",
       "      <td>3.000000</td>\n",
       "    </tr>\n",
       "    <tr>\n",
       "      <td>95%</td>\n",
       "      <td>10.000000</td>\n",
       "      <td>1562.000000</td>\n",
       "      <td>6.000000</td>\n",
       "    </tr>\n",
       "    <tr>\n",
       "      <td>99%</td>\n",
       "      <td>17.000000</td>\n",
       "      <td>1840.610000</td>\n",
       "      <td>9.000000</td>\n",
       "    </tr>\n",
       "    <tr>\n",
       "      <td>max</td>\n",
       "      <td>251.000000</td>\n",
       "      <td>2272.000000</td>\n",
       "      <td>55.000000</td>\n",
       "    </tr>\n",
       "  </tbody>\n",
       "</table>\n",
       "</div>"
      ],
      "text/plain": [
       "       TotalVisits  Total Time Spent on Website  Page Views Per Visit\n",
       "count  9103.000000                  9240.000000           9103.000000\n",
       "mean      3.445238                   487.698268              2.362820\n",
       "std       4.854853                   548.021466              2.161418\n",
       "min       0.000000                     0.000000              0.000000\n",
       "5%        0.000000                     0.000000              0.000000\n",
       "25%       1.000000                    12.000000              1.000000\n",
       "50%       3.000000                   248.000000              2.000000\n",
       "75%       5.000000                   936.000000              3.000000\n",
       "95%      10.000000                  1562.000000              6.000000\n",
       "99%      17.000000                  1840.610000              9.000000\n",
       "max     251.000000                  2272.000000             55.000000"
      ]
     },
     "execution_count": 31,
     "metadata": {},
     "output_type": "execute_result"
    }
   ],
   "source": [
    "# Let's look at the summary statistics.\n",
    "data[num_columns].describe(percentiles=[0.05, 0.25, 0.50, 0.75, 0.95, 0.99])"
   ]
  },
  {
   "cell_type": "markdown",
   "metadata": {},
   "source": [
    "<p style=\"font-family: Arial; font-size:1.0em;color:blue;\">On looking at the summary statistics, we have observed that outliers are present in the data. So, it is better to impute with median instead of mean."
   ]
  },
  {
   "cell_type": "code",
   "execution_count": 32,
   "metadata": {},
   "outputs": [
    {
     "data": {
      "text/plain": [
       "TotalVisits                    0.0\n",
       "Total Time Spent on Website    0.0\n",
       "Page Views Per Visit           0.0\n",
       "dtype: float64"
      ]
     },
     "execution_count": 32,
     "metadata": {},
     "output_type": "execute_result"
    }
   ],
   "source": [
    "# Let's impute the missing values in the numerical columns with mean.\n",
    "data['TotalVisits'] = data['TotalVisits'].fillna((data['TotalVisits'].median()))\n",
    "data['Page Views Per Visit'] = data['Page Views Per Visit'].fillna((data['Page Views Per Visit'].median()))\n",
    "\n",
    "# Again, calculate the missing value percetage in the numerical columns to confirm.\n",
    "(data[num_columns].isnull().mean()*100).round(2)"
   ]
  },
  {
   "cell_type": "markdown",
   "metadata": {},
   "source": [
    "### OUTLIER ANALYSIS AND TREATMENT"
   ]
  },
  {
   "cell_type": "code",
   "execution_count": 33,
   "metadata": {},
   "outputs": [
    {
     "data": {
      "image/png": "[encoded data removed]",
      "text/plain": [
       "<Figure size 1296x432 with 3 Axes>"
      ]
     },
     "metadata": {
      "needs_background": "light"
     },
     "output_type": "display_data"
    }
   ],
   "source": [
    "# Plot the individual boxplots for all the numerical attributes.\n",
    "plt.figure(figsize=(18,6))\n",
    "num_columns=['TotalVisits', 'Total Time Spent on Website', 'Page Views Per Visit']\n",
    "for i in enumerate(num_columns): \n",
    "    ax = plt.subplot(1, 3, i[0]+1)\n",
    "    sns.boxplot(y=i[1], data=data)\n",
    "plt.show()"
   ]
  },
  {
   "cell_type": "markdown",
   "metadata": {},
   "source": [
    "<p style=\"font-family: Arial; font-size:1.0em;color:blue;\"> There are good number of outliers in 'TotalVisits' and 'Page Views Per Visit' columns. So, we remove the ouliers in those columns.<br><p style=\"font-family: Arial; font-size:1.0em;color:blue;\">It is clear from the above plots that there are outliers in the data. This will effect the data while analyzing and doesn't provide accurate results.<br>So, inorder to overcome the problem of outliers, we create the 2 quantiles q1 and q2 for 25th and 75th percentile and find the interquantile range iqr.<br>Then, we consider the dataframe with all the rows greater than l=(q1-1.5*iqr) and less than h=(q1+1.5*iqr)<br> All the values which has the values greater than l and h are considered as the outliers and are dropped out from the dataframe.</p>"
   ]
  },
  {
   "cell_type": "code",
   "execution_count": 34,
   "metadata": {},
   "outputs": [],
   "source": [
    "# Create a function for removing the outliers.\n",
    "def remove_outlier(df, cols):\n",
    "    q1 = df[cols].quantile(0.25)\n",
    "    q3 = df[cols].quantile(0.75)\n",
    "    \n",
    "    # Interquartile range\n",
    "    IQR = q3-q1\n",
    "    \n",
    "    l  = q1-1.5*IQR\n",
    "    h = q3+1.5*IQR\n",
    "    df = df[~((df[cols] < l) | (df[cols] > h)).any(axis=1)]\n",
    "    return df"
   ]
  },
  {
   "cell_type": "code",
   "execution_count": 35,
   "metadata": {},
   "outputs": [],
   "source": [
    "# Remove the outliers.\n",
    "data = remove_outlier(data, ['TotalVisits', 'Page Views Per Visit'])"
   ]
  },
  {
   "cell_type": "code",
   "execution_count": 36,
   "metadata": {},
   "outputs": [
    {
     "data": {
      "image/png": "[encoded data removed]",
      "text/plain": [
       "<Figure size 1296x432 with 3 Axes>"
      ]
     },
     "metadata": {
      "needs_background": "light"
     },
     "output_type": "display_data"
    }
   ],
   "source": [
    "# Plot the individual boxplots for all the numerical attributes.\n",
    "plt.figure(figsize=(18,6))\n",
    "num_columns=['TotalVisits', 'Total Time Spent on Website', 'Page Views Per Visit']\n",
    "for i in enumerate(num_columns): \n",
    "    ax = plt.subplot(1, 3, i[0]+1)\n",
    "    sns.boxplot(y=i[1], data=data)\n",
    "plt.show()"
   ]
  },
  {
   "cell_type": "markdown",
   "metadata": {},
   "source": [
    "<p style=\"font-family: Arial; font-size:1.0em;color:blue;\"> The above boxplots show the distribution of the numerical columns after removing the outliers."
   ]
  },
  {
   "cell_type": "code",
   "execution_count": 37,
   "metadata": {},
   "outputs": [
    {
     "data": {
      "text/plain": [
       "Lead Origin                                0.00\n",
       "Lead Source                                0.41\n",
       "Converted                                  0.00\n",
       "TotalVisits                                0.00\n",
       "Total Time Spent on Website                0.00\n",
       "Page Views Per Visit                       0.00\n",
       "Last Activity                              1.19\n",
       "Specialization                            38.01\n",
       "City                                      41.28\n",
       "A free copy of Mastering The Interview     0.00\n",
       "dtype: float64"
      ]
     },
     "execution_count": 37,
     "metadata": {},
     "output_type": "execute_result"
    }
   ],
   "source": [
    "# Let's again look at the missing value percentages.\n",
    "(data.isnull().mean()*100).round(2)"
   ]
  },
  {
   "cell_type": "markdown",
   "metadata": {},
   "source": [
    "<p style=\"font-family: Arial; font-size:1.0em;color:blue;\">  Now, we have to replace the missing values in the categorical features. We can see that there are few features where the percentage of missing values is very less. For those features we replace the null values with mode of that perticaulr column. But, for the rows where the missing value percentage is more, we replace the null values with a special category called 'Not Specified'."
   ]
  },
  {
   "cell_type": "code",
   "execution_count": 38,
   "metadata": {},
   "outputs": [
    {
     "data": {
      "text/plain": [
       "Lead Origin                                0.00\n",
       "Lead Source                                0.00\n",
       "Converted                                  0.00\n",
       "TotalVisits                                0.00\n",
       "Total Time Spent on Website                0.00\n",
       "Page Views Per Visit                       0.00\n",
       "Last Activity                              0.00\n",
       "Specialization                            38.01\n",
       "City                                      41.28\n",
       "A free copy of Mastering The Interview     0.00\n",
       "dtype: float64"
      ]
     },
     "execution_count": 38,
     "metadata": {},
     "output_type": "execute_result"
    }
   ],
   "source": [
    "# Let's impute the less percentage of missing value column 'Lead Source' and 'Last Activity' with their mode.\n",
    "data['Lead Source'].fillna('Google', inplace=True)\n",
    "data['Last Activity'].fillna('Email Opened', inplace=True)\n",
    "\n",
    "# Again look at the missing value percentages to confirm.\n",
    "(data.isnull().mean()*100).round(2)"
   ]
  },
  {
   "cell_type": "code",
   "execution_count": 39,
   "metadata": {},
   "outputs": [
    {
     "data": {
      "text/plain": [
       "Lead Origin                               0.0\n",
       "Lead Source                               0.0\n",
       "Converted                                 0.0\n",
       "TotalVisits                               0.0\n",
       "Total Time Spent on Website               0.0\n",
       "Page Views Per Visit                      0.0\n",
       "Last Activity                             0.0\n",
       "Specialization                            0.0\n",
       "City                                      0.0\n",
       "A free copy of Mastering The Interview    0.0\n",
       "dtype: float64"
      ]
     },
     "execution_count": 39,
     "metadata": {},
     "output_type": "execute_result"
    }
   ],
   "source": [
    "# Finally, fill the missing values with 'Not Specified' -> let's drop them while creating dummy variables.\n",
    "# This is done since imputing with mode will lead to skewness in the data.\n",
    "data = data.replace(np.nan, 'Not Specified')\n",
    "\n",
    "# Again look at the missing value percentages to confirm.\n",
    "(data.isnull().mean()*100).round(2)"
   ]
  },
  {
   "cell_type": "markdown",
   "metadata": {},
   "source": [
    "<p style=\"font-family: Arial; font-size:1.0em;color:blue;\">  Finally, all the missing values are filled with respective modifications!"
   ]
  },
  {
   "cell_type": "code",
   "execution_count": 40,
   "metadata": {},
   "outputs": [
    {
     "data": {
      "text/plain": [
       "93.93"
      ]
     },
     "execution_count": 40,
     "metadata": {},
     "output_type": "execute_result"
    }
   ],
   "source": [
    "# Let's check the percentage of rows retained after cleaning activity.\n",
    "round(len(data)/9240*100, 2)"
   ]
  },
  {
   "cell_type": "code",
   "execution_count": 41,
   "metadata": {},
   "outputs": [
    {
     "data": {
      "text/plain": [
       "0    61.61\n",
       "1    38.39\n",
       "Name: Converted, dtype: float64"
      ]
     },
     "execution_count": 41,
     "metadata": {},
     "output_type": "execute_result"
    }
   ],
   "source": [
    "# Let's check if there is any data imbalance on the target variable.\n",
    "data['Converted'].value_counts(normalize=True).round(4)*100"
   ]
  },
  {
   "cell_type": "markdown",
   "metadata": {},
   "source": [
    "<p style=\"font-family: Arial; font-size:1.0em;color:blue;\">  As we can see, the above information states that the conversion rate is around 62 percent  and the other is 38 percent. "
   ]
  },
  {
   "cell_type": "markdown",
   "metadata": {},
   "source": [
    "### EXPLORATORY DATA ANALYSIS"
   ]
  },
  {
   "cell_type": "code",
   "execution_count": 42,
   "metadata": {},
   "outputs": [
    {
     "data": {
      "text/html": [
       "<div>\n",
       "<style scoped>\n",
       "    .dataframe tbody tr th:only-of-type {\n",
       "        vertical-align: middle;\n",
       "    }\n",
       "\n",
       "    .dataframe tbody tr th {\n",
       "        vertical-align: top;\n",
       "    }\n",
       "\n",
       "    .dataframe thead th {\n",
       "        text-align: right;\n",
       "    }\n",
       "</style>\n",
       "<table border=\"1\" class=\"dataframe\">\n",
       "  <thead>\n",
       "    <tr style=\"text-align: right;\">\n",
       "      <th></th>\n",
       "      <th>Lead Origin</th>\n",
       "      <th>Lead Source</th>\n",
       "      <th>Converted</th>\n",
       "      <th>TotalVisits</th>\n",
       "      <th>Total Time Spent on Website</th>\n",
       "      <th>Page Views Per Visit</th>\n",
       "      <th>Last Activity</th>\n",
       "      <th>Specialization</th>\n",
       "      <th>City</th>\n",
       "      <th>A free copy of Mastering The Interview</th>\n",
       "    </tr>\n",
       "  </thead>\n",
       "  <tbody>\n",
       "    <tr>\n",
       "      <td>0</td>\n",
       "      <td>API</td>\n",
       "      <td>Olark Chat</td>\n",
       "      <td>0</td>\n",
       "      <td>0.0</td>\n",
       "      <td>0</td>\n",
       "      <td>0.0</td>\n",
       "      <td>Page Visited on Website</td>\n",
       "      <td>Not Specified</td>\n",
       "      <td>Not Specified</td>\n",
       "      <td>No</td>\n",
       "    </tr>\n",
       "    <tr>\n",
       "      <td>1</td>\n",
       "      <td>API</td>\n",
       "      <td>Organic Search</td>\n",
       "      <td>0</td>\n",
       "      <td>5.0</td>\n",
       "      <td>674</td>\n",
       "      <td>2.5</td>\n",
       "      <td>Email Opened</td>\n",
       "      <td>Not Specified</td>\n",
       "      <td>Not Specified</td>\n",
       "      <td>No</td>\n",
       "    </tr>\n",
       "    <tr>\n",
       "      <td>2</td>\n",
       "      <td>Landing Page Submission</td>\n",
       "      <td>Direct Traffic</td>\n",
       "      <td>1</td>\n",
       "      <td>2.0</td>\n",
       "      <td>1532</td>\n",
       "      <td>2.0</td>\n",
       "      <td>Email Opened</td>\n",
       "      <td>Business Administration</td>\n",
       "      <td>Mumbai</td>\n",
       "      <td>Yes</td>\n",
       "    </tr>\n",
       "    <tr>\n",
       "      <td>3</td>\n",
       "      <td>Landing Page Submission</td>\n",
       "      <td>Direct Traffic</td>\n",
       "      <td>0</td>\n",
       "      <td>1.0</td>\n",
       "      <td>305</td>\n",
       "      <td>1.0</td>\n",
       "      <td>Unreachable</td>\n",
       "      <td>Media and Advertising</td>\n",
       "      <td>Mumbai</td>\n",
       "      <td>No</td>\n",
       "    </tr>\n",
       "    <tr>\n",
       "      <td>4</td>\n",
       "      <td>Landing Page Submission</td>\n",
       "      <td>Google</td>\n",
       "      <td>1</td>\n",
       "      <td>2.0</td>\n",
       "      <td>1428</td>\n",
       "      <td>1.0</td>\n",
       "      <td>Converted to Lead</td>\n",
       "      <td>Not Specified</td>\n",
       "      <td>Mumbai</td>\n",
       "      <td>No</td>\n",
       "    </tr>\n",
       "  </tbody>\n",
       "</table>\n",
       "</div>"
      ],
      "text/plain": [
       "               Lead Origin     Lead Source  Converted  TotalVisits  \\\n",
       "0                      API      Olark Chat          0          0.0   \n",
       "1                      API  Organic Search          0          5.0   \n",
       "2  Landing Page Submission  Direct Traffic          1          2.0   \n",
       "3  Landing Page Submission  Direct Traffic          0          1.0   \n",
       "4  Landing Page Submission          Google          1          2.0   \n",
       "\n",
       "   Total Time Spent on Website  Page Views Per Visit            Last Activity  \\\n",
       "0                            0                   0.0  Page Visited on Website   \n",
       "1                          674                   2.5             Email Opened   \n",
       "2                         1532                   2.0             Email Opened   \n",
       "3                          305                   1.0              Unreachable   \n",
       "4                         1428                   1.0        Converted to Lead   \n",
       "\n",
       "            Specialization           City  \\\n",
       "0            Not Specified  Not Specified   \n",
       "1            Not Specified  Not Specified   \n",
       "2  Business Administration         Mumbai   \n",
       "3    Media and Advertising         Mumbai   \n",
       "4            Not Specified         Mumbai   \n",
       "\n",
       "  A free copy of Mastering The Interview  \n",
       "0                                     No  \n",
       "1                                     No  \n",
       "2                                    Yes  \n",
       "3                                     No  \n",
       "4                                     No  "
      ]
     },
     "execution_count": 42,
     "metadata": {},
     "output_type": "execute_result"
    }
   ],
   "source": [
    "# Let's look at the head of the dataframe.\n",
    "data.head()"
   ]
  },
  {
   "cell_type": "code",
   "execution_count": 43,
   "metadata": {},
   "outputs": [
    {
     "data": {
      "text/plain": [
       "(8679, 10)"
      ]
     },
     "execution_count": 43,
     "metadata": {},
     "output_type": "execute_result"
    }
   ],
   "source": [
    "# Get the shape of the dataframe.\n",
    "data.shape"
   ]
  },
  {
   "cell_type": "markdown",
   "metadata": {},
   "source": [
    "Let's visualize the numeric variables"
   ]
  },
  {
   "cell_type": "code",
   "execution_count": 44,
   "metadata": {},
   "outputs": [
    {
     "data": {
      "text/plain": [
       "['Converted',\n",
       " 'TotalVisits',\n",
       " 'Total Time Spent on Website',\n",
       " 'Page Views Per Visit']"
      ]
     },
     "execution_count": 44,
     "metadata": {},
     "output_type": "execute_result"
    }
   ],
   "source": [
    "num_columns.insert(0, 'Converted')\n",
    "num_columns"
   ]
  },
  {
   "cell_type": "code",
   "execution_count": 45,
   "metadata": {},
   "outputs": [
    {
     "data": {
      "image/png": "[encoded data removed]",
      "text/plain": [
       "<Figure size 432x288 with 2 Axes>"
      ]
     },
     "metadata": {
      "needs_background": "light"
     },
     "output_type": "display_data"
    }
   ],
   "source": [
    "# Get the numeric columns.\n",
    "num_columns = ['TotalVisits', 'Total Time Spent on Website', 'Page Views Per Visit']\n",
    "\n",
    "# Heat map between the numeric attributes to look for correlation.\n",
    "# plt.figure(figsize = (12, 8))\n",
    "sns.heatmap(data[num_columns].corr(), annot = True, cmap=\"YlGnBu\")\n",
    "\n",
    "# fix for mpl bug that cuts off top/bottom of seaborn viz\n",
    "b, t = plt.ylim() # discover the values for bottom and top\n",
    "b += 0.5 # Add 0.5 to the bottom\n",
    "t -= 0.5 # Subtract 0.5 from the top\n",
    "plt.ylim(b, t) # update the ylim(bottom, top) values\n",
    "plt.show()"
   ]
  },
  {
   "cell_type": "markdown",
   "metadata": {},
   "source": [
    "<p style=\"font-family: Arial; font-size:1.0em;color:blue;\">  The above figure depicts the correlation matrix for the numerical columns."
   ]
  },
  {
   "cell_type": "code",
   "execution_count": 46,
   "metadata": {},
   "outputs": [
    {
     "data": {
      "image/png": "[encoded data removed]",
      "text/plain": [
       "<Figure size 432x288 with 1 Axes>"
      ]
     },
     "metadata": {
      "needs_background": "light"
     },
     "output_type": "display_data"
    }
   ],
   "source": [
    "# Let's plot between target variable and 'TotalVisits'\n",
    "sns.boxplot(x='Converted', y='TotalVisits', data=data)\n",
    "plt.show()"
   ]
  },
  {
   "cell_type": "code",
   "execution_count": 47,
   "metadata": {},
   "outputs": [
    {
     "data": {
      "image/png": "[encoded data removed]",
      "text/plain": [
       "<Figure size 432x288 with 1 Axes>"
      ]
     },
     "metadata": {
      "needs_background": "light"
     },
     "output_type": "display_data"
    }
   ],
   "source": [
    "# Let's plot between target variable and 'Total Time Spent on Website'\n",
    "sns.boxplot(x='Converted', y='Total Time Spent on Website', data=data)\n",
    "plt.show()"
   ]
  },
  {
   "cell_type": "code",
   "execution_count": 48,
   "metadata": {},
   "outputs": [
    {
     "data": {
      "image/png": "[encoded data removed]",
      "text/plain": [
       "<Figure size 432x288 with 1 Axes>"
      ]
     },
     "metadata": {
      "needs_background": "light"
     },
     "output_type": "display_data"
    }
   ],
   "source": [
    "# Let's plot between target variable and 'Page Views Per Visit'\n",
    "sns.boxplot(x='Converted', y='Page Views Per Visit', data=data)\n",
    "plt.show()"
   ]
  },
  {
   "cell_type": "markdown",
   "metadata": {},
   "source": [
    "Let's visualize the categorical variables"
   ]
  },
  {
   "cell_type": "code",
   "execution_count": 49,
   "metadata": {},
   "outputs": [
    {
     "data": {
      "text/plain": [
       "Index(['Lead Origin', 'Lead Source', 'Last Activity', 'Specialization', 'City',\n",
       "       'A free copy of Mastering The Interview'],\n",
       "      dtype='object')"
      ]
     },
     "execution_count": 49,
     "metadata": {},
     "output_type": "execute_result"
    }
   ],
   "source": [
    "# Get the categorical columns.\n",
    "cat_cols = data.select_dtypes(include=['object']).columns\n",
    "cat_cols"
   ]
  },
  {
   "cell_type": "code",
   "execution_count": 50,
   "metadata": {
    "scrolled": false
   },
   "outputs": [
    {
     "data": {
      "image/png": "[encoded data removed]",
      "text/plain": [
       "<Figure size 1080x2160 with 2 Axes>"
      ]
     },
     "metadata": {
      "needs_background": "light"
     },
     "output_type": "display_data"
    }
   ],
   "source": [
    "# Plot count plots for all the categorical columns.\n",
    "# Let's pick 2 at a time for better legibility\n",
    "plt.figure(figsize=(15,30))\n",
    "for i in enumerate(cat_cols[:2]): \n",
    "    ax = plt.subplot(4, 2, i[0]+1)\n",
    "    sns.countplot(x=i[1], hue = 'Converted', data=data)\n",
    "    plt.xticks(rotation=90)\n",
    "plt.show()"
   ]
  },
  {
   "cell_type": "code",
   "execution_count": 51,
   "metadata": {
    "scrolled": true
   },
   "outputs": [
    {
     "data": {
      "text/plain": [
       "Google               2768\n",
       "Direct Traffic       2368\n",
       "Olark Chat           1748\n",
       "Organic Search        937\n",
       "Reference             531\n",
       "Welingak Website      141\n",
       "Referral Sites        106\n",
       "Facebook               54\n",
       "bing                    6\n",
       "google                  5\n",
       "Click2call              3\n",
       "Social Media            2\n",
       "Live Chat               2\n",
       "Press_Release           1\n",
       "WeLearn                 1\n",
       "welearnblog_Home        1\n",
       "youtubechannel          1\n",
       "blog                    1\n",
       "NC_EDM                  1\n",
       "Pay per Click Ads       1\n",
       "testone                 1\n",
       "Name: Lead Source, dtype: int64"
      ]
     },
     "execution_count": 51,
     "metadata": {},
     "output_type": "execute_result"
    }
   ],
   "source": [
    "# Let's group together the low frequency values in 'Lead Source' column.\n",
    "data['Lead Source'].value_counts()"
   ]
  },
  {
   "cell_type": "markdown",
   "metadata": {},
   "source": [
    "<p style=\"font-family: Arial; font-size:1.0em;color:blue;\">  From the above plots, we determined that for few categorical features, the data is skewed. So, to decrease the number of dummy variables for these columns, we combine all the values which have very low occurences. This helps us in determining the precise results. "
   ]
  },
  {
   "cell_type": "code",
   "execution_count": 52,
   "metadata": {},
   "outputs": [
    {
     "data": {
      "text/plain": [
       "Google              2773\n",
       "Direct Traffic      2368\n",
       "Olark Chat          1748\n",
       "Organic Search       937\n",
       "Reference            531\n",
       "Welingak Website     141\n",
       "Referral Sites       106\n",
       "Facebook              54\n",
       "Others                21\n",
       "Name: Lead Source, dtype: int64"
      ]
     },
     "execution_count": 52,
     "metadata": {},
     "output_type": "execute_result"
    }
   ],
   "source": [
    "# Get the low frequency columns.\n",
    "lowfreq_cols = ['bing', 'Click2call', 'Social Media', 'Live Chat', 'testone', 'NC_EDM',\n",
    "                'Press_Release', 'blog', 'welearnblog_Home', 'youtubechannel', 'WeLearn', 'Pay per Click Ads']\n",
    "\n",
    "# Replace 'google' with 'Google'.\n",
    "data['Lead Source'] = data['Lead Source'].replace('google', 'Google')\n",
    "\n",
    "# Replace low frequency columns with 'Others'.\n",
    "data['Lead Source'] = data['Lead Source'].replace(lowfreq_cols, 'Others')\n",
    "\n",
    "# look at the value counts to confirm.\n",
    "data['Lead Source'].value_counts()"
   ]
  },
  {
   "cell_type": "code",
   "execution_count": 53,
   "metadata": {},
   "outputs": [
    {
     "data": {
      "image/png": "[encoded data removed]",
      "text/plain": [
       "<Figure size 1080x2160 with 2 Axes>"
      ]
     },
     "metadata": {
      "needs_background": "light"
     },
     "output_type": "display_data"
    }
   ],
   "source": [
    "# Let's plot between the next 2 set of categorical variables.\n",
    "plt.figure(figsize=(15,30))\n",
    "for i in enumerate(cat_cols[2:4]): \n",
    "    ax = plt.subplot(4, 2, i[0]+1)\n",
    "    sns.countplot(x=i[1], hue = 'Converted', data=data)\n",
    "    plt.xticks(rotation=90)\n",
    "plt.show()"
   ]
  },
  {
   "cell_type": "code",
   "execution_count": 54,
   "metadata": {},
   "outputs": [
    {
     "data": {
      "text/plain": [
       "Email Opened                    3321\n",
       "SMS Sent                        2587\n",
       "Olark Chat Conversation          949\n",
       "Page Visited on Website          525\n",
       "Converted to Lead                425\n",
       "Email Bounced                    316\n",
       "Email Link Clicked               255\n",
       "Form Submitted on Website        110\n",
       "Unreachable                       87\n",
       "Unsubscribed                      59\n",
       "Had a Phone Conversation          26\n",
       "Approached upfront                 9\n",
       "View in browser link Clicked       4\n",
       "Email Marked Spam                  2\n",
       "Email Received                     2\n",
       "Visited Booth in Tradeshow         1\n",
       "Resubscribed to emails             1\n",
       "Name: Last Activity, dtype: int64"
      ]
     },
     "execution_count": 54,
     "metadata": {},
     "output_type": "execute_result"
    }
   ],
   "source": [
    "# Let's group together the low frequency values in 'Last Activity' column.\n",
    "data['Last Activity'].value_counts()"
   ]
  },
  {
   "cell_type": "code",
   "execution_count": 55,
   "metadata": {},
   "outputs": [
    {
     "data": {
      "text/plain": [
       "Email Opened                 3321\n",
       "SMS Sent                     2587\n",
       "Olark Chat Conversation       949\n",
       "Page Visited on Website       525\n",
       "Converted to Lead             425\n",
       "Email Bounced                 316\n",
       "Email Link Clicked            255\n",
       "Form Submitted on Website     110\n",
       "Unreachable                    87\n",
       "Unsubscribed                   59\n",
       "Had a Phone Conversation       26\n",
       "Others                         19\n",
       "Name: Last Activity, dtype: int64"
      ]
     },
     "execution_count": 55,
     "metadata": {},
     "output_type": "execute_result"
    }
   ],
   "source": [
    "# Get the low frequency columns.\n",
    "lowfreq_cols = ['Approached upfront', 'View in browser link Clicked', 'Email Received', 'Email Marked Spam', 'Visited Booth in Tradeshow', 'Resubscribed to emails']\n",
    "\n",
    "# Replace low frequency columns with 'Others'.\n",
    "data['Last Activity'] = data['Last Activity'].replace(lowfreq_cols, 'Others')\n",
    "\n",
    "# look at the value counts to confirm.\n",
    "data['Last Activity'].value_counts()"
   ]
  },
  {
   "cell_type": "code",
   "execution_count": 56,
   "metadata": {},
   "outputs": [
    {
     "data": {
      "image/png": "[encoded data removed]",
      "text/plain": [
       "<Figure size 1080x2160 with 2 Axes>"
      ]
     },
     "metadata": {
      "needs_background": "light"
     },
     "output_type": "display_data"
    }
   ],
   "source": [
    "# Let's plot between the next 2 set of categorical variables.\n",
    "plt.figure(figsize=(15,30))\n",
    "for i in enumerate(cat_cols[4:6]): \n",
    "    ax = plt.subplot(4, 2, i[0]+1)\n",
    "    sns.countplot(x=i[1], hue = 'Converted', data=data)\n",
    "    plt.xticks(rotation=90)\n",
    "plt.show()"
   ]
  },
  {
   "cell_type": "markdown",
   "metadata": {},
   "source": [
    "### DATA PREPARATION"
   ]
  },
  {
   "cell_type": "code",
   "execution_count": 57,
   "metadata": {},
   "outputs": [
    {
     "data": {
      "text/html": [
       "<div>\n",
       "<style scoped>\n",
       "    .dataframe tbody tr th:only-of-type {\n",
       "        vertical-align: middle;\n",
       "    }\n",
       "\n",
       "    .dataframe tbody tr th {\n",
       "        vertical-align: top;\n",
       "    }\n",
       "\n",
       "    .dataframe thead th {\n",
       "        text-align: right;\n",
       "    }\n",
       "</style>\n",
       "<table border=\"1\" class=\"dataframe\">\n",
       "  <thead>\n",
       "    <tr style=\"text-align: right;\">\n",
       "      <th></th>\n",
       "      <th>Lead Origin</th>\n",
       "      <th>Lead Source</th>\n",
       "      <th>Converted</th>\n",
       "      <th>TotalVisits</th>\n",
       "      <th>Total Time Spent on Website</th>\n",
       "      <th>Page Views Per Visit</th>\n",
       "      <th>Last Activity</th>\n",
       "      <th>Specialization</th>\n",
       "      <th>City</th>\n",
       "      <th>A free copy of Mastering The Interview</th>\n",
       "    </tr>\n",
       "  </thead>\n",
       "  <tbody>\n",
       "    <tr>\n",
       "      <td>0</td>\n",
       "      <td>API</td>\n",
       "      <td>Olark Chat</td>\n",
       "      <td>0</td>\n",
       "      <td>0.0</td>\n",
       "      <td>0</td>\n",
       "      <td>0.0</td>\n",
       "      <td>Page Visited on Website</td>\n",
       "      <td>Not Specified</td>\n",
       "      <td>Not Specified</td>\n",
       "      <td>No</td>\n",
       "    </tr>\n",
       "    <tr>\n",
       "      <td>1</td>\n",
       "      <td>API</td>\n",
       "      <td>Organic Search</td>\n",
       "      <td>0</td>\n",
       "      <td>5.0</td>\n",
       "      <td>674</td>\n",
       "      <td>2.5</td>\n",
       "      <td>Email Opened</td>\n",
       "      <td>Not Specified</td>\n",
       "      <td>Not Specified</td>\n",
       "      <td>No</td>\n",
       "    </tr>\n",
       "    <tr>\n",
       "      <td>2</td>\n",
       "      <td>Landing Page Submission</td>\n",
       "      <td>Direct Traffic</td>\n",
       "      <td>1</td>\n",
       "      <td>2.0</td>\n",
       "      <td>1532</td>\n",
       "      <td>2.0</td>\n",
       "      <td>Email Opened</td>\n",
       "      <td>Business Administration</td>\n",
       "      <td>Mumbai</td>\n",
       "      <td>Yes</td>\n",
       "    </tr>\n",
       "    <tr>\n",
       "      <td>3</td>\n",
       "      <td>Landing Page Submission</td>\n",
       "      <td>Direct Traffic</td>\n",
       "      <td>0</td>\n",
       "      <td>1.0</td>\n",
       "      <td>305</td>\n",
       "      <td>1.0</td>\n",
       "      <td>Unreachable</td>\n",
       "      <td>Media and Advertising</td>\n",
       "      <td>Mumbai</td>\n",
       "      <td>No</td>\n",
       "    </tr>\n",
       "    <tr>\n",
       "      <td>4</td>\n",
       "      <td>Landing Page Submission</td>\n",
       "      <td>Google</td>\n",
       "      <td>1</td>\n",
       "      <td>2.0</td>\n",
       "      <td>1428</td>\n",
       "      <td>1.0</td>\n",
       "      <td>Converted to Lead</td>\n",
       "      <td>Not Specified</td>\n",
       "      <td>Mumbai</td>\n",
       "      <td>No</td>\n",
       "    </tr>\n",
       "  </tbody>\n",
       "</table>\n",
       "</div>"
      ],
      "text/plain": [
       "               Lead Origin     Lead Source  Converted  TotalVisits  \\\n",
       "0                      API      Olark Chat          0          0.0   \n",
       "1                      API  Organic Search          0          5.0   \n",
       "2  Landing Page Submission  Direct Traffic          1          2.0   \n",
       "3  Landing Page Submission  Direct Traffic          0          1.0   \n",
       "4  Landing Page Submission          Google          1          2.0   \n",
       "\n",
       "   Total Time Spent on Website  Page Views Per Visit            Last Activity  \\\n",
       "0                            0                   0.0  Page Visited on Website   \n",
       "1                          674                   2.5             Email Opened   \n",
       "2                         1532                   2.0             Email Opened   \n",
       "3                          305                   1.0              Unreachable   \n",
       "4                         1428                   1.0        Converted to Lead   \n",
       "\n",
       "            Specialization           City  \\\n",
       "0            Not Specified  Not Specified   \n",
       "1            Not Specified  Not Specified   \n",
       "2  Business Administration         Mumbai   \n",
       "3    Media and Advertising         Mumbai   \n",
       "4            Not Specified         Mumbai   \n",
       "\n",
       "  A free copy of Mastering The Interview  \n",
       "0                                     No  \n",
       "1                                     No  \n",
       "2                                    Yes  \n",
       "3                                     No  \n",
       "4                                     No  "
      ]
     },
     "execution_count": 57,
     "metadata": {},
     "output_type": "execute_result"
    }
   ],
   "source": [
    "# Let's look at the head of the dataframe.\n",
    "data.head()"
   ]
  },
  {
   "cell_type": "markdown",
   "metadata": {},
   "source": [
    "<p style=\"font-family: Arial; font-size:1.0em;color:blue;\"> Let's create dummy variables for all the categorical variables"
   ]
  },
  {
   "cell_type": "code",
   "execution_count": 58,
   "metadata": {},
   "outputs": [
    {
     "data": {
      "text/plain": [
       "0    0\n",
       "1    0\n",
       "2    1\n",
       "3    0\n",
       "4    0\n",
       "Name: A free copy of Mastering The Interview, dtype: int64"
      ]
     },
     "execution_count": 58,
     "metadata": {},
     "output_type": "execute_result"
    }
   ],
   "source": [
    "# Convert 'Yes' to 1 and 'No' to 0 in 'A free copy of Mastering The Interview' column.\n",
    "data['A free copy of Mastering The Interview'] = data[['A free copy of Mastering The Interview']].apply(lambda x: x.map({'Yes': 1, \"No\": 0}))\n",
    "\n",
    "# Look at the column to confirm\n",
    "data['A free copy of Mastering The Interview'].head()"
   ]
  },
  {
   "cell_type": "code",
   "execution_count": 59,
   "metadata": {},
   "outputs": [
    {
     "data": {
      "text/plain": [
       "Index(['Lead Origin', 'Lead Source', 'Last Activity', 'Specialization',\n",
       "       'City'],\n",
       "      dtype='object')"
      ]
     },
     "execution_count": 59,
     "metadata": {},
     "output_type": "execute_result"
    }
   ],
   "source": [
    "# Get the remaining categorical columns.\n",
    "cat_cols = data.select_dtypes(include=['object']).columns\n",
    "cat_cols"
   ]
  },
  {
   "cell_type": "code",
   "execution_count": 60,
   "metadata": {},
   "outputs": [
    {
     "data": {
      "text/html": [
       "<div>\n",
       "<style scoped>\n",
       "    .dataframe tbody tr th:only-of-type {\n",
       "        vertical-align: middle;\n",
       "    }\n",
       "\n",
       "    .dataframe tbody tr th {\n",
       "        vertical-align: top;\n",
       "    }\n",
       "\n",
       "    .dataframe thead th {\n",
       "        text-align: right;\n",
       "    }\n",
       "</style>\n",
       "<table border=\"1\" class=\"dataframe\">\n",
       "  <thead>\n",
       "    <tr style=\"text-align: right;\">\n",
       "      <th></th>\n",
       "      <th>Lead Origin_API</th>\n",
       "      <th>Lead Origin_Landing Page Submission</th>\n",
       "      <th>Lead Origin_Lead Add Form</th>\n",
       "      <th>Lead Origin_Lead Import</th>\n",
       "      <th>Lead Origin_Quick Add Form</th>\n",
       "      <th>Lead Source_Direct Traffic</th>\n",
       "      <th>Lead Source_Facebook</th>\n",
       "      <th>Lead Source_Google</th>\n",
       "      <th>Lead Source_Olark Chat</th>\n",
       "      <th>Lead Source_Organic Search</th>\n",
       "      <th>...</th>\n",
       "      <th>Specialization_Services Excellence</th>\n",
       "      <th>Specialization_Supply Chain Management</th>\n",
       "      <th>Specialization_Travel and Tourism</th>\n",
       "      <th>City_Mumbai</th>\n",
       "      <th>City_Not Specified</th>\n",
       "      <th>City_Other Cities</th>\n",
       "      <th>City_Other Cities of Maharashtra</th>\n",
       "      <th>City_Other Metro Cities</th>\n",
       "      <th>City_Thane &amp; Outskirts</th>\n",
       "      <th>City_Tier II Cities</th>\n",
       "    </tr>\n",
       "  </thead>\n",
       "  <tbody>\n",
       "    <tr>\n",
       "      <td>0</td>\n",
       "      <td>1</td>\n",
       "      <td>0</td>\n",
       "      <td>0</td>\n",
       "      <td>0</td>\n",
       "      <td>0</td>\n",
       "      <td>0</td>\n",
       "      <td>0</td>\n",
       "      <td>0</td>\n",
       "      <td>1</td>\n",
       "      <td>0</td>\n",
       "      <td>...</td>\n",
       "      <td>0</td>\n",
       "      <td>0</td>\n",
       "      <td>0</td>\n",
       "      <td>0</td>\n",
       "      <td>1</td>\n",
       "      <td>0</td>\n",
       "      <td>0</td>\n",
       "      <td>0</td>\n",
       "      <td>0</td>\n",
       "      <td>0</td>\n",
       "    </tr>\n",
       "    <tr>\n",
       "      <td>1</td>\n",
       "      <td>1</td>\n",
       "      <td>0</td>\n",
       "      <td>0</td>\n",
       "      <td>0</td>\n",
       "      <td>0</td>\n",
       "      <td>0</td>\n",
       "      <td>0</td>\n",
       "      <td>0</td>\n",
       "      <td>0</td>\n",
       "      <td>1</td>\n",
       "      <td>...</td>\n",
       "      <td>0</td>\n",
       "      <td>0</td>\n",
       "      <td>0</td>\n",
       "      <td>0</td>\n",
       "      <td>1</td>\n",
       "      <td>0</td>\n",
       "      <td>0</td>\n",
       "      <td>0</td>\n",
       "      <td>0</td>\n",
       "      <td>0</td>\n",
       "    </tr>\n",
       "    <tr>\n",
       "      <td>2</td>\n",
       "      <td>0</td>\n",
       "      <td>1</td>\n",
       "      <td>0</td>\n",
       "      <td>0</td>\n",
       "      <td>0</td>\n",
       "      <td>1</td>\n",
       "      <td>0</td>\n",
       "      <td>0</td>\n",
       "      <td>0</td>\n",
       "      <td>0</td>\n",
       "      <td>...</td>\n",
       "      <td>0</td>\n",
       "      <td>0</td>\n",
       "      <td>0</td>\n",
       "      <td>1</td>\n",
       "      <td>0</td>\n",
       "      <td>0</td>\n",
       "      <td>0</td>\n",
       "      <td>0</td>\n",
       "      <td>0</td>\n",
       "      <td>0</td>\n",
       "    </tr>\n",
       "    <tr>\n",
       "      <td>3</td>\n",
       "      <td>0</td>\n",
       "      <td>1</td>\n",
       "      <td>0</td>\n",
       "      <td>0</td>\n",
       "      <td>0</td>\n",
       "      <td>1</td>\n",
       "      <td>0</td>\n",
       "      <td>0</td>\n",
       "      <td>0</td>\n",
       "      <td>0</td>\n",
       "      <td>...</td>\n",
       "      <td>0</td>\n",
       "      <td>0</td>\n",
       "      <td>0</td>\n",
       "      <td>1</td>\n",
       "      <td>0</td>\n",
       "      <td>0</td>\n",
       "      <td>0</td>\n",
       "      <td>0</td>\n",
       "      <td>0</td>\n",
       "      <td>0</td>\n",
       "    </tr>\n",
       "    <tr>\n",
       "      <td>4</td>\n",
       "      <td>0</td>\n",
       "      <td>1</td>\n",
       "      <td>0</td>\n",
       "      <td>0</td>\n",
       "      <td>0</td>\n",
       "      <td>0</td>\n",
       "      <td>0</td>\n",
       "      <td>1</td>\n",
       "      <td>0</td>\n",
       "      <td>0</td>\n",
       "      <td>...</td>\n",
       "      <td>0</td>\n",
       "      <td>0</td>\n",
       "      <td>0</td>\n",
       "      <td>1</td>\n",
       "      <td>0</td>\n",
       "      <td>0</td>\n",
       "      <td>0</td>\n",
       "      <td>0</td>\n",
       "      <td>0</td>\n",
       "      <td>0</td>\n",
       "    </tr>\n",
       "  </tbody>\n",
       "</table>\n",
       "<p>5 rows × 52 columns</p>\n",
       "</div>"
      ],
      "text/plain": [
       "   Lead Origin_API  Lead Origin_Landing Page Submission  \\\n",
       "0                1                                    0   \n",
       "1                1                                    0   \n",
       "2                0                                    1   \n",
       "3                0                                    1   \n",
       "4                0                                    1   \n",
       "\n",
       "   Lead Origin_Lead Add Form  Lead Origin_Lead Import  \\\n",
       "0                          0                        0   \n",
       "1                          0                        0   \n",
       "2                          0                        0   \n",
       "3                          0                        0   \n",
       "4                          0                        0   \n",
       "\n",
       "   Lead Origin_Quick Add Form  Lead Source_Direct Traffic  \\\n",
       "0                           0                           0   \n",
       "1                           0                           0   \n",
       "2                           0                           1   \n",
       "3                           0                           1   \n",
       "4                           0                           0   \n",
       "\n",
       "   Lead Source_Facebook  Lead Source_Google  Lead Source_Olark Chat  \\\n",
       "0                     0                   0                       1   \n",
       "1                     0                   0                       0   \n",
       "2                     0                   0                       0   \n",
       "3                     0                   0                       0   \n",
       "4                     0                   1                       0   \n",
       "\n",
       "   Lead Source_Organic Search  ...  Specialization_Services Excellence  \\\n",
       "0                           0  ...                                   0   \n",
       "1                           1  ...                                   0   \n",
       "2                           0  ...                                   0   \n",
       "3                           0  ...                                   0   \n",
       "4                           0  ...                                   0   \n",
       "\n",
       "   Specialization_Supply Chain Management  Specialization_Travel and Tourism  \\\n",
       "0                                       0                                  0   \n",
       "1                                       0                                  0   \n",
       "2                                       0                                  0   \n",
       "3                                       0                                  0   \n",
       "4                                       0                                  0   \n",
       "\n",
       "   City_Mumbai  City_Not Specified  City_Other Cities  \\\n",
       "0            0                   1                  0   \n",
       "1            0                   1                  0   \n",
       "2            1                   0                  0   \n",
       "3            1                   0                  0   \n",
       "4            1                   0                  0   \n",
       "\n",
       "   City_Other Cities of Maharashtra  City_Other Metro Cities  \\\n",
       "0                                 0                        0   \n",
       "1                                 0                        0   \n",
       "2                                 0                        0   \n",
       "3                                 0                        0   \n",
       "4                                 0                        0   \n",
       "\n",
       "   City_Thane & Outskirts  City_Tier II Cities  \n",
       "0                       0                    0  \n",
       "1                       0                    0  \n",
       "2                       0                    0  \n",
       "3                       0                    0  \n",
       "4                       0                    0  \n",
       "\n",
       "[5 rows x 52 columns]"
      ]
     },
     "execution_count": 60,
     "metadata": {},
     "output_type": "execute_result"
    }
   ],
   "source": [
    "# Create a dummies dataframe for all the categorical columns.\n",
    "dummies_df = pd.get_dummies(data[cat_cols])\n",
    "dummies_df.head()"
   ]
  },
  {
   "cell_type": "code",
   "execution_count": 61,
   "metadata": {},
   "outputs": [
    {
     "data": {
      "text/plain": [
       "Index(['Lead Origin_API', 'Lead Origin_Landing Page Submission',\n",
       "       'Lead Origin_Lead Add Form', 'Lead Origin_Lead Import',\n",
       "       'Lead Origin_Quick Add Form', 'Lead Source_Direct Traffic',\n",
       "       'Lead Source_Facebook', 'Lead Source_Google', 'Lead Source_Olark Chat',\n",
       "       'Lead Source_Organic Search', 'Lead Source_Others',\n",
       "       'Lead Source_Reference', 'Lead Source_Referral Sites',\n",
       "       'Lead Source_Welingak Website', 'Last Activity_Converted to Lead',\n",
       "       'Last Activity_Email Bounced', 'Last Activity_Email Link Clicked',\n",
       "       'Last Activity_Email Opened', 'Last Activity_Form Submitted on Website',\n",
       "       'Last Activity_Had a Phone Conversation',\n",
       "       'Last Activity_Olark Chat Conversation', 'Last Activity_Others',\n",
       "       'Last Activity_Page Visited on Website', 'Last Activity_SMS Sent',\n",
       "       'Last Activity_Unreachable', 'Last Activity_Unsubscribed',\n",
       "       'Specialization_Banking, Investment And Insurance',\n",
       "       'Specialization_Business Administration', 'Specialization_E-Business',\n",
       "       'Specialization_E-COMMERCE', 'Specialization_Finance Management',\n",
       "       'Specialization_Healthcare Management',\n",
       "       'Specialization_Hospitality Management',\n",
       "       'Specialization_Human Resource Management',\n",
       "       'Specialization_IT Projects Management',\n",
       "       'Specialization_International Business',\n",
       "       'Specialization_Marketing Management',\n",
       "       'Specialization_Media and Advertising', 'Specialization_Not Specified',\n",
       "       'Specialization_Operations Management',\n",
       "       'Specialization_Retail Management',\n",
       "       'Specialization_Rural and Agribusiness',\n",
       "       'Specialization_Services Excellence',\n",
       "       'Specialization_Supply Chain Management',\n",
       "       'Specialization_Travel and Tourism', 'City_Mumbai',\n",
       "       'City_Not Specified', 'City_Other Cities',\n",
       "       'City_Other Cities of Maharashtra', 'City_Other Metro Cities',\n",
       "       'City_Thane & Outskirts', 'City_Tier II Cities'],\n",
       "      dtype='object')"
      ]
     },
     "execution_count": 61,
     "metadata": {},
     "output_type": "execute_result"
    }
   ],
   "source": [
    "# Get the columns of the dummies dataframe.\n",
    "dummies_df.columns"
   ]
  },
  {
   "cell_type": "code",
   "execution_count": 62,
   "metadata": {},
   "outputs": [
    {
     "data": {
      "text/plain": [
       "Index(['Lead Origin_API', 'Lead Origin_Landing Page Submission',\n",
       "       'Lead Origin_Lead Add Form', 'Lead Origin_Lead Import',\n",
       "       'Lead Source_Direct Traffic', 'Lead Source_Facebook',\n",
       "       'Lead Source_Google', 'Lead Source_Olark Chat',\n",
       "       'Lead Source_Organic Search', 'Lead Source_Reference',\n",
       "       'Lead Source_Referral Sites', 'Lead Source_Welingak Website',\n",
       "       'Last Activity_Converted to Lead', 'Last Activity_Email Bounced',\n",
       "       'Last Activity_Email Link Clicked', 'Last Activity_Email Opened',\n",
       "       'Last Activity_Form Submitted on Website',\n",
       "       'Last Activity_Had a Phone Conversation',\n",
       "       'Last Activity_Olark Chat Conversation',\n",
       "       'Last Activity_Page Visited on Website', 'Last Activity_SMS Sent',\n",
       "       'Last Activity_Unreachable', 'Last Activity_Unsubscribed',\n",
       "       'Specialization_Banking, Investment And Insurance',\n",
       "       'Specialization_Business Administration', 'Specialization_E-Business',\n",
       "       'Specialization_E-COMMERCE', 'Specialization_Finance Management',\n",
       "       'Specialization_Healthcare Management',\n",
       "       'Specialization_Hospitality Management',\n",
       "       'Specialization_Human Resource Management',\n",
       "       'Specialization_IT Projects Management',\n",
       "       'Specialization_International Business',\n",
       "       'Specialization_Marketing Management',\n",
       "       'Specialization_Media and Advertising',\n",
       "       'Specialization_Operations Management',\n",
       "       'Specialization_Retail Management',\n",
       "       'Specialization_Rural and Agribusiness',\n",
       "       'Specialization_Services Excellence',\n",
       "       'Specialization_Supply Chain Management',\n",
       "       'Specialization_Travel and Tourism', 'City_Mumbai', 'City_Other Cities',\n",
       "       'City_Other Cities of Maharashtra', 'City_Other Metro Cities',\n",
       "       'City_Thane & Outskirts', 'City_Tier II Cities'],\n",
       "      dtype='object')"
      ]
     },
     "execution_count": 62,
     "metadata": {},
     "output_type": "execute_result"
    }
   ],
   "source": [
    "# Let's drop one column each for a categorical attribute. Let's drop 'Not Specified'/'Others' if exists.\n",
    "drop_cols = ['Lead Origin_Quick Add Form', 'Lead Source_Others', 'Last Activity_Others', \n",
    "           'Specialization_Not Specified', 'City_Not Specified']\n",
    "\n",
    "# Drop the columns.\n",
    "dummies_df.drop(drop_cols, axis=1, inplace=True)\n",
    "\n",
    "# Get the columns of the dataframe to confirm.\n",
    "dummies_df.columns"
   ]
  },
  {
   "cell_type": "code",
   "execution_count": 63,
   "metadata": {},
   "outputs": [
    {
     "data": {
      "text/html": [
       "<div>\n",
       "<style scoped>\n",
       "    .dataframe tbody tr th:only-of-type {\n",
       "        vertical-align: middle;\n",
       "    }\n",
       "\n",
       "    .dataframe tbody tr th {\n",
       "        vertical-align: top;\n",
       "    }\n",
       "\n",
       "    .dataframe thead th {\n",
       "        text-align: right;\n",
       "    }\n",
       "</style>\n",
       "<table border=\"1\" class=\"dataframe\">\n",
       "  <thead>\n",
       "    <tr style=\"text-align: right;\">\n",
       "      <th></th>\n",
       "      <th>Lead Origin</th>\n",
       "      <th>Lead Source</th>\n",
       "      <th>Converted</th>\n",
       "      <th>TotalVisits</th>\n",
       "      <th>Total Time Spent on Website</th>\n",
       "      <th>Page Views Per Visit</th>\n",
       "      <th>Last Activity</th>\n",
       "      <th>Specialization</th>\n",
       "      <th>City</th>\n",
       "      <th>A free copy of Mastering The Interview</th>\n",
       "      <th>...</th>\n",
       "      <th>Specialization_Rural and Agribusiness</th>\n",
       "      <th>Specialization_Services Excellence</th>\n",
       "      <th>Specialization_Supply Chain Management</th>\n",
       "      <th>Specialization_Travel and Tourism</th>\n",
       "      <th>City_Mumbai</th>\n",
       "      <th>City_Other Cities</th>\n",
       "      <th>City_Other Cities of Maharashtra</th>\n",
       "      <th>City_Other Metro Cities</th>\n",
       "      <th>City_Thane &amp; Outskirts</th>\n",
       "      <th>City_Tier II Cities</th>\n",
       "    </tr>\n",
       "  </thead>\n",
       "  <tbody>\n",
       "    <tr>\n",
       "      <td>0</td>\n",
       "      <td>API</td>\n",
       "      <td>Olark Chat</td>\n",
       "      <td>0</td>\n",
       "      <td>0.0</td>\n",
       "      <td>0</td>\n",
       "      <td>0.0</td>\n",
       "      <td>Page Visited on Website</td>\n",
       "      <td>Not Specified</td>\n",
       "      <td>Not Specified</td>\n",
       "      <td>0</td>\n",
       "      <td>...</td>\n",
       "      <td>0</td>\n",
       "      <td>0</td>\n",
       "      <td>0</td>\n",
       "      <td>0</td>\n",
       "      <td>0</td>\n",
       "      <td>0</td>\n",
       "      <td>0</td>\n",
       "      <td>0</td>\n",
       "      <td>0</td>\n",
       "      <td>0</td>\n",
       "    </tr>\n",
       "    <tr>\n",
       "      <td>1</td>\n",
       "      <td>API</td>\n",
       "      <td>Organic Search</td>\n",
       "      <td>0</td>\n",
       "      <td>5.0</td>\n",
       "      <td>674</td>\n",
       "      <td>2.5</td>\n",
       "      <td>Email Opened</td>\n",
       "      <td>Not Specified</td>\n",
       "      <td>Not Specified</td>\n",
       "      <td>0</td>\n",
       "      <td>...</td>\n",
       "      <td>0</td>\n",
       "      <td>0</td>\n",
       "      <td>0</td>\n",
       "      <td>0</td>\n",
       "      <td>0</td>\n",
       "      <td>0</td>\n",
       "      <td>0</td>\n",
       "      <td>0</td>\n",
       "      <td>0</td>\n",
       "      <td>0</td>\n",
       "    </tr>\n",
       "    <tr>\n",
       "      <td>2</td>\n",
       "      <td>Landing Page Submission</td>\n",
       "      <td>Direct Traffic</td>\n",
       "      <td>1</td>\n",
       "      <td>2.0</td>\n",
       "      <td>1532</td>\n",
       "      <td>2.0</td>\n",
       "      <td>Email Opened</td>\n",
       "      <td>Business Administration</td>\n",
       "      <td>Mumbai</td>\n",
       "      <td>1</td>\n",
       "      <td>...</td>\n",
       "      <td>0</td>\n",
       "      <td>0</td>\n",
       "      <td>0</td>\n",
       "      <td>0</td>\n",
       "      <td>1</td>\n",
       "      <td>0</td>\n",
       "      <td>0</td>\n",
       "      <td>0</td>\n",
       "      <td>0</td>\n",
       "      <td>0</td>\n",
       "    </tr>\n",
       "    <tr>\n",
       "      <td>3</td>\n",
       "      <td>Landing Page Submission</td>\n",
       "      <td>Direct Traffic</td>\n",
       "      <td>0</td>\n",
       "      <td>1.0</td>\n",
       "      <td>305</td>\n",
       "      <td>1.0</td>\n",
       "      <td>Unreachable</td>\n",
       "      <td>Media and Advertising</td>\n",
       "      <td>Mumbai</td>\n",
       "      <td>0</td>\n",
       "      <td>...</td>\n",
       "      <td>0</td>\n",
       "      <td>0</td>\n",
       "      <td>0</td>\n",
       "      <td>0</td>\n",
       "      <td>1</td>\n",
       "      <td>0</td>\n",
       "      <td>0</td>\n",
       "      <td>0</td>\n",
       "      <td>0</td>\n",
       "      <td>0</td>\n",
       "    </tr>\n",
       "    <tr>\n",
       "      <td>4</td>\n",
       "      <td>Landing Page Submission</td>\n",
       "      <td>Google</td>\n",
       "      <td>1</td>\n",
       "      <td>2.0</td>\n",
       "      <td>1428</td>\n",
       "      <td>1.0</td>\n",
       "      <td>Converted to Lead</td>\n",
       "      <td>Not Specified</td>\n",
       "      <td>Mumbai</td>\n",
       "      <td>0</td>\n",
       "      <td>...</td>\n",
       "      <td>0</td>\n",
       "      <td>0</td>\n",
       "      <td>0</td>\n",
       "      <td>0</td>\n",
       "      <td>1</td>\n",
       "      <td>0</td>\n",
       "      <td>0</td>\n",
       "      <td>0</td>\n",
       "      <td>0</td>\n",
       "      <td>0</td>\n",
       "    </tr>\n",
       "  </tbody>\n",
       "</table>\n",
       "<p>5 rows × 57 columns</p>\n",
       "</div>"
      ],
      "text/plain": [
       "               Lead Origin     Lead Source  Converted  TotalVisits  \\\n",
       "0                      API      Olark Chat          0          0.0   \n",
       "1                      API  Organic Search          0          5.0   \n",
       "2  Landing Page Submission  Direct Traffic          1          2.0   \n",
       "3  Landing Page Submission  Direct Traffic          0          1.0   \n",
       "4  Landing Page Submission          Google          1          2.0   \n",
       "\n",
       "   Total Time Spent on Website  Page Views Per Visit            Last Activity  \\\n",
       "0                            0                   0.0  Page Visited on Website   \n",
       "1                          674                   2.5             Email Opened   \n",
       "2                         1532                   2.0             Email Opened   \n",
       "3                          305                   1.0              Unreachable   \n",
       "4                         1428                   1.0        Converted to Lead   \n",
       "\n",
       "            Specialization           City  \\\n",
       "0            Not Specified  Not Specified   \n",
       "1            Not Specified  Not Specified   \n",
       "2  Business Administration         Mumbai   \n",
       "3    Media and Advertising         Mumbai   \n",
       "4            Not Specified         Mumbai   \n",
       "\n",
       "   A free copy of Mastering The Interview  ...  \\\n",
       "0                                       0  ...   \n",
       "1                                       0  ...   \n",
       "2                                       1  ...   \n",
       "3                                       0  ...   \n",
       "4                                       0  ...   \n",
       "\n",
       "   Specialization_Rural and Agribusiness  Specialization_Services Excellence  \\\n",
       "0                                      0                                   0   \n",
       "1                                      0                                   0   \n",
       "2                                      0                                   0   \n",
       "3                                      0                                   0   \n",
       "4                                      0                                   0   \n",
       "\n",
       "   Specialization_Supply Chain Management  Specialization_Travel and Tourism  \\\n",
       "0                                       0                                  0   \n",
       "1                                       0                                  0   \n",
       "2                                       0                                  0   \n",
       "3                                       0                                  0   \n",
       "4                                       0                                  0   \n",
       "\n",
       "   City_Mumbai  City_Other Cities  City_Other Cities of Maharashtra  \\\n",
       "0            0                  0                                 0   \n",
       "1            0                  0                                 0   \n",
       "2            1                  0                                 0   \n",
       "3            1                  0                                 0   \n",
       "4            1                  0                                 0   \n",
       "\n",
       "   City_Other Metro Cities  City_Thane & Outskirts  City_Tier II Cities  \n",
       "0                        0                       0                    0  \n",
       "1                        0                       0                    0  \n",
       "2                        0                       0                    0  \n",
       "3                        0                       0                    0  \n",
       "4                        0                       0                    0  \n",
       "\n",
       "[5 rows x 57 columns]"
      ]
     },
     "execution_count": 63,
     "metadata": {},
     "output_type": "execute_result"
    }
   ],
   "source": [
    "# Let's now concat the dummies dataframe with the master dataframe.\n",
    "data = pd.concat([data, dummies_df], axis = 1)\n",
    "\n",
    "# Look at the head of the dataframe.\n",
    "data.head()"
   ]
  },
  {
   "cell_type": "code",
   "execution_count": 64,
   "metadata": {},
   "outputs": [
    {
     "data": {
      "text/html": [
       "<div>\n",
       "<style scoped>\n",
       "    .dataframe tbody tr th:only-of-type {\n",
       "        vertical-align: middle;\n",
       "    }\n",
       "\n",
       "    .dataframe tbody tr th {\n",
       "        vertical-align: top;\n",
       "    }\n",
       "\n",
       "    .dataframe thead th {\n",
       "        text-align: right;\n",
       "    }\n",
       "</style>\n",
       "<table border=\"1\" class=\"dataframe\">\n",
       "  <thead>\n",
       "    <tr style=\"text-align: right;\">\n",
       "      <th></th>\n",
       "      <th>Converted</th>\n",
       "      <th>TotalVisits</th>\n",
       "      <th>Total Time Spent on Website</th>\n",
       "      <th>Page Views Per Visit</th>\n",
       "      <th>A free copy of Mastering The Interview</th>\n",
       "      <th>Lead Origin_API</th>\n",
       "      <th>Lead Origin_Landing Page Submission</th>\n",
       "      <th>Lead Origin_Lead Add Form</th>\n",
       "      <th>Lead Origin_Lead Import</th>\n",
       "      <th>Lead Source_Direct Traffic</th>\n",
       "      <th>...</th>\n",
       "      <th>Specialization_Rural and Agribusiness</th>\n",
       "      <th>Specialization_Services Excellence</th>\n",
       "      <th>Specialization_Supply Chain Management</th>\n",
       "      <th>Specialization_Travel and Tourism</th>\n",
       "      <th>City_Mumbai</th>\n",
       "      <th>City_Other Cities</th>\n",
       "      <th>City_Other Cities of Maharashtra</th>\n",
       "      <th>City_Other Metro Cities</th>\n",
       "      <th>City_Thane &amp; Outskirts</th>\n",
       "      <th>City_Tier II Cities</th>\n",
       "    </tr>\n",
       "  </thead>\n",
       "  <tbody>\n",
       "    <tr>\n",
       "      <td>0</td>\n",
       "      <td>0</td>\n",
       "      <td>0.0</td>\n",
       "      <td>0</td>\n",
       "      <td>0.0</td>\n",
       "      <td>0</td>\n",
       "      <td>1</td>\n",
       "      <td>0</td>\n",
       "      <td>0</td>\n",
       "      <td>0</td>\n",
       "      <td>0</td>\n",
       "      <td>...</td>\n",
       "      <td>0</td>\n",
       "      <td>0</td>\n",
       "      <td>0</td>\n",
       "      <td>0</td>\n",
       "      <td>0</td>\n",
       "      <td>0</td>\n",
       "      <td>0</td>\n",
       "      <td>0</td>\n",
       "      <td>0</td>\n",
       "      <td>0</td>\n",
       "    </tr>\n",
       "    <tr>\n",
       "      <td>1</td>\n",
       "      <td>0</td>\n",
       "      <td>5.0</td>\n",
       "      <td>674</td>\n",
       "      <td>2.5</td>\n",
       "      <td>0</td>\n",
       "      <td>1</td>\n",
       "      <td>0</td>\n",
       "      <td>0</td>\n",
       "      <td>0</td>\n",
       "      <td>0</td>\n",
       "      <td>...</td>\n",
       "      <td>0</td>\n",
       "      <td>0</td>\n",
       "      <td>0</td>\n",
       "      <td>0</td>\n",
       "      <td>0</td>\n",
       "      <td>0</td>\n",
       "      <td>0</td>\n",
       "      <td>0</td>\n",
       "      <td>0</td>\n",
       "      <td>0</td>\n",
       "    </tr>\n",
       "    <tr>\n",
       "      <td>2</td>\n",
       "      <td>1</td>\n",
       "      <td>2.0</td>\n",
       "      <td>1532</td>\n",
       "      <td>2.0</td>\n",
       "      <td>1</td>\n",
       "      <td>0</td>\n",
       "      <td>1</td>\n",
       "      <td>0</td>\n",
       "      <td>0</td>\n",
       "      <td>1</td>\n",
       "      <td>...</td>\n",
       "      <td>0</td>\n",
       "      <td>0</td>\n",
       "      <td>0</td>\n",
       "      <td>0</td>\n",
       "      <td>1</td>\n",
       "      <td>0</td>\n",
       "      <td>0</td>\n",
       "      <td>0</td>\n",
       "      <td>0</td>\n",
       "      <td>0</td>\n",
       "    </tr>\n",
       "    <tr>\n",
       "      <td>3</td>\n",
       "      <td>0</td>\n",
       "      <td>1.0</td>\n",
       "      <td>305</td>\n",
       "      <td>1.0</td>\n",
       "      <td>0</td>\n",
       "      <td>0</td>\n",
       "      <td>1</td>\n",
       "      <td>0</td>\n",
       "      <td>0</td>\n",
       "      <td>1</td>\n",
       "      <td>...</td>\n",
       "      <td>0</td>\n",
       "      <td>0</td>\n",
       "      <td>0</td>\n",
       "      <td>0</td>\n",
       "      <td>1</td>\n",
       "      <td>0</td>\n",
       "      <td>0</td>\n",
       "      <td>0</td>\n",
       "      <td>0</td>\n",
       "      <td>0</td>\n",
       "    </tr>\n",
       "    <tr>\n",
       "      <td>4</td>\n",
       "      <td>1</td>\n",
       "      <td>2.0</td>\n",
       "      <td>1428</td>\n",
       "      <td>1.0</td>\n",
       "      <td>0</td>\n",
       "      <td>0</td>\n",
       "      <td>1</td>\n",
       "      <td>0</td>\n",
       "      <td>0</td>\n",
       "      <td>0</td>\n",
       "      <td>...</td>\n",
       "      <td>0</td>\n",
       "      <td>0</td>\n",
       "      <td>0</td>\n",
       "      <td>0</td>\n",
       "      <td>1</td>\n",
       "      <td>0</td>\n",
       "      <td>0</td>\n",
       "      <td>0</td>\n",
       "      <td>0</td>\n",
       "      <td>0</td>\n",
       "    </tr>\n",
       "  </tbody>\n",
       "</table>\n",
       "<p>5 rows × 52 columns</p>\n",
       "</div>"
      ],
      "text/plain": [
       "   Converted  TotalVisits  Total Time Spent on Website  Page Views Per Visit  \\\n",
       "0          0          0.0                            0                   0.0   \n",
       "1          0          5.0                          674                   2.5   \n",
       "2          1          2.0                         1532                   2.0   \n",
       "3          0          1.0                          305                   1.0   \n",
       "4          1          2.0                         1428                   1.0   \n",
       "\n",
       "   A free copy of Mastering The Interview  Lead Origin_API  \\\n",
       "0                                       0                1   \n",
       "1                                       0                1   \n",
       "2                                       1                0   \n",
       "3                                       0                0   \n",
       "4                                       0                0   \n",
       "\n",
       "   Lead Origin_Landing Page Submission  Lead Origin_Lead Add Form  \\\n",
       "0                                    0                          0   \n",
       "1                                    0                          0   \n",
       "2                                    1                          0   \n",
       "3                                    1                          0   \n",
       "4                                    1                          0   \n",
       "\n",
       "   Lead Origin_Lead Import  Lead Source_Direct Traffic  ...  \\\n",
       "0                        0                           0  ...   \n",
       "1                        0                           0  ...   \n",
       "2                        0                           1  ...   \n",
       "3                        0                           1  ...   \n",
       "4                        0                           0  ...   \n",
       "\n",
       "   Specialization_Rural and Agribusiness  Specialization_Services Excellence  \\\n",
       "0                                      0                                   0   \n",
       "1                                      0                                   0   \n",
       "2                                      0                                   0   \n",
       "3                                      0                                   0   \n",
       "4                                      0                                   0   \n",
       "\n",
       "   Specialization_Supply Chain Management  Specialization_Travel and Tourism  \\\n",
       "0                                       0                                  0   \n",
       "1                                       0                                  0   \n",
       "2                                       0                                  0   \n",
       "3                                       0                                  0   \n",
       "4                                       0                                  0   \n",
       "\n",
       "   City_Mumbai  City_Other Cities  City_Other Cities of Maharashtra  \\\n",
       "0            0                  0                                 0   \n",
       "1            0                  0                                 0   \n",
       "2            1                  0                                 0   \n",
       "3            1                  0                                 0   \n",
       "4            1                  0                                 0   \n",
       "\n",
       "   City_Other Metro Cities  City_Thane & Outskirts  City_Tier II Cities  \n",
       "0                        0                       0                    0  \n",
       "1                        0                       0                    0  \n",
       "2                        0                       0                    0  \n",
       "3                        0                       0                    0  \n",
       "4                        0                       0                    0  \n",
       "\n",
       "[5 rows x 52 columns]"
      ]
     },
     "execution_count": 64,
     "metadata": {},
     "output_type": "execute_result"
    }
   ],
   "source": [
    "# Finally, let's drop the original categorical variables.\n",
    "data.drop(cat_cols, axis=1, inplace=True)\n",
    "\n",
    "# Look at the head of the dataframe to confirm.\n",
    "data.head()"
   ]
  },
  {
   "cell_type": "code",
   "execution_count": 65,
   "metadata": {},
   "outputs": [
    {
     "data": {
      "text/plain": [
       "Index([], dtype='object')"
      ]
     },
     "execution_count": 65,
     "metadata": {},
     "output_type": "execute_result"
    }
   ],
   "source": [
    "# Final check to confirm that there are no categorical elements.\n",
    "data.select_dtypes(include=['object']).columns"
   ]
  },
  {
   "cell_type": "markdown",
   "metadata": {},
   "source": [
    "#### Test-Train split"
   ]
  },
  {
   "cell_type": "code",
   "execution_count": 66,
   "metadata": {},
   "outputs": [
    {
     "data": {
      "text/html": [
       "<div>\n",
       "<style scoped>\n",
       "    .dataframe tbody tr th:only-of-type {\n",
       "        vertical-align: middle;\n",
       "    }\n",
       "\n",
       "    .dataframe tbody tr th {\n",
       "        vertical-align: top;\n",
       "    }\n",
       "\n",
       "    .dataframe thead th {\n",
       "        text-align: right;\n",
       "    }\n",
       "</style>\n",
       "<table border=\"1\" class=\"dataframe\">\n",
       "  <thead>\n",
       "    <tr style=\"text-align: right;\">\n",
       "      <th></th>\n",
       "      <th>TotalVisits</th>\n",
       "      <th>Total Time Spent on Website</th>\n",
       "      <th>Page Views Per Visit</th>\n",
       "      <th>A free copy of Mastering The Interview</th>\n",
       "      <th>Lead Origin_API</th>\n",
       "      <th>Lead Origin_Landing Page Submission</th>\n",
       "      <th>Lead Origin_Lead Add Form</th>\n",
       "      <th>Lead Origin_Lead Import</th>\n",
       "      <th>Lead Source_Direct Traffic</th>\n",
       "      <th>Lead Source_Facebook</th>\n",
       "      <th>...</th>\n",
       "      <th>Specialization_Rural and Agribusiness</th>\n",
       "      <th>Specialization_Services Excellence</th>\n",
       "      <th>Specialization_Supply Chain Management</th>\n",
       "      <th>Specialization_Travel and Tourism</th>\n",
       "      <th>City_Mumbai</th>\n",
       "      <th>City_Other Cities</th>\n",
       "      <th>City_Other Cities of Maharashtra</th>\n",
       "      <th>City_Other Metro Cities</th>\n",
       "      <th>City_Thane &amp; Outskirts</th>\n",
       "      <th>City_Tier II Cities</th>\n",
       "    </tr>\n",
       "  </thead>\n",
       "  <tbody>\n",
       "    <tr>\n",
       "      <td>0</td>\n",
       "      <td>0.0</td>\n",
       "      <td>0</td>\n",
       "      <td>0.0</td>\n",
       "      <td>0</td>\n",
       "      <td>1</td>\n",
       "      <td>0</td>\n",
       "      <td>0</td>\n",
       "      <td>0</td>\n",
       "      <td>0</td>\n",
       "      <td>0</td>\n",
       "      <td>...</td>\n",
       "      <td>0</td>\n",
       "      <td>0</td>\n",
       "      <td>0</td>\n",
       "      <td>0</td>\n",
       "      <td>0</td>\n",
       "      <td>0</td>\n",
       "      <td>0</td>\n",
       "      <td>0</td>\n",
       "      <td>0</td>\n",
       "      <td>0</td>\n",
       "    </tr>\n",
       "    <tr>\n",
       "      <td>1</td>\n",
       "      <td>5.0</td>\n",
       "      <td>674</td>\n",
       "      <td>2.5</td>\n",
       "      <td>0</td>\n",
       "      <td>1</td>\n",
       "      <td>0</td>\n",
       "      <td>0</td>\n",
       "      <td>0</td>\n",
       "      <td>0</td>\n",
       "      <td>0</td>\n",
       "      <td>...</td>\n",
       "      <td>0</td>\n",
       "      <td>0</td>\n",
       "      <td>0</td>\n",
       "      <td>0</td>\n",
       "      <td>0</td>\n",
       "      <td>0</td>\n",
       "      <td>0</td>\n",
       "      <td>0</td>\n",
       "      <td>0</td>\n",
       "      <td>0</td>\n",
       "    </tr>\n",
       "    <tr>\n",
       "      <td>2</td>\n",
       "      <td>2.0</td>\n",
       "      <td>1532</td>\n",
       "      <td>2.0</td>\n",
       "      <td>1</td>\n",
       "      <td>0</td>\n",
       "      <td>1</td>\n",
       "      <td>0</td>\n",
       "      <td>0</td>\n",
       "      <td>1</td>\n",
       "      <td>0</td>\n",
       "      <td>...</td>\n",
       "      <td>0</td>\n",
       "      <td>0</td>\n",
       "      <td>0</td>\n",
       "      <td>0</td>\n",
       "      <td>1</td>\n",
       "      <td>0</td>\n",
       "      <td>0</td>\n",
       "      <td>0</td>\n",
       "      <td>0</td>\n",
       "      <td>0</td>\n",
       "    </tr>\n",
       "    <tr>\n",
       "      <td>3</td>\n",
       "      <td>1.0</td>\n",
       "      <td>305</td>\n",
       "      <td>1.0</td>\n",
       "      <td>0</td>\n",
       "      <td>0</td>\n",
       "      <td>1</td>\n",
       "      <td>0</td>\n",
       "      <td>0</td>\n",
       "      <td>1</td>\n",
       "      <td>0</td>\n",
       "      <td>...</td>\n",
       "      <td>0</td>\n",
       "      <td>0</td>\n",
       "      <td>0</td>\n",
       "      <td>0</td>\n",
       "      <td>1</td>\n",
       "      <td>0</td>\n",
       "      <td>0</td>\n",
       "      <td>0</td>\n",
       "      <td>0</td>\n",
       "      <td>0</td>\n",
       "    </tr>\n",
       "    <tr>\n",
       "      <td>4</td>\n",
       "      <td>2.0</td>\n",
       "      <td>1428</td>\n",
       "      <td>1.0</td>\n",
       "      <td>0</td>\n",
       "      <td>0</td>\n",
       "      <td>1</td>\n",
       "      <td>0</td>\n",
       "      <td>0</td>\n",
       "      <td>0</td>\n",
       "      <td>0</td>\n",
       "      <td>...</td>\n",
       "      <td>0</td>\n",
       "      <td>0</td>\n",
       "      <td>0</td>\n",
       "      <td>0</td>\n",
       "      <td>1</td>\n",
       "      <td>0</td>\n",
       "      <td>0</td>\n",
       "      <td>0</td>\n",
       "      <td>0</td>\n",
       "      <td>0</td>\n",
       "    </tr>\n",
       "  </tbody>\n",
       "</table>\n",
       "<p>5 rows × 51 columns</p>\n",
       "</div>"
      ],
      "text/plain": [
       "   TotalVisits  Total Time Spent on Website  Page Views Per Visit  \\\n",
       "0          0.0                            0                   0.0   \n",
       "1          5.0                          674                   2.5   \n",
       "2          2.0                         1532                   2.0   \n",
       "3          1.0                          305                   1.0   \n",
       "4          2.0                         1428                   1.0   \n",
       "\n",
       "   A free copy of Mastering The Interview  Lead Origin_API  \\\n",
       "0                                       0                1   \n",
       "1                                       0                1   \n",
       "2                                       1                0   \n",
       "3                                       0                0   \n",
       "4                                       0                0   \n",
       "\n",
       "   Lead Origin_Landing Page Submission  Lead Origin_Lead Add Form  \\\n",
       "0                                    0                          0   \n",
       "1                                    0                          0   \n",
       "2                                    1                          0   \n",
       "3                                    1                          0   \n",
       "4                                    1                          0   \n",
       "\n",
       "   Lead Origin_Lead Import  Lead Source_Direct Traffic  Lead Source_Facebook  \\\n",
       "0                        0                           0                     0   \n",
       "1                        0                           0                     0   \n",
       "2                        0                           1                     0   \n",
       "3                        0                           1                     0   \n",
       "4                        0                           0                     0   \n",
       "\n",
       "   ...  Specialization_Rural and Agribusiness  \\\n",
       "0  ...                                      0   \n",
       "1  ...                                      0   \n",
       "2  ...                                      0   \n",
       "3  ...                                      0   \n",
       "4  ...                                      0   \n",
       "\n",
       "   Specialization_Services Excellence  Specialization_Supply Chain Management  \\\n",
       "0                                   0                                       0   \n",
       "1                                   0                                       0   \n",
       "2                                   0                                       0   \n",
       "3                                   0                                       0   \n",
       "4                                   0                                       0   \n",
       "\n",
       "   Specialization_Travel and Tourism  City_Mumbai  City_Other Cities  \\\n",
       "0                                  0            0                  0   \n",
       "1                                  0            0                  0   \n",
       "2                                  0            1                  0   \n",
       "3                                  0            1                  0   \n",
       "4                                  0            1                  0   \n",
       "\n",
       "   City_Other Cities of Maharashtra  City_Other Metro Cities  \\\n",
       "0                                 0                        0   \n",
       "1                                 0                        0   \n",
       "2                                 0                        0   \n",
       "3                                 0                        0   \n",
       "4                                 0                        0   \n",
       "\n",
       "   City_Thane & Outskirts  City_Tier II Cities  \n",
       "0                       0                    0  \n",
       "1                       0                    0  \n",
       "2                       0                    0  \n",
       "3                       0                    0  \n",
       "4                       0                    0  \n",
       "\n",
       "[5 rows x 51 columns]"
      ]
     },
     "execution_count": 66,
     "metadata": {},
     "output_type": "execute_result"
    }
   ],
   "source": [
    "# Put the feature variables to X.\n",
    "X = data.drop('Converted', axis=1)\n",
    "X.head()"
   ]
  },
  {
   "cell_type": "code",
   "execution_count": 67,
   "metadata": {},
   "outputs": [
    {
     "data": {
      "text/plain": [
       "0    0\n",
       "1    0\n",
       "2    1\n",
       "3    0\n",
       "4    1\n",
       "Name: Converted, dtype: int64"
      ]
     },
     "execution_count": 67,
     "metadata": {},
     "output_type": "execute_result"
    }
   ],
   "source": [
    "# Put the response variable to y.\n",
    "y = data['Converted']\n",
    "y.head()"
   ]
  },
  {
   "cell_type": "code",
   "execution_count": 68,
   "metadata": {},
   "outputs": [],
   "source": [
    "# Split the data into train and test\n",
    "X_train, X_test, y_train, y_test = train_test_split(X, y, train_size=0.7, test_size=0.3, random_state=100)"
   ]
  },
  {
   "cell_type": "markdown",
   "metadata": {},
   "source": [
    "### SCALING OF DATA"
   ]
  },
  {
   "cell_type": "markdown",
   "metadata": {},
   "source": [
    "<p style=\"font-family: Arial; font-size:1.0em;color:blue;\">Scaling is an important step in the data pre-processing of the model. It helps us in analysing the data more easily. Since, the range of features vary widely, scaling is used to limit or set the values in a certain range. This helps us in analysing the data better because all the features has the values in certain range. <br>"
   ]
  },
  {
   "cell_type": "code",
   "execution_count": 69,
   "metadata": {},
   "outputs": [],
   "source": [
    "# Create a scaler object using StandardScaler()\n",
    "scaler = StandardScaler()"
   ]
  },
  {
   "cell_type": "markdown",
   "metadata": {},
   "source": [
    "<p style=\"font-family: Arial; font-size:1.0em;color:blue;\">Apply scaler() to all the columns except the 'yes-no' and 'dummy' variables"
   ]
  },
  {
   "cell_type": "code",
   "execution_count": 70,
   "metadata": {},
   "outputs": [
    {
     "data": {
      "text/html": [
       "<div>\n",
       "<style scoped>\n",
       "    .dataframe tbody tr th:only-of-type {\n",
       "        vertical-align: middle;\n",
       "    }\n",
       "\n",
       "    .dataframe tbody tr th {\n",
       "        vertical-align: top;\n",
       "    }\n",
       "\n",
       "    .dataframe thead th {\n",
       "        text-align: right;\n",
       "    }\n",
       "</style>\n",
       "<table border=\"1\" class=\"dataframe\">\n",
       "  <thead>\n",
       "    <tr style=\"text-align: right;\">\n",
       "      <th></th>\n",
       "      <th>TotalVisits</th>\n",
       "      <th>Total Time Spent on Website</th>\n",
       "      <th>Page Views Per Visit</th>\n",
       "      <th>A free copy of Mastering The Interview</th>\n",
       "      <th>Lead Origin_API</th>\n",
       "      <th>Lead Origin_Landing Page Submission</th>\n",
       "      <th>Lead Origin_Lead Add Form</th>\n",
       "      <th>Lead Origin_Lead Import</th>\n",
       "      <th>Lead Source_Direct Traffic</th>\n",
       "      <th>Lead Source_Facebook</th>\n",
       "      <th>...</th>\n",
       "      <th>Specialization_Rural and Agribusiness</th>\n",
       "      <th>Specialization_Services Excellence</th>\n",
       "      <th>Specialization_Supply Chain Management</th>\n",
       "      <th>Specialization_Travel and Tourism</th>\n",
       "      <th>City_Mumbai</th>\n",
       "      <th>City_Other Cities</th>\n",
       "      <th>City_Other Cities of Maharashtra</th>\n",
       "      <th>City_Other Metro Cities</th>\n",
       "      <th>City_Thane &amp; Outskirts</th>\n",
       "      <th>City_Tier II Cities</th>\n",
       "    </tr>\n",
       "  </thead>\n",
       "  <tbody>\n",
       "    <tr>\n",
       "      <td>5182</td>\n",
       "      <td>-0.744673</td>\n",
       "      <td>-0.770602</td>\n",
       "      <td>-0.650023</td>\n",
       "      <td>0</td>\n",
       "      <td>1</td>\n",
       "      <td>0</td>\n",
       "      <td>0</td>\n",
       "      <td>0</td>\n",
       "      <td>0</td>\n",
       "      <td>0</td>\n",
       "      <td>...</td>\n",
       "      <td>0</td>\n",
       "      <td>0</td>\n",
       "      <td>0</td>\n",
       "      <td>0</td>\n",
       "      <td>0</td>\n",
       "      <td>0</td>\n",
       "      <td>0</td>\n",
       "      <td>0</td>\n",
       "      <td>0</td>\n",
       "      <td>0</td>\n",
       "    </tr>\n",
       "    <tr>\n",
       "      <td>8469</td>\n",
       "      <td>-0.332511</td>\n",
       "      <td>-0.532344</td>\n",
       "      <td>-0.045307</td>\n",
       "      <td>1</td>\n",
       "      <td>0</td>\n",
       "      <td>1</td>\n",
       "      <td>0</td>\n",
       "      <td>0</td>\n",
       "      <td>1</td>\n",
       "      <td>0</td>\n",
       "      <td>...</td>\n",
       "      <td>0</td>\n",
       "      <td>0</td>\n",
       "      <td>0</td>\n",
       "      <td>0</td>\n",
       "      <td>0</td>\n",
       "      <td>0</td>\n",
       "      <td>0</td>\n",
       "      <td>0</td>\n",
       "      <td>1</td>\n",
       "      <td>0</td>\n",
       "    </tr>\n",
       "    <tr>\n",
       "      <td>8382</td>\n",
       "      <td>0.079651</td>\n",
       "      <td>1.685292</td>\n",
       "      <td>-0.347665</td>\n",
       "      <td>0</td>\n",
       "      <td>1</td>\n",
       "      <td>0</td>\n",
       "      <td>0</td>\n",
       "      <td>0</td>\n",
       "      <td>0</td>\n",
       "      <td>0</td>\n",
       "      <td>...</td>\n",
       "      <td>0</td>\n",
       "      <td>0</td>\n",
       "      <td>0</td>\n",
       "      <td>0</td>\n",
       "      <td>0</td>\n",
       "      <td>0</td>\n",
       "      <td>0</td>\n",
       "      <td>0</td>\n",
       "      <td>0</td>\n",
       "      <td>0</td>\n",
       "    </tr>\n",
       "    <tr>\n",
       "      <td>8031</td>\n",
       "      <td>0.079651</td>\n",
       "      <td>-0.081485</td>\n",
       "      <td>0.559408</td>\n",
       "      <td>0</td>\n",
       "      <td>0</td>\n",
       "      <td>1</td>\n",
       "      <td>0</td>\n",
       "      <td>0</td>\n",
       "      <td>1</td>\n",
       "      <td>0</td>\n",
       "      <td>...</td>\n",
       "      <td>0</td>\n",
       "      <td>0</td>\n",
       "      <td>1</td>\n",
       "      <td>0</td>\n",
       "      <td>0</td>\n",
       "      <td>1</td>\n",
       "      <td>0</td>\n",
       "      <td>0</td>\n",
       "      <td>0</td>\n",
       "      <td>0</td>\n",
       "    </tr>\n",
       "    <tr>\n",
       "      <td>6712</td>\n",
       "      <td>0.079651</td>\n",
       "      <td>2.942563</td>\n",
       "      <td>-0.045307</td>\n",
       "      <td>0</td>\n",
       "      <td>0</td>\n",
       "      <td>0</td>\n",
       "      <td>1</td>\n",
       "      <td>0</td>\n",
       "      <td>0</td>\n",
       "      <td>0</td>\n",
       "      <td>...</td>\n",
       "      <td>0</td>\n",
       "      <td>0</td>\n",
       "      <td>0</td>\n",
       "      <td>0</td>\n",
       "      <td>0</td>\n",
       "      <td>0</td>\n",
       "      <td>0</td>\n",
       "      <td>0</td>\n",
       "      <td>0</td>\n",
       "      <td>0</td>\n",
       "    </tr>\n",
       "  </tbody>\n",
       "</table>\n",
       "<p>5 rows × 51 columns</p>\n",
       "</div>"
      ],
      "text/plain": [
       "      TotalVisits  Total Time Spent on Website  Page Views Per Visit  \\\n",
       "5182    -0.744673                    -0.770602             -0.650023   \n",
       "8469    -0.332511                    -0.532344             -0.045307   \n",
       "8382     0.079651                     1.685292             -0.347665   \n",
       "8031     0.079651                    -0.081485              0.559408   \n",
       "6712     0.079651                     2.942563             -0.045307   \n",
       "\n",
       "      A free copy of Mastering The Interview  Lead Origin_API  \\\n",
       "5182                                       0                1   \n",
       "8469                                       1                0   \n",
       "8382                                       0                1   \n",
       "8031                                       0                0   \n",
       "6712                                       0                0   \n",
       "\n",
       "      Lead Origin_Landing Page Submission  Lead Origin_Lead Add Form  \\\n",
       "5182                                    0                          0   \n",
       "8469                                    1                          0   \n",
       "8382                                    0                          0   \n",
       "8031                                    1                          0   \n",
       "6712                                    0                          1   \n",
       "\n",
       "      Lead Origin_Lead Import  Lead Source_Direct Traffic  \\\n",
       "5182                        0                           0   \n",
       "8469                        0                           1   \n",
       "8382                        0                           0   \n",
       "8031                        0                           1   \n",
       "6712                        0                           0   \n",
       "\n",
       "      Lead Source_Facebook  ...  Specialization_Rural and Agribusiness  \\\n",
       "5182                     0  ...                                      0   \n",
       "8469                     0  ...                                      0   \n",
       "8382                     0  ...                                      0   \n",
       "8031                     0  ...                                      0   \n",
       "6712                     0  ...                                      0   \n",
       "\n",
       "      Specialization_Services Excellence  \\\n",
       "5182                                   0   \n",
       "8469                                   0   \n",
       "8382                                   0   \n",
       "8031                                   0   \n",
       "6712                                   0   \n",
       "\n",
       "      Specialization_Supply Chain Management  \\\n",
       "5182                                       0   \n",
       "8469                                       0   \n",
       "8382                                       0   \n",
       "8031                                       1   \n",
       "6712                                       0   \n",
       "\n",
       "      Specialization_Travel and Tourism  City_Mumbai  City_Other Cities  \\\n",
       "5182                                  0            0                  0   \n",
       "8469                                  0            0                  0   \n",
       "8382                                  0            0                  0   \n",
       "8031                                  0            0                  1   \n",
       "6712                                  0            0                  0   \n",
       "\n",
       "      City_Other Cities of Maharashtra  City_Other Metro Cities  \\\n",
       "5182                                 0                        0   \n",
       "8469                                 0                        0   \n",
       "8382                                 0                        0   \n",
       "8031                                 0                        0   \n",
       "6712                                 0                        0   \n",
       "\n",
       "      City_Thane & Outskirts  City_Tier II Cities  \n",
       "5182                       0                    0  \n",
       "8469                       1                    0  \n",
       "8382                       0                    0  \n",
       "8031                       0                    0  \n",
       "6712                       0                    0  \n",
       "\n",
       "[5 rows x 51 columns]"
      ]
     },
     "execution_count": 70,
     "metadata": {},
     "output_type": "execute_result"
    }
   ],
   "source": [
    "# 'Fit' and transform the train set\n",
    "X_train[num_columns] = scaler.fit_transform(X_train[num_columns])\n",
    "\n",
    "# Look at the head of the dataframe.\n",
    "X_train.head()"
   ]
  },
  {
   "cell_type": "code",
   "execution_count": 71,
   "metadata": {},
   "outputs": [
    {
     "data": {
      "text/html": [
       "<div>\n",
       "<style scoped>\n",
       "    .dataframe tbody tr th:only-of-type {\n",
       "        vertical-align: middle;\n",
       "    }\n",
       "\n",
       "    .dataframe tbody tr th {\n",
       "        vertical-align: top;\n",
       "    }\n",
       "\n",
       "    .dataframe thead th {\n",
       "        text-align: right;\n",
       "    }\n",
       "</style>\n",
       "<table border=\"1\" class=\"dataframe\">\n",
       "  <thead>\n",
       "    <tr style=\"text-align: right;\">\n",
       "      <th></th>\n",
       "      <th>TotalVisits</th>\n",
       "      <th>Total Time Spent on Website</th>\n",
       "      <th>Page Views Per Visit</th>\n",
       "    </tr>\n",
       "  </thead>\n",
       "  <tbody>\n",
       "    <tr>\n",
       "      <td>count</td>\n",
       "      <td>6.075000e+03</td>\n",
       "      <td>6.075000e+03</td>\n",
       "      <td>6.075000e+03</td>\n",
       "    </tr>\n",
       "    <tr>\n",
       "      <td>mean</td>\n",
       "      <td>-4.728728e-17</td>\n",
       "      <td>2.869218e-17</td>\n",
       "      <td>-1.534118e-16</td>\n",
       "    </tr>\n",
       "    <tr>\n",
       "      <td>std</td>\n",
       "      <td>1.000082e+00</td>\n",
       "      <td>1.000082e+00</td>\n",
       "      <td>1.000082e+00</td>\n",
       "    </tr>\n",
       "    <tr>\n",
       "      <td>min</td>\n",
       "      <td>-1.156834e+00</td>\n",
       "      <td>-8.714036e-01</td>\n",
       "      <td>-1.254739e+00</td>\n",
       "    </tr>\n",
       "    <tr>\n",
       "      <td>25%</td>\n",
       "      <td>-1.156834e+00</td>\n",
       "      <td>-8.714036e-01</td>\n",
       "      <td>-1.254739e+00</td>\n",
       "    </tr>\n",
       "    <tr>\n",
       "      <td>50%</td>\n",
       "      <td>7.965066e-02</td>\n",
       "      <td>-4.425385e-01</td>\n",
       "      <td>-4.530739e-02</td>\n",
       "    </tr>\n",
       "    <tr>\n",
       "      <td>75%</td>\n",
       "      <td>4.918123e-01</td>\n",
       "      <td>8.019033e-01</td>\n",
       "      <td>5.594084e-01</td>\n",
       "    </tr>\n",
       "    <tr>\n",
       "      <td>max</td>\n",
       "      <td>3.376944e+00</td>\n",
       "      <td>3.257797e+00</td>\n",
       "      <td>2.373556e+00</td>\n",
       "    </tr>\n",
       "  </tbody>\n",
       "</table>\n",
       "</div>"
      ],
      "text/plain": [
       "        TotalVisits  Total Time Spent on Website  Page Views Per Visit\n",
       "count  6.075000e+03                 6.075000e+03          6.075000e+03\n",
       "mean  -4.728728e-17                 2.869218e-17         -1.534118e-16\n",
       "std    1.000082e+00                 1.000082e+00          1.000082e+00\n",
       "min   -1.156834e+00                -8.714036e-01         -1.254739e+00\n",
       "25%   -1.156834e+00                -8.714036e-01         -1.254739e+00\n",
       "50%    7.965066e-02                -4.425385e-01         -4.530739e-02\n",
       "75%    4.918123e-01                 8.019033e-01          5.594084e-01\n",
       "max    3.376944e+00                 3.257797e+00          2.373556e+00"
      ]
     },
     "execution_count": 71,
     "metadata": {},
     "output_type": "execute_result"
    }
   ],
   "source": [
    "# Look at the summary statistics of X_train.\n",
    "X_train[num_columns].describe()"
   ]
  },
  {
   "cell_type": "markdown",
   "metadata": {},
   "source": [
    "<p style=\"font-family: Arial; font-size:1.0em;color:blue;\">Apply scaler() to all the columns except the 'yes-no' and 'dummy' variables.<br>All the numerical columns have a mean = 0 and standard deviation = 1.\n",
    "This implies scaling is done correctly."
   ]
  },
  {
   "cell_type": "code",
   "execution_count": 72,
   "metadata": {},
   "outputs": [
    {
     "data": {
      "text/plain": [
       "38.39"
      ]
     },
     "execution_count": 72,
     "metadata": {},
     "output_type": "execute_result"
    }
   ],
   "source": [
    "# Check the conversion rate\n",
    "conversion_rate = round((sum(data['Converted'])/len(data['Converted'].index))*100,2)\n",
    "conversion_rate"
   ]
  },
  {
   "cell_type": "markdown",
   "metadata": {},
   "source": [
    "<p style=\"font-family: Arial; font-size:1.0em;color:blue;\">We have almost 38.39% conversion rate."
   ]
  },
  {
   "cell_type": "markdown",
   "metadata": {},
   "source": [
    "### MODEL BUILDING"
   ]
  },
  {
   "cell_type": "markdown",
   "metadata": {},
   "source": [
    "#### MODEL - 1"
   ]
  },
  {
   "cell_type": "code",
   "execution_count": 73,
   "metadata": {
    "scrolled": false
   },
   "outputs": [
    {
     "data": {
      "text/html": [
       "<table class=\"simpletable\">\n",
       "<caption>Generalized Linear Model Regression Results</caption>\n",
       "<tr>\n",
       "  <th>Dep. Variable:</th>       <td>Converted</td>    <th>  No. Observations:  </th>  <td>  6075</td> \n",
       "</tr>\n",
       "<tr>\n",
       "  <th>Model:</th>                  <td>GLM</td>       <th>  Df Residuals:      </th>  <td>  6023</td> \n",
       "</tr>\n",
       "<tr>\n",
       "  <th>Model Family:</th>        <td>Binomial</td>     <th>  Df Model:          </th>  <td>    51</td> \n",
       "</tr>\n",
       "<tr>\n",
       "  <th>Link Function:</th>         <td>logit</td>      <th>  Scale:             </th> <td>  1.0000</td>\n",
       "</tr>\n",
       "<tr>\n",
       "  <th>Method:</th>                <td>IRLS</td>       <th>  Log-Likelihood:    </th> <td> -2595.0</td>\n",
       "</tr>\n",
       "<tr>\n",
       "  <th>Date:</th>            <td>Mon, 20 Apr 2020</td> <th>  Deviance:          </th> <td>  5189.9</td>\n",
       "</tr>\n",
       "<tr>\n",
       "  <th>Time:</th>                <td>19:07:39</td>     <th>  Pearson chi2:      </th> <td>6.34e+03</td>\n",
       "</tr>\n",
       "<tr>\n",
       "  <th>No. Iterations:</th>         <td>19</td>        <th>                     </th>     <td> </td>   \n",
       "</tr>\n",
       "<tr>\n",
       "  <th>Covariance Type:</th>     <td>nonrobust</td>    <th>                     </th>     <td> </td>   \n",
       "</tr>\n",
       "</table>\n",
       "<table class=\"simpletable\">\n",
       "<tr>\n",
       "                          <td></td>                            <th>coef</th>     <th>std err</th>      <th>z</th>      <th>P>|z|</th>  <th>[0.025</th>    <th>0.975]</th>  \n",
       "</tr>\n",
       "<tr>\n",
       "  <th>const</th>                                            <td>   17.8776</td> <td> 1.77e+04</td> <td>    0.001</td> <td> 0.999</td> <td>-3.47e+04</td> <td> 3.48e+04</td>\n",
       "</tr>\n",
       "<tr>\n",
       "  <th>TotalVisits</th>                                      <td>    0.2171</td> <td>    0.053</td> <td>    4.062</td> <td> 0.000</td> <td>    0.112</td> <td>    0.322</td>\n",
       "</tr>\n",
       "<tr>\n",
       "  <th>Total Time Spent on Website</th>                      <td>    1.0670</td> <td>    0.041</td> <td>   26.317</td> <td> 0.000</td> <td>    0.988</td> <td>    1.147</td>\n",
       "</tr>\n",
       "<tr>\n",
       "  <th>Page Views Per Visit</th>                             <td>   -0.2767</td> <td>    0.061</td> <td>   -4.560</td> <td> 0.000</td> <td>   -0.396</td> <td>   -0.158</td>\n",
       "</tr>\n",
       "<tr>\n",
       "  <th>A free copy of Mastering The Interview</th>           <td>   -0.2512</td> <td>    0.112</td> <td>   -2.239</td> <td> 0.025</td> <td>   -0.471</td> <td>   -0.031</td>\n",
       "</tr>\n",
       "<tr>\n",
       "  <th>Lead Origin_API</th>                                  <td>  -18.4100</td> <td> 1.77e+04</td> <td>   -0.001</td> <td> 0.999</td> <td>-3.48e+04</td> <td> 3.47e+04</td>\n",
       "</tr>\n",
       "<tr>\n",
       "  <th>Lead Origin_Landing Page Submission</th>              <td>  -19.7157</td> <td> 1.77e+04</td> <td>   -0.001</td> <td> 0.999</td> <td>-3.48e+04</td> <td> 3.47e+04</td>\n",
       "</tr>\n",
       "<tr>\n",
       "  <th>Lead Origin_Lead Add Form</th>                        <td>  -15.6592</td> <td> 1.77e+04</td> <td>   -0.001</td> <td> 0.999</td> <td>-3.48e+04</td> <td> 3.47e+04</td>\n",
       "</tr>\n",
       "<tr>\n",
       "  <th>Lead Origin_Lead Import</th>                          <td>  -18.2624</td> <td> 1.77e+04</td> <td>   -0.001</td> <td> 0.999</td> <td>-3.48e+04</td> <td> 3.47e+04</td>\n",
       "</tr>\n",
       "<tr>\n",
       "  <th>Lead Source_Direct Traffic</th>                       <td>    0.1655</td> <td>    0.809</td> <td>    0.205</td> <td> 0.838</td> <td>   -1.420</td> <td>    1.751</td>\n",
       "</tr>\n",
       "<tr>\n",
       "  <th>Lead Source_Facebook</th>                             <td>   -0.5414</td> <td>    2.496</td> <td>   -0.217</td> <td> 0.828</td> <td>   -5.434</td> <td>    4.351</td>\n",
       "</tr>\n",
       "<tr>\n",
       "  <th>Lead Source_Google</th>                               <td>    0.3449</td> <td>    0.804</td> <td>    0.429</td> <td> 0.668</td> <td>   -1.231</td> <td>    1.920</td>\n",
       "</tr>\n",
       "<tr>\n",
       "  <th>Lead Source_Olark Chat</th>                           <td>    1.3137</td> <td>    0.813</td> <td>    1.617</td> <td> 0.106</td> <td>   -0.279</td> <td>    2.906</td>\n",
       "</tr>\n",
       "<tr>\n",
       "  <th>Lead Source_Organic Search</th>                       <td>    0.4781</td> <td>    0.813</td> <td>    0.588</td> <td> 0.556</td> <td>   -1.114</td> <td>    2.071</td>\n",
       "</tr>\n",
       "<tr>\n",
       "  <th>Lead Source_Reference</th>                            <td>    0.8105</td> <td>    0.889</td> <td>    0.912</td> <td> 0.362</td> <td>   -0.932</td> <td>    2.553</td>\n",
       "</tr>\n",
       "<tr>\n",
       "  <th>Lead Source_Referral Sites</th>                       <td>    0.1280</td> <td>    0.872</td> <td>    0.147</td> <td> 0.883</td> <td>   -1.582</td> <td>    1.838</td>\n",
       "</tr>\n",
       "<tr>\n",
       "  <th>Lead Source_Welingak Website</th>                     <td>    3.7638</td> <td>    1.329</td> <td>    2.832</td> <td> 0.005</td> <td>    1.159</td> <td>    6.368</td>\n",
       "</tr>\n",
       "<tr>\n",
       "  <th>Last Activity_Converted to Lead</th>                  <td>   -2.2594</td> <td>    0.702</td> <td>   -3.220</td> <td> 0.001</td> <td>   -3.635</td> <td>   -0.884</td>\n",
       "</tr>\n",
       "<tr>\n",
       "  <th>Last Activity_Email Bounced</th>                      <td>   -3.0464</td> <td>    0.735</td> <td>   -4.142</td> <td> 0.000</td> <td>   -4.488</td> <td>   -1.605</td>\n",
       "</tr>\n",
       "<tr>\n",
       "  <th>Last Activity_Email Link Clicked</th>                 <td>   -1.7508</td> <td>    0.701</td> <td>   -2.498</td> <td> 0.012</td> <td>   -3.125</td> <td>   -0.377</td>\n",
       "</tr>\n",
       "<tr>\n",
       "  <th>Last Activity_Email Opened</th>                       <td>   -1.3112</td> <td>    0.674</td> <td>   -1.947</td> <td> 0.052</td> <td>   -2.631</td> <td>    0.009</td>\n",
       "</tr>\n",
       "<tr>\n",
       "  <th>Last Activity_Form Submitted on Website</th>          <td>   -2.3810</td> <td>    0.751</td> <td>   -3.170</td> <td> 0.002</td> <td>   -3.853</td> <td>   -0.909</td>\n",
       "</tr>\n",
       "<tr>\n",
       "  <th>Last Activity_Had a Phone Conversation</th>           <td>    0.0022</td> <td>    0.902</td> <td>    0.002</td> <td> 0.998</td> <td>   -1.765</td> <td>    1.769</td>\n",
       "</tr>\n",
       "<tr>\n",
       "  <th>Last Activity_Olark Chat Conversation</th>            <td>   -3.0541</td> <td>    0.692</td> <td>   -4.416</td> <td> 0.000</td> <td>   -4.410</td> <td>   -1.699</td>\n",
       "</tr>\n",
       "<tr>\n",
       "  <th>Last Activity_Page Visited on Website</th>            <td>   -2.0087</td> <td>    0.689</td> <td>   -2.913</td> <td> 0.004</td> <td>   -3.360</td> <td>   -0.657</td>\n",
       "</tr>\n",
       "<tr>\n",
       "  <th>Last Activity_SMS Sent</th>                           <td>   -0.0687</td> <td>    0.674</td> <td>   -0.102</td> <td> 0.919</td> <td>   -1.390</td> <td>    1.253</td>\n",
       "</tr>\n",
       "<tr>\n",
       "  <th>Last Activity_Unreachable</th>                        <td>   -1.2464</td> <td>    0.741</td> <td>   -1.683</td> <td> 0.092</td> <td>   -2.698</td> <td>    0.205</td>\n",
       "</tr>\n",
       "<tr>\n",
       "  <th>Last Activity_Unsubscribed</th>                       <td>   -1.7303</td> <td>    0.787</td> <td>   -2.199</td> <td> 0.028</td> <td>   -3.273</td> <td>   -0.188</td>\n",
       "</tr>\n",
       "<tr>\n",
       "  <th>Specialization_Banking, Investment And Insurance</th> <td>    1.2876</td> <td>    0.239</td> <td>    5.391</td> <td> 0.000</td> <td>    0.819</td> <td>    1.756</td>\n",
       "</tr>\n",
       "<tr>\n",
       "  <th>Specialization_Business Administration</th>           <td>    1.2876</td> <td>    0.219</td> <td>    5.871</td> <td> 0.000</td> <td>    0.858</td> <td>    1.717</td>\n",
       "</tr>\n",
       "<tr>\n",
       "  <th>Specialization_E-Business</th>                        <td>    1.1109</td> <td>    0.473</td> <td>    2.350</td> <td> 0.019</td> <td>    0.184</td> <td>    2.038</td>\n",
       "</tr>\n",
       "<tr>\n",
       "  <th>Specialization_E-COMMERCE</th>                        <td>    1.3862</td> <td>    0.351</td> <td>    3.954</td> <td> 0.000</td> <td>    0.699</td> <td>    2.073</td>\n",
       "</tr>\n",
       "<tr>\n",
       "  <th>Specialization_Finance Management</th>                <td>    1.2143</td> <td>    0.183</td> <td>    6.621</td> <td> 0.000</td> <td>    0.855</td> <td>    1.574</td>\n",
       "</tr>\n",
       "<tr>\n",
       "  <th>Specialization_Healthcare Management</th>             <td>    1.4878</td> <td>    0.303</td> <td>    4.912</td> <td> 0.000</td> <td>    0.894</td> <td>    2.081</td>\n",
       "</tr>\n",
       "<tr>\n",
       "  <th>Specialization_Hospitality Management</th>            <td>    0.8595</td> <td>    0.339</td> <td>    2.532</td> <td> 0.011</td> <td>    0.194</td> <td>    1.525</td>\n",
       "</tr>\n",
       "<tr>\n",
       "  <th>Specialization_Human Resource Management</th>         <td>    1.2201</td> <td>    0.184</td> <td>    6.644</td> <td> 0.000</td> <td>    0.860</td> <td>    1.580</td>\n",
       "</tr>\n",
       "<tr>\n",
       "  <th>Specialization_IT Projects Management</th>            <td>    1.3818</td> <td>    0.228</td> <td>    6.068</td> <td> 0.000</td> <td>    0.935</td> <td>    1.828</td>\n",
       "</tr>\n",
       "<tr>\n",
       "  <th>Specialization_International Business</th>            <td>    1.2107</td> <td>    0.278</td> <td>    4.349</td> <td> 0.000</td> <td>    0.665</td> <td>    1.756</td>\n",
       "</tr>\n",
       "<tr>\n",
       "  <th>Specialization_Marketing Management</th>              <td>    1.4990</td> <td>    0.178</td> <td>    8.419</td> <td> 0.000</td> <td>    1.150</td> <td>    1.848</td>\n",
       "</tr>\n",
       "<tr>\n",
       "  <th>Specialization_Media and Advertising</th>             <td>    0.9878</td> <td>    0.278</td> <td>    3.555</td> <td> 0.000</td> <td>    0.443</td> <td>    1.532</td>\n",
       "</tr>\n",
       "<tr>\n",
       "  <th>Specialization_Operations Management</th>             <td>    1.4037</td> <td>    0.201</td> <td>    6.981</td> <td> 0.000</td> <td>    1.010</td> <td>    1.798</td>\n",
       "</tr>\n",
       "<tr>\n",
       "  <th>Specialization_Retail Management</th>                 <td>    1.0641</td> <td>    0.371</td> <td>    2.872</td> <td> 0.004</td> <td>    0.338</td> <td>    1.790</td>\n",
       "</tr>\n",
       "<tr>\n",
       "  <th>Specialization_Rural and Agribusiness</th>            <td>    1.2098</td> <td>    0.411</td> <td>    2.944</td> <td> 0.003</td> <td>    0.404</td> <td>    2.015</td>\n",
       "</tr>\n",
       "<tr>\n",
       "  <th>Specialization_Services Excellence</th>               <td>    0.9923</td> <td>    0.629</td> <td>    1.578</td> <td> 0.115</td> <td>   -0.240</td> <td>    2.225</td>\n",
       "</tr>\n",
       "<tr>\n",
       "  <th>Specialization_Supply Chain Management</th>           <td>    1.3234</td> <td>    0.226</td> <td>    5.866</td> <td> 0.000</td> <td>    0.881</td> <td>    1.766</td>\n",
       "</tr>\n",
       "<tr>\n",
       "  <th>Specialization_Travel and Tourism</th>                <td>    1.2826</td> <td>    0.282</td> <td>    4.542</td> <td> 0.000</td> <td>    0.729</td> <td>    1.836</td>\n",
       "</tr>\n",
       "<tr>\n",
       "  <th>City_Mumbai</th>                                      <td>    0.5475</td> <td>    0.178</td> <td>    3.078</td> <td> 0.002</td> <td>    0.199</td> <td>    0.896</td>\n",
       "</tr>\n",
       "<tr>\n",
       "  <th>City_Other Cities</th>                                <td>    0.5017</td> <td>    0.205</td> <td>    2.451</td> <td> 0.014</td> <td>    0.100</td> <td>    0.903</td>\n",
       "</tr>\n",
       "<tr>\n",
       "  <th>City_Other Cities of Maharashtra</th>                 <td>    0.6497</td> <td>    0.228</td> <td>    2.851</td> <td> 0.004</td> <td>    0.203</td> <td>    1.096</td>\n",
       "</tr>\n",
       "<tr>\n",
       "  <th>City_Other Metro Cities</th>                          <td>    0.5682</td> <td>    0.241</td> <td>    2.356</td> <td> 0.018</td> <td>    0.096</td> <td>    1.041</td>\n",
       "</tr>\n",
       "<tr>\n",
       "  <th>City_Thane & Outskirts</th>                           <td>    0.5768</td> <td>    0.202</td> <td>    2.856</td> <td> 0.004</td> <td>    0.181</td> <td>    0.973</td>\n",
       "</tr>\n",
       "<tr>\n",
       "  <th>City_Tier II Cities</th>                              <td>    0.6531</td> <td>    0.425</td> <td>    1.535</td> <td> 0.125</td> <td>   -0.181</td> <td>    1.487</td>\n",
       "</tr>\n",
       "</table>"
      ],
      "text/plain": [
       "<class 'statsmodels.iolib.summary.Summary'>\n",
       "\"\"\"\n",
       "                 Generalized Linear Model Regression Results                  \n",
       "==============================================================================\n",
       "Dep. Variable:              Converted   No. Observations:                 6075\n",
       "Model:                            GLM   Df Residuals:                     6023\n",
       "Model Family:                Binomial   Df Model:                           51\n",
       "Link Function:                  logit   Scale:                          1.0000\n",
       "Method:                          IRLS   Log-Likelihood:                -2595.0\n",
       "Date:                Mon, 20 Apr 2020   Deviance:                       5189.9\n",
       "Time:                        19:07:39   Pearson chi2:                 6.34e+03\n",
       "No. Iterations:                    19                                         \n",
       "Covariance Type:            nonrobust                                         \n",
       "====================================================================================================================\n",
       "                                                       coef    std err          z      P>|z|      [0.025      0.975]\n",
       "--------------------------------------------------------------------------------------------------------------------\n",
       "const                                               17.8776   1.77e+04      0.001      0.999   -3.47e+04    3.48e+04\n",
       "TotalVisits                                          0.2171      0.053      4.062      0.000       0.112       0.322\n",
       "Total Time Spent on Website                          1.0670      0.041     26.317      0.000       0.988       1.147\n",
       "Page Views Per Visit                                -0.2767      0.061     -4.560      0.000      -0.396      -0.158\n",
       "A free copy of Mastering The Interview              -0.2512      0.112     -2.239      0.025      -0.471      -0.031\n",
       "Lead Origin_API                                    -18.4100   1.77e+04     -0.001      0.999   -3.48e+04    3.47e+04\n",
       "Lead Origin_Landing Page Submission                -19.7157   1.77e+04     -0.001      0.999   -3.48e+04    3.47e+04\n",
       "Lead Origin_Lead Add Form                          -15.6592   1.77e+04     -0.001      0.999   -3.48e+04    3.47e+04\n",
       "Lead Origin_Lead Import                            -18.2624   1.77e+04     -0.001      0.999   -3.48e+04    3.47e+04\n",
       "Lead Source_Direct Traffic                           0.1655      0.809      0.205      0.838      -1.420       1.751\n",
       "Lead Source_Facebook                                -0.5414      2.496     -0.217      0.828      -5.434       4.351\n",
       "Lead Source_Google                                   0.3449      0.804      0.429      0.668      -1.231       1.920\n",
       "Lead Source_Olark Chat                               1.3137      0.813      1.617      0.106      -0.279       2.906\n",
       "Lead Source_Organic Search                           0.4781      0.813      0.588      0.556      -1.114       2.071\n",
       "Lead Source_Reference                                0.8105      0.889      0.912      0.362      -0.932       2.553\n",
       "Lead Source_Referral Sites                           0.1280      0.872      0.147      0.883      -1.582       1.838\n",
       "Lead Source_Welingak Website                         3.7638      1.329      2.832      0.005       1.159       6.368\n",
       "Last Activity_Converted to Lead                     -2.2594      0.702     -3.220      0.001      -3.635      -0.884\n",
       "Last Activity_Email Bounced                         -3.0464      0.735     -4.142      0.000      -4.488      -1.605\n",
       "Last Activity_Email Link Clicked                    -1.7508      0.701     -2.498      0.012      -3.125      -0.377\n",
       "Last Activity_Email Opened                          -1.3112      0.674     -1.947      0.052      -2.631       0.009\n",
       "Last Activity_Form Submitted on Website             -2.3810      0.751     -3.170      0.002      -3.853      -0.909\n",
       "Last Activity_Had a Phone Conversation               0.0022      0.902      0.002      0.998      -1.765       1.769\n",
       "Last Activity_Olark Chat Conversation               -3.0541      0.692     -4.416      0.000      -4.410      -1.699\n",
       "Last Activity_Page Visited on Website               -2.0087      0.689     -2.913      0.004      -3.360      -0.657\n",
       "Last Activity_SMS Sent                              -0.0687      0.674     -0.102      0.919      -1.390       1.253\n",
       "Last Activity_Unreachable                           -1.2464      0.741     -1.683      0.092      -2.698       0.205\n",
       "Last Activity_Unsubscribed                          -1.7303      0.787     -2.199      0.028      -3.273      -0.188\n",
       "Specialization_Banking, Investment And Insurance     1.2876      0.239      5.391      0.000       0.819       1.756\n",
       "Specialization_Business Administration               1.2876      0.219      5.871      0.000       0.858       1.717\n",
       "Specialization_E-Business                            1.1109      0.473      2.350      0.019       0.184       2.038\n",
       "Specialization_E-COMMERCE                            1.3862      0.351      3.954      0.000       0.699       2.073\n",
       "Specialization_Finance Management                    1.2143      0.183      6.621      0.000       0.855       1.574\n",
       "Specialization_Healthcare Management                 1.4878      0.303      4.912      0.000       0.894       2.081\n",
       "Specialization_Hospitality Management                0.8595      0.339      2.532      0.011       0.194       1.525\n",
       "Specialization_Human Resource Management             1.2201      0.184      6.644      0.000       0.860       1.580\n",
       "Specialization_IT Projects Management                1.3818      0.228      6.068      0.000       0.935       1.828\n",
       "Specialization_International Business                1.2107      0.278      4.349      0.000       0.665       1.756\n",
       "Specialization_Marketing Management                  1.4990      0.178      8.419      0.000       1.150       1.848\n",
       "Specialization_Media and Advertising                 0.9878      0.278      3.555      0.000       0.443       1.532\n",
       "Specialization_Operations Management                 1.4037      0.201      6.981      0.000       1.010       1.798\n",
       "Specialization_Retail Management                     1.0641      0.371      2.872      0.004       0.338       1.790\n",
       "Specialization_Rural and Agribusiness                1.2098      0.411      2.944      0.003       0.404       2.015\n",
       "Specialization_Services Excellence                   0.9923      0.629      1.578      0.115      -0.240       2.225\n",
       "Specialization_Supply Chain Management               1.3234      0.226      5.866      0.000       0.881       1.766\n",
       "Specialization_Travel and Tourism                    1.2826      0.282      4.542      0.000       0.729       1.836\n",
       "City_Mumbai                                          0.5475      0.178      3.078      0.002       0.199       0.896\n",
       "City_Other Cities                                    0.5017      0.205      2.451      0.014       0.100       0.903\n",
       "City_Other Cities of Maharashtra                     0.6497      0.228      2.851      0.004       0.203       1.096\n",
       "City_Other Metro Cities                              0.5682      0.241      2.356      0.018       0.096       1.041\n",
       "City_Thane & Outskirts                               0.5768      0.202      2.856      0.004       0.181       0.973\n",
       "City_Tier II Cities                                  0.6531      0.425      1.535      0.125      -0.181       1.487\n",
       "====================================================================================================================\n",
       "\"\"\""
      ]
     },
     "execution_count": 73,
     "metadata": {},
     "output_type": "execute_result"
    }
   ],
   "source": [
    "# Let's create our first model using all the features.\n",
    "logm1 = sm.GLM(y_train, (sm.add_constant(X_train)), family = sm.families.Binomial())\n",
    "res1 = logm1.fit()\n",
    "res1.summary()"
   ]
  },
  {
   "cell_type": "markdown",
   "metadata": {},
   "source": [
    "<p style=\"font-family: Arial; font-size:1.0em;color:blue;\"><br>\n",
    "As we can see, there are many variables whose p-values are high, implying that that variable is statistically insignificant. So we need to eliminate some of the variables in order to build a better model.\n",
    "\n",
    "<p style=\"font-family: Arial; font-size:1.0em;color:blue;\">We'll first eliminate a features using Recursive Feature Elimination (RFE), and once we have reached a small set of variables to work with, we can then use manual feature elimination (i.e. manually eliminating features based on observing the p-values and VIFs)."
   ]
  },
  {
   "cell_type": "markdown",
   "metadata": {},
   "source": [
    "### FEATURE SELECTION USING RFE"
   ]
  },
  {
   "cell_type": "markdown",
   "metadata": {},
   "source": [
    "<p style=\"font-family: Arial; font-size:1.0em;color:blue;\">Fitting the Logistic regression model with x-train and y-train datasets using Recursive Feature Elimination. RFE is the process of recursively removes features, builds a model using the remaining attributes and calculates model accuracy. RFE is able to work out the combination of attributes that contribute to the prediction on the target variable."
   ]
  },
  {
   "cell_type": "code",
   "execution_count": 74,
   "metadata": {},
   "outputs": [],
   "source": [
    "# Create a logistic regression object.\n",
    "logreg = LogisticRegression()\n",
    "\n",
    "# Run RFE with 15 variables as output\n",
    "rfe = RFE(logreg, 15)\n",
    "rfe = rfe.fit(X_train, y_train)"
   ]
  },
  {
   "cell_type": "code",
   "execution_count": 75,
   "metadata": {},
   "outputs": [
    {
     "data": {
      "text/plain": [
       "array([False,  True, False, False, False,  True,  True, False, False,\n",
       "       False, False,  True, False, False, False,  True, False,  True,\n",
       "       False, False, False,  True,  True, False,  True, False, False,\n",
       "       False, False, False, False, False, False, False, False, False,\n",
       "       False, False, False, False, False, False, False, False, False,\n",
       "        True,  True,  True,  True,  True,  True])"
      ]
     },
     "execution_count": 75,
     "metadata": {},
     "output_type": "execute_result"
    }
   ],
   "source": [
    "rfe.support_"
   ]
  },
  {
   "cell_type": "code",
   "execution_count": 76,
   "metadata": {},
   "outputs": [
    {
     "data": {
      "text/plain": [
       "[('TotalVisits', False, 32),\n",
       " ('Total Time Spent on Website', True, 1),\n",
       " ('Page Views Per Visit', False, 31),\n",
       " ('A free copy of Mastering The Interview', False, 33),\n",
       " ('Lead Origin_API', False, 5),\n",
       " ('Lead Origin_Landing Page Submission', True, 1),\n",
       " ('Lead Origin_Lead Add Form', True, 1),\n",
       " ('Lead Origin_Lead Import', False, 6),\n",
       " ('Lead Source_Direct Traffic', False, 29),\n",
       " ('Lead Source_Facebook', False, 2),\n",
       " ('Lead Source_Google', False, 34),\n",
       " ('Lead Source_Olark Chat', True, 1),\n",
       " ('Lead Source_Organic Search', False, 35),\n",
       " ('Lead Source_Reference', False, 25),\n",
       " ('Lead Source_Referral Sites', False, 30),\n",
       " ('Lead Source_Welingak Website', True, 1),\n",
       " ('Last Activity_Converted to Lead', False, 3),\n",
       " ('Last Activity_Email Bounced', True, 1),\n",
       " ('Last Activity_Email Link Clicked', False, 27),\n",
       " ('Last Activity_Email Opened', False, 37),\n",
       " ('Last Activity_Form Submitted on Website', False, 4),\n",
       " ('Last Activity_Had a Phone Conversation', True, 1),\n",
       " ('Last Activity_Olark Chat Conversation', True, 1),\n",
       " ('Last Activity_Page Visited on Website', False, 20),\n",
       " ('Last Activity_SMS Sent', True, 1),\n",
       " ('Last Activity_Unreachable', False, 36),\n",
       " ('Last Activity_Unsubscribed', False, 28),\n",
       " ('Specialization_Banking, Investment And Insurance', False, 10),\n",
       " ('Specialization_Business Administration', False, 12),\n",
       " ('Specialization_E-Business', False, 23),\n",
       " ('Specialization_E-COMMERCE', False, 14),\n",
       " ('Specialization_Finance Management', False, 16),\n",
       " ('Specialization_Healthcare Management', False, 8),\n",
       " ('Specialization_Hospitality Management', False, 24),\n",
       " ('Specialization_Human Resource Management', False, 15),\n",
       " ('Specialization_IT Projects Management', False, 11),\n",
       " ('Specialization_International Business', False, 19),\n",
       " ('Specialization_Marketing Management', False, 7),\n",
       " ('Specialization_Media and Advertising', False, 22),\n",
       " ('Specialization_Operations Management', False, 9),\n",
       " ('Specialization_Retail Management', False, 21),\n",
       " ('Specialization_Rural and Agribusiness', False, 17),\n",
       " ('Specialization_Services Excellence', False, 26),\n",
       " ('Specialization_Supply Chain Management', False, 13),\n",
       " ('Specialization_Travel and Tourism', False, 18),\n",
       " ('City_Mumbai', True, 1),\n",
       " ('City_Other Cities', True, 1),\n",
       " ('City_Other Cities of Maharashtra', True, 1),\n",
       " ('City_Other Metro Cities', True, 1),\n",
       " ('City_Thane & Outskirts', True, 1),\n",
       " ('City_Tier II Cities', True, 1)]"
      ]
     },
     "execution_count": 76,
     "metadata": {},
     "output_type": "execute_result"
    }
   ],
   "source": [
    "list(zip(X_train.columns, rfe.support_, rfe.ranking_))"
   ]
  },
  {
   "cell_type": "code",
   "execution_count": 77,
   "metadata": {},
   "outputs": [
    {
     "data": {
      "text/plain": [
       "Index(['Total Time Spent on Website', 'Lead Origin_Landing Page Submission',\n",
       "       'Lead Origin_Lead Add Form', 'Lead Source_Olark Chat',\n",
       "       'Lead Source_Welingak Website', 'Last Activity_Email Bounced',\n",
       "       'Last Activity_Had a Phone Conversation',\n",
       "       'Last Activity_Olark Chat Conversation', 'Last Activity_SMS Sent',\n",
       "       'City_Mumbai', 'City_Other Cities', 'City_Other Cities of Maharashtra',\n",
       "       'City_Other Metro Cities', 'City_Thane & Outskirts',\n",
       "       'City_Tier II Cities'],\n",
       "      dtype='object')"
      ]
     },
     "execution_count": 77,
     "metadata": {},
     "output_type": "execute_result"
    }
   ],
   "source": [
    "# RFE selected columns/features\n",
    "rfe_col = X_train.columns[rfe.support_]\n",
    "rfe_col"
   ]
  },
  {
   "cell_type": "markdown",
   "metadata": {},
   "source": [
    "#### Model-2"
   ]
  },
  {
   "cell_type": "code",
   "execution_count": 78,
   "metadata": {
    "scrolled": true
   },
   "outputs": [
    {
     "data": {
      "text/html": [
       "<table class=\"simpletable\">\n",
       "<caption>Generalized Linear Model Regression Results</caption>\n",
       "<tr>\n",
       "  <th>Dep. Variable:</th>       <td>Converted</td>    <th>  No. Observations:  </th>  <td>  6075</td> \n",
       "</tr>\n",
       "<tr>\n",
       "  <th>Model:</th>                  <td>GLM</td>       <th>  Df Residuals:      </th>  <td>  6059</td> \n",
       "</tr>\n",
       "<tr>\n",
       "  <th>Model Family:</th>        <td>Binomial</td>     <th>  Df Model:          </th>  <td>    15</td> \n",
       "</tr>\n",
       "<tr>\n",
       "  <th>Link Function:</th>         <td>logit</td>      <th>  Scale:             </th> <td>  1.0000</td>\n",
       "</tr>\n",
       "<tr>\n",
       "  <th>Method:</th>                <td>IRLS</td>       <th>  Log-Likelihood:    </th> <td> -2691.2</td>\n",
       "</tr>\n",
       "<tr>\n",
       "  <th>Date:</th>            <td>Mon, 20 Apr 2020</td> <th>  Deviance:          </th> <td>  5382.3</td>\n",
       "</tr>\n",
       "<tr>\n",
       "  <th>Time:</th>                <td>19:07:40</td>     <th>  Pearson chi2:      </th> <td>6.33e+03</td>\n",
       "</tr>\n",
       "<tr>\n",
       "  <th>No. Iterations:</th>          <td>8</td>        <th>                     </th>     <td> </td>   \n",
       "</tr>\n",
       "<tr>\n",
       "  <th>Covariance Type:</th>     <td>nonrobust</td>    <th>                     </th>     <td> </td>   \n",
       "</tr>\n",
       "</table>\n",
       "<table class=\"simpletable\">\n",
       "<tr>\n",
       "                     <td></td>                       <th>coef</th>     <th>std err</th>      <th>z</th>      <th>P>|z|</th>  <th>[0.025</th>    <th>0.975]</th>  \n",
       "</tr>\n",
       "<tr>\n",
       "  <th>const</th>                                  <td>   -1.5419</td> <td>    0.087</td> <td>  -17.660</td> <td> 0.000</td> <td>   -1.713</td> <td>   -1.371</td>\n",
       "</tr>\n",
       "<tr>\n",
       "  <th>Total Time Spent on Website</th>            <td>    1.0876</td> <td>    0.040</td> <td>   27.522</td> <td> 0.000</td> <td>    1.010</td> <td>    1.165</td>\n",
       "</tr>\n",
       "<tr>\n",
       "  <th>Lead Origin_Landing Page Submission</th>    <td>   -1.1316</td> <td>    0.132</td> <td>   -8.579</td> <td> 0.000</td> <td>   -1.390</td> <td>   -0.873</td>\n",
       "</tr>\n",
       "<tr>\n",
       "  <th>Lead Origin_Lead Add Form</th>              <td>    3.6811</td> <td>    0.204</td> <td>   18.037</td> <td> 0.000</td> <td>    3.281</td> <td>    4.081</td>\n",
       "</tr>\n",
       "<tr>\n",
       "  <th>Lead Source_Olark Chat</th>                 <td>    1.1604</td> <td>    0.120</td> <td>    9.675</td> <td> 0.000</td> <td>    0.925</td> <td>    1.395</td>\n",
       "</tr>\n",
       "<tr>\n",
       "  <th>Lead Source_Welingak Website</th>           <td>    2.5409</td> <td>    1.025</td> <td>    2.478</td> <td> 0.013</td> <td>    0.531</td> <td>    4.550</td>\n",
       "</tr>\n",
       "<tr>\n",
       "  <th>Last Activity_Email Bounced</th>            <td>   -1.6483</td> <td>    0.301</td> <td>   -5.467</td> <td> 0.000</td> <td>   -2.239</td> <td>   -1.057</td>\n",
       "</tr>\n",
       "<tr>\n",
       "  <th>Last Activity_Had a Phone Conversation</th> <td>    1.5496</td> <td>    0.587</td> <td>    2.642</td> <td> 0.008</td> <td>    0.400</td> <td>    2.699</td>\n",
       "</tr>\n",
       "<tr>\n",
       "  <th>Last Activity_Olark Chat Conversation</th>  <td>   -1.5882</td> <td>    0.174</td> <td>   -9.139</td> <td> 0.000</td> <td>   -1.929</td> <td>   -1.248</td>\n",
       "</tr>\n",
       "<tr>\n",
       "  <th>Last Activity_SMS Sent</th>                 <td>    1.4074</td> <td>    0.073</td> <td>   19.168</td> <td> 0.000</td> <td>    1.263</td> <td>    1.551</td>\n",
       "</tr>\n",
       "<tr>\n",
       "  <th>City_Mumbai</th>                            <td>    1.2402</td> <td>    0.134</td> <td>    9.262</td> <td> 0.000</td> <td>    0.978</td> <td>    1.503</td>\n",
       "</tr>\n",
       "<tr>\n",
       "  <th>City_Other Cities</th>                      <td>    1.1901</td> <td>    0.166</td> <td>    7.176</td> <td> 0.000</td> <td>    0.865</td> <td>    1.515</td>\n",
       "</tr>\n",
       "<tr>\n",
       "  <th>City_Other Cities of Maharashtra</th>       <td>    1.3397</td> <td>    0.191</td> <td>    7.011</td> <td> 0.000</td> <td>    0.965</td> <td>    1.714</td>\n",
       "</tr>\n",
       "<tr>\n",
       "  <th>City_Other Metro Cities</th>                <td>    1.2602</td> <td>    0.208</td> <td>    6.047</td> <td> 0.000</td> <td>    0.852</td> <td>    1.669</td>\n",
       "</tr>\n",
       "<tr>\n",
       "  <th>City_Thane & Outskirts</th>                 <td>    1.3197</td> <td>    0.166</td> <td>    7.942</td> <td> 0.000</td> <td>    0.994</td> <td>    1.645</td>\n",
       "</tr>\n",
       "<tr>\n",
       "  <th>City_Tier II Cities</th>                    <td>    1.2247</td> <td>    0.398</td> <td>    3.076</td> <td> 0.002</td> <td>    0.444</td> <td>    2.005</td>\n",
       "</tr>\n",
       "</table>"
      ],
      "text/plain": [
       "<class 'statsmodels.iolib.summary.Summary'>\n",
       "\"\"\"\n",
       "                 Generalized Linear Model Regression Results                  \n",
       "==============================================================================\n",
       "Dep. Variable:              Converted   No. Observations:                 6075\n",
       "Model:                            GLM   Df Residuals:                     6059\n",
       "Model Family:                Binomial   Df Model:                           15\n",
       "Link Function:                  logit   Scale:                          1.0000\n",
       "Method:                          IRLS   Log-Likelihood:                -2691.2\n",
       "Date:                Mon, 20 Apr 2020   Deviance:                       5382.3\n",
       "Time:                        19:07:40   Pearson chi2:                 6.33e+03\n",
       "No. Iterations:                     8                                         \n",
       "Covariance Type:            nonrobust                                         \n",
       "==========================================================================================================\n",
       "                                             coef    std err          z      P>|z|      [0.025      0.975]\n",
       "----------------------------------------------------------------------------------------------------------\n",
       "const                                     -1.5419      0.087    -17.660      0.000      -1.713      -1.371\n",
       "Total Time Spent on Website                1.0876      0.040     27.522      0.000       1.010       1.165\n",
       "Lead Origin_Landing Page Submission       -1.1316      0.132     -8.579      0.000      -1.390      -0.873\n",
       "Lead Origin_Lead Add Form                  3.6811      0.204     18.037      0.000       3.281       4.081\n",
       "Lead Source_Olark Chat                     1.1604      0.120      9.675      0.000       0.925       1.395\n",
       "Lead Source_Welingak Website               2.5409      1.025      2.478      0.013       0.531       4.550\n",
       "Last Activity_Email Bounced               -1.6483      0.301     -5.467      0.000      -2.239      -1.057\n",
       "Last Activity_Had a Phone Conversation     1.5496      0.587      2.642      0.008       0.400       2.699\n",
       "Last Activity_Olark Chat Conversation     -1.5882      0.174     -9.139      0.000      -1.929      -1.248\n",
       "Last Activity_SMS Sent                     1.4074      0.073     19.168      0.000       1.263       1.551\n",
       "City_Mumbai                                1.2402      0.134      9.262      0.000       0.978       1.503\n",
       "City_Other Cities                          1.1901      0.166      7.176      0.000       0.865       1.515\n",
       "City_Other Cities of Maharashtra           1.3397      0.191      7.011      0.000       0.965       1.714\n",
       "City_Other Metro Cities                    1.2602      0.208      6.047      0.000       0.852       1.669\n",
       "City_Thane & Outskirts                     1.3197      0.166      7.942      0.000       0.994       1.645\n",
       "City_Tier II Cities                        1.2247      0.398      3.076      0.002       0.444       2.005\n",
       "==========================================================================================================\n",
       "\"\"\""
      ]
     },
     "execution_count": 78,
     "metadata": {},
     "output_type": "execute_result"
    }
   ],
   "source": [
    "# let's create our second model using the RFE selected features.\n",
    "X_train_sm = sm.add_constant(X_train[rfe_col])\n",
    "logm2 = sm.GLM(y_train, X_train_sm, family = sm.families.Binomial())\n",
    "res2 = logm2.fit()\n",
    "res2.summary()"
   ]
  },
  {
   "cell_type": "markdown",
   "metadata": {},
   "source": [
    "### VIF:\n",
    "<p style=\"font-family: Arial; font-size:1.0em;color:blue;\"> This refers to associations between predictor variables i.e. it refers to predictors that are correlated with other predictors. This is calculated using Variance Inflation Factor (VIF)<br> \n",
    "VIF=1/ 1−R2<br>\n",
    "If the VIF is less than or equal to 1, then not correlated.<br>\n",
    "If the VIF is between 1 and 5, then moderately correlated.<br>\n",
    "If the VIF is greater than 5, then highly correlated.<br>"
   ]
  },
  {
   "cell_type": "code",
   "execution_count": 79,
   "metadata": {},
   "outputs": [],
   "source": [
    "def check_vif(X):\n",
    "    \n",
    "    # Create a vif dataframe.\n",
    "    vif = pd.DataFrame()\n",
    "    \n",
    "    # Add the features column.\n",
    "    vif['Features'] = X.columns\n",
    "    \n",
    "    # Calculate the VIF.\n",
    "    vif['VIF'] = [variance_inflation_factor(X.values, i) for i in range(X.shape[1])]\n",
    "    \n",
    "    # Round off VIF value to 2 digits.\n",
    "    vif['VIF'] = round(vif['VIF'], 2)\n",
    "    \n",
    "    # Sort the VIF values in descending order.\n",
    "    vif = vif.sort_values(by = \"VIF\", ascending = False)\n",
    "    \n",
    "    # Print the VIF summary\n",
    "    print(vif)"
   ]
  },
  {
   "cell_type": "code",
   "execution_count": 80,
   "metadata": {},
   "outputs": [
    {
     "name": "stdout",
     "output_type": "stream",
     "text": [
      "                                  Features   VIF\n",
      "1      Lead Origin_Landing Page Submission  7.02\n",
      "9                              City_Mumbai  4.50\n",
      "10                       City_Other Cities  1.73\n",
      "13                  City_Thane & Outskirts  1.71\n",
      "3                   Lead Source_Olark Chat  1.67\n",
      "2                Lead Origin_Lead Add Form  1.53\n",
      "11        City_Other Cities of Maharashtra  1.48\n",
      "12                 City_Other Metro Cities  1.45\n",
      "8                   Last Activity_SMS Sent  1.43\n",
      "7    Last Activity_Olark Chat Conversation  1.42\n",
      "4             Lead Source_Welingak Website  1.28\n",
      "0              Total Time Spent on Website  1.26\n",
      "14                     City_Tier II Cities  1.10\n",
      "5              Last Activity_Email Bounced  1.06\n",
      "6   Last Activity_Had a Phone Conversation  1.01\n"
     ]
    }
   ],
   "source": [
    "# Check the VIFs for the model.\n",
    "check_vif(X_train[rfe_col])"
   ]
  },
  {
   "cell_type": "markdown",
   "metadata": {},
   "source": [
    "<p style=\"font-family: Arial; font-size:1.0em;color:blue;\"> vif-value is high for 'Lead Origin_Landing Page Submission' column.\n",
    "Let's drop this and build our model again."
   ]
  },
  {
   "cell_type": "markdown",
   "metadata": {},
   "source": [
    "#### Model-3"
   ]
  },
  {
   "cell_type": "code",
   "execution_count": 81,
   "metadata": {},
   "outputs": [
    {
     "data": {
      "text/plain": [
       "Index(['Total Time Spent on Website', 'Lead Origin_Lead Add Form',\n",
       "       'Lead Source_Olark Chat', 'Lead Source_Welingak Website',\n",
       "       'Last Activity_Email Bounced', 'Last Activity_Had a Phone Conversation',\n",
       "       'Last Activity_Olark Chat Conversation', 'Last Activity_SMS Sent',\n",
       "       'City_Mumbai', 'City_Other Cities', 'City_Other Cities of Maharashtra',\n",
       "       'City_Other Metro Cities', 'City_Thane & Outskirts',\n",
       "       'City_Tier II Cities'],\n",
       "      dtype='object')"
      ]
     },
     "execution_count": 81,
     "metadata": {},
     "output_type": "execute_result"
    }
   ],
   "source": [
    "# Drop 'Lead Origin_Landing Page Submission' column as interpreted.\n",
    "rfe_col = rfe_col.drop('Lead Origin_Landing Page Submission', 1)\n",
    "rfe_col"
   ]
  },
  {
   "cell_type": "code",
   "execution_count": 82,
   "metadata": {},
   "outputs": [
    {
     "data": {
      "text/html": [
       "<table class=\"simpletable\">\n",
       "<caption>Generalized Linear Model Regression Results</caption>\n",
       "<tr>\n",
       "  <th>Dep. Variable:</th>       <td>Converted</td>    <th>  No. Observations:  </th>  <td>  6075</td> \n",
       "</tr>\n",
       "<tr>\n",
       "  <th>Model:</th>                  <td>GLM</td>       <th>  Df Residuals:      </th>  <td>  6060</td> \n",
       "</tr>\n",
       "<tr>\n",
       "  <th>Model Family:</th>        <td>Binomial</td>     <th>  Df Model:          </th>  <td>    14</td> \n",
       "</tr>\n",
       "<tr>\n",
       "  <th>Link Function:</th>         <td>logit</td>      <th>  Scale:             </th> <td>  1.0000</td>\n",
       "</tr>\n",
       "<tr>\n",
       "  <th>Method:</th>                <td>IRLS</td>       <th>  Log-Likelihood:    </th> <td> -2728.9</td>\n",
       "</tr>\n",
       "<tr>\n",
       "  <th>Date:</th>            <td>Mon, 20 Apr 2020</td> <th>  Deviance:          </th> <td>  5457.9</td>\n",
       "</tr>\n",
       "<tr>\n",
       "  <th>Time:</th>                <td>19:07:40</td>     <th>  Pearson chi2:      </th> <td>6.33e+03</td>\n",
       "</tr>\n",
       "<tr>\n",
       "  <th>No. Iterations:</th>          <td>7</td>        <th>                     </th>     <td> </td>   \n",
       "</tr>\n",
       "<tr>\n",
       "  <th>Covariance Type:</th>     <td>nonrobust</td>    <th>                     </th>     <td> </td>   \n",
       "</tr>\n",
       "</table>\n",
       "<table class=\"simpletable\">\n",
       "<tr>\n",
       "                     <td></td>                       <th>coef</th>     <th>std err</th>      <th>z</th>      <th>P>|z|</th>  <th>[0.025</th>    <th>0.975]</th>  \n",
       "</tr>\n",
       "<tr>\n",
       "  <th>const</th>                                  <td>   -1.7278</td> <td>    0.086</td> <td>  -20.046</td> <td> 0.000</td> <td>   -1.897</td> <td>   -1.559</td>\n",
       "</tr>\n",
       "<tr>\n",
       "  <th>Total Time Spent on Website</th>            <td>    1.0939</td> <td>    0.039</td> <td>   27.856</td> <td> 0.000</td> <td>    1.017</td> <td>    1.171</td>\n",
       "</tr>\n",
       "<tr>\n",
       "  <th>Lead Origin_Lead Add Form</th>              <td>    4.1457</td> <td>    0.196</td> <td>   21.167</td> <td> 0.000</td> <td>    3.762</td> <td>    4.530</td>\n",
       "</tr>\n",
       "<tr>\n",
       "  <th>Lead Source_Olark Chat</th>                 <td>    1.4730</td> <td>    0.115</td> <td>   12.806</td> <td> 0.000</td> <td>    1.248</td> <td>    1.698</td>\n",
       "</tr>\n",
       "<tr>\n",
       "  <th>Lead Source_Welingak Website</th>           <td>    2.3503</td> <td>    1.024</td> <td>    2.295</td> <td> 0.022</td> <td>    0.343</td> <td>    4.358</td>\n",
       "</tr>\n",
       "<tr>\n",
       "  <th>Last Activity_Email Bounced</th>            <td>   -1.7556</td> <td>    0.299</td> <td>   -5.877</td> <td> 0.000</td> <td>   -2.341</td> <td>   -1.170</td>\n",
       "</tr>\n",
       "<tr>\n",
       "  <th>Last Activity_Had a Phone Conversation</th> <td>    1.5318</td> <td>    0.580</td> <td>    2.641</td> <td> 0.008</td> <td>    0.395</td> <td>    2.669</td>\n",
       "</tr>\n",
       "<tr>\n",
       "  <th>Last Activity_Olark Chat Conversation</th>  <td>   -1.5983</td> <td>    0.173</td> <td>   -9.264</td> <td> 0.000</td> <td>   -1.936</td> <td>   -1.260</td>\n",
       "</tr>\n",
       "<tr>\n",
       "  <th>Last Activity_SMS Sent</th>                 <td>    1.3533</td> <td>    0.073</td> <td>   18.651</td> <td> 0.000</td> <td>    1.211</td> <td>    1.496</td>\n",
       "</tr>\n",
       "<tr>\n",
       "  <th>City_Mumbai</th>                            <td>    0.4286</td> <td>    0.092</td> <td>    4.635</td> <td> 0.000</td> <td>    0.247</td> <td>    0.610</td>\n",
       "</tr>\n",
       "<tr>\n",
       "  <th>City_Other Cities</th>                      <td>    0.4190</td> <td>    0.137</td> <td>    3.065</td> <td> 0.002</td> <td>    0.151</td> <td>    0.687</td>\n",
       "</tr>\n",
       "<tr>\n",
       "  <th>City_Other Cities of Maharashtra</th>       <td>    0.5476</td> <td>    0.166</td> <td>    3.291</td> <td> 0.001</td> <td>    0.221</td> <td>    0.874</td>\n",
       "</tr>\n",
       "<tr>\n",
       "  <th>City_Other Metro Cities</th>                <td>    0.4018</td> <td>    0.179</td> <td>    2.240</td> <td> 0.025</td> <td>    0.050</td> <td>    0.753</td>\n",
       "</tr>\n",
       "<tr>\n",
       "  <th>City_Thane & Outskirts</th>                 <td>    0.5471</td> <td>    0.136</td> <td>    4.009</td> <td> 0.000</td> <td>    0.280</td> <td>    0.815</td>\n",
       "</tr>\n",
       "<tr>\n",
       "  <th>City_Tier II Cities</th>                    <td>    0.3194</td> <td>    0.382</td> <td>    0.836</td> <td> 0.403</td> <td>   -0.430</td> <td>    1.068</td>\n",
       "</tr>\n",
       "</table>"
      ],
      "text/plain": [
       "<class 'statsmodels.iolib.summary.Summary'>\n",
       "\"\"\"\n",
       "                 Generalized Linear Model Regression Results                  \n",
       "==============================================================================\n",
       "Dep. Variable:              Converted   No. Observations:                 6075\n",
       "Model:                            GLM   Df Residuals:                     6060\n",
       "Model Family:                Binomial   Df Model:                           14\n",
       "Link Function:                  logit   Scale:                          1.0000\n",
       "Method:                          IRLS   Log-Likelihood:                -2728.9\n",
       "Date:                Mon, 20 Apr 2020   Deviance:                       5457.9\n",
       "Time:                        19:07:40   Pearson chi2:                 6.33e+03\n",
       "No. Iterations:                     7                                         \n",
       "Covariance Type:            nonrobust                                         \n",
       "==========================================================================================================\n",
       "                                             coef    std err          z      P>|z|      [0.025      0.975]\n",
       "----------------------------------------------------------------------------------------------------------\n",
       "const                                     -1.7278      0.086    -20.046      0.000      -1.897      -1.559\n",
       "Total Time Spent on Website                1.0939      0.039     27.856      0.000       1.017       1.171\n",
       "Lead Origin_Lead Add Form                  4.1457      0.196     21.167      0.000       3.762       4.530\n",
       "Lead Source_Olark Chat                     1.4730      0.115     12.806      0.000       1.248       1.698\n",
       "Lead Source_Welingak Website               2.3503      1.024      2.295      0.022       0.343       4.358\n",
       "Last Activity_Email Bounced               -1.7556      0.299     -5.877      0.000      -2.341      -1.170\n",
       "Last Activity_Had a Phone Conversation     1.5318      0.580      2.641      0.008       0.395       2.669\n",
       "Last Activity_Olark Chat Conversation     -1.5983      0.173     -9.264      0.000      -1.936      -1.260\n",
       "Last Activity_SMS Sent                     1.3533      0.073     18.651      0.000       1.211       1.496\n",
       "City_Mumbai                                0.4286      0.092      4.635      0.000       0.247       0.610\n",
       "City_Other Cities                          0.4190      0.137      3.065      0.002       0.151       0.687\n",
       "City_Other Cities of Maharashtra           0.5476      0.166      3.291      0.001       0.221       0.874\n",
       "City_Other Metro Cities                    0.4018      0.179      2.240      0.025       0.050       0.753\n",
       "City_Thane & Outskirts                     0.5471      0.136      4.009      0.000       0.280       0.815\n",
       "City_Tier II Cities                        0.3194      0.382      0.836      0.403      -0.430       1.068\n",
       "==========================================================================================================\n",
       "\"\"\""
      ]
     },
     "execution_count": 82,
     "metadata": {},
     "output_type": "execute_result"
    }
   ],
   "source": [
    "# let's create our third model.\n",
    "X_train_sm = sm.add_constant(X_train[rfe_col])\n",
    "logm3 = sm.GLM(y_train, X_train_sm, family = sm.families.Binomial())\n",
    "res3 = logm3.fit()\n",
    "res3.summary()"
   ]
  },
  {
   "cell_type": "code",
   "execution_count": 83,
   "metadata": {},
   "outputs": [
    {
     "name": "stdout",
     "output_type": "stream",
     "text": [
      "                                  Features   VIF\n",
      "2                   Lead Source_Olark Chat  1.61\n",
      "6    Last Activity_Olark Chat Conversation  1.41\n",
      "1                Lead Origin_Lead Add Form  1.38\n",
      "7                   Last Activity_SMS Sent  1.38\n",
      "3             Lead Source_Welingak Website  1.27\n",
      "0              Total Time Spent on Website  1.26\n",
      "8                              City_Mumbai  1.20\n",
      "4              Last Activity_Email Bounced  1.05\n",
      "12                  City_Thane & Outskirts  1.05\n",
      "9                        City_Other Cities  1.04\n",
      "10        City_Other Cities of Maharashtra  1.03\n",
      "11                 City_Other Metro Cities  1.03\n",
      "5   Last Activity_Had a Phone Conversation  1.01\n",
      "13                     City_Tier II Cities  1.01\n"
     ]
    }
   ],
   "source": [
    "# Check the VIFs for the model.\n",
    "check_vif(X_train[rfe_col])"
   ]
  },
  {
   "cell_type": "markdown",
   "metadata": {},
   "source": [
    "<p style=\"font-family: Arial; font-size:1.0em;color:blue;\"> \n",
    "p-value is 0.403 for 'City_Tier II Cities' column which is high when compared to that of others.\n",
    "Let's drop this and build our model again."
   ]
  },
  {
   "cell_type": "markdown",
   "metadata": {},
   "source": [
    "#### Model-4"
   ]
  },
  {
   "cell_type": "code",
   "execution_count": 84,
   "metadata": {},
   "outputs": [
    {
     "data": {
      "text/plain": [
       "Index(['Total Time Spent on Website', 'Lead Origin_Lead Add Form',\n",
       "       'Lead Source_Olark Chat', 'Lead Source_Welingak Website',\n",
       "       'Last Activity_Email Bounced', 'Last Activity_Had a Phone Conversation',\n",
       "       'Last Activity_Olark Chat Conversation', 'Last Activity_SMS Sent',\n",
       "       'City_Mumbai', 'City_Other Cities', 'City_Other Cities of Maharashtra',\n",
       "       'City_Other Metro Cities', 'City_Thane & Outskirts'],\n",
       "      dtype='object')"
      ]
     },
     "execution_count": 84,
     "metadata": {},
     "output_type": "execute_result"
    }
   ],
   "source": [
    "# Drop 'City_Tier II Cities' column as interpreted.\n",
    "rfe_col = rfe_col.drop('City_Tier II Cities', 1)\n",
    "rfe_col"
   ]
  },
  {
   "cell_type": "code",
   "execution_count": 85,
   "metadata": {},
   "outputs": [
    {
     "data": {
      "text/html": [
       "<table class=\"simpletable\">\n",
       "<caption>Generalized Linear Model Regression Results</caption>\n",
       "<tr>\n",
       "  <th>Dep. Variable:</th>       <td>Converted</td>    <th>  No. Observations:  </th>  <td>  6075</td> \n",
       "</tr>\n",
       "<tr>\n",
       "  <th>Model:</th>                  <td>GLM</td>       <th>  Df Residuals:      </th>  <td>  6061</td> \n",
       "</tr>\n",
       "<tr>\n",
       "  <th>Model Family:</th>        <td>Binomial</td>     <th>  Df Model:          </th>  <td>    13</td> \n",
       "</tr>\n",
       "<tr>\n",
       "  <th>Link Function:</th>         <td>logit</td>      <th>  Scale:             </th> <td>  1.0000</td>\n",
       "</tr>\n",
       "<tr>\n",
       "  <th>Method:</th>                <td>IRLS</td>       <th>  Log-Likelihood:    </th> <td> -2729.3</td>\n",
       "</tr>\n",
       "<tr>\n",
       "  <th>Date:</th>            <td>Mon, 20 Apr 2020</td> <th>  Deviance:          </th> <td>  5458.6</td>\n",
       "</tr>\n",
       "<tr>\n",
       "  <th>Time:</th>                <td>19:07:40</td>     <th>  Pearson chi2:      </th> <td>6.34e+03</td>\n",
       "</tr>\n",
       "<tr>\n",
       "  <th>No. Iterations:</th>          <td>7</td>        <th>                     </th>     <td> </td>   \n",
       "</tr>\n",
       "<tr>\n",
       "  <th>Covariance Type:</th>     <td>nonrobust</td>    <th>                     </th>     <td> </td>   \n",
       "</tr>\n",
       "</table>\n",
       "<table class=\"simpletable\">\n",
       "<tr>\n",
       "                     <td></td>                       <th>coef</th>     <th>std err</th>      <th>z</th>      <th>P>|z|</th>  <th>[0.025</th>    <th>0.975]</th>  \n",
       "</tr>\n",
       "<tr>\n",
       "  <th>const</th>                                  <td>   -1.7157</td> <td>    0.085</td> <td>  -20.223</td> <td> 0.000</td> <td>   -1.882</td> <td>   -1.549</td>\n",
       "</tr>\n",
       "<tr>\n",
       "  <th>Total Time Spent on Website</th>            <td>    1.0938</td> <td>    0.039</td> <td>   27.859</td> <td> 0.000</td> <td>    1.017</td> <td>    1.171</td>\n",
       "</tr>\n",
       "<tr>\n",
       "  <th>Lead Origin_Lead Add Form</th>              <td>    4.1391</td> <td>    0.196</td> <td>   21.157</td> <td> 0.000</td> <td>    3.756</td> <td>    4.523</td>\n",
       "</tr>\n",
       "<tr>\n",
       "  <th>Lead Source_Olark Chat</th>                 <td>    1.4625</td> <td>    0.114</td> <td>   12.803</td> <td> 0.000</td> <td>    1.239</td> <td>    1.686</td>\n",
       "</tr>\n",
       "<tr>\n",
       "  <th>Lead Source_Welingak Website</th>           <td>    2.3458</td> <td>    1.024</td> <td>    2.290</td> <td> 0.022</td> <td>    0.338</td> <td>    4.353</td>\n",
       "</tr>\n",
       "<tr>\n",
       "  <th>Last Activity_Email Bounced</th>            <td>   -1.7505</td> <td>    0.299</td> <td>   -5.858</td> <td> 0.000</td> <td>   -2.336</td> <td>   -1.165</td>\n",
       "</tr>\n",
       "<tr>\n",
       "  <th>Last Activity_Had a Phone Conversation</th> <td>    1.5276</td> <td>    0.580</td> <td>    2.634</td> <td> 0.008</td> <td>    0.391</td> <td>    2.664</td>\n",
       "</tr>\n",
       "<tr>\n",
       "  <th>Last Activity_Olark Chat Conversation</th>  <td>   -1.6008</td> <td>    0.172</td> <td>   -9.283</td> <td> 0.000</td> <td>   -1.939</td> <td>   -1.263</td>\n",
       "</tr>\n",
       "<tr>\n",
       "  <th>Last Activity_SMS Sent</th>                 <td>    1.3545</td> <td>    0.073</td> <td>   18.671</td> <td> 0.000</td> <td>    1.212</td> <td>    1.497</td>\n",
       "</tr>\n",
       "<tr>\n",
       "  <th>City_Mumbai</th>                            <td>    0.4166</td> <td>    0.091</td> <td>    4.565</td> <td> 0.000</td> <td>    0.238</td> <td>    0.595</td>\n",
       "</tr>\n",
       "<tr>\n",
       "  <th>City_Other Cities</th>                      <td>    0.4075</td> <td>    0.136</td> <td>    2.997</td> <td> 0.003</td> <td>    0.141</td> <td>    0.674</td>\n",
       "</tr>\n",
       "<tr>\n",
       "  <th>City_Other Cities of Maharashtra</th>       <td>    0.5353</td> <td>    0.166</td> <td>    3.231</td> <td> 0.001</td> <td>    0.211</td> <td>    0.860</td>\n",
       "</tr>\n",
       "<tr>\n",
       "  <th>City_Other Metro Cities</th>                <td>    0.3893</td> <td>    0.179</td> <td>    2.178</td> <td> 0.029</td> <td>    0.039</td> <td>    0.740</td>\n",
       "</tr>\n",
       "<tr>\n",
       "  <th>City_Thane & Outskirts</th>                 <td>    0.5352</td> <td>    0.136</td> <td>    3.945</td> <td> 0.000</td> <td>    0.269</td> <td>    0.801</td>\n",
       "</tr>\n",
       "</table>"
      ],
      "text/plain": [
       "<class 'statsmodels.iolib.summary.Summary'>\n",
       "\"\"\"\n",
       "                 Generalized Linear Model Regression Results                  \n",
       "==============================================================================\n",
       "Dep. Variable:              Converted   No. Observations:                 6075\n",
       "Model:                            GLM   Df Residuals:                     6061\n",
       "Model Family:                Binomial   Df Model:                           13\n",
       "Link Function:                  logit   Scale:                          1.0000\n",
       "Method:                          IRLS   Log-Likelihood:                -2729.3\n",
       "Date:                Mon, 20 Apr 2020   Deviance:                       5458.6\n",
       "Time:                        19:07:40   Pearson chi2:                 6.34e+03\n",
       "No. Iterations:                     7                                         \n",
       "Covariance Type:            nonrobust                                         \n",
       "==========================================================================================================\n",
       "                                             coef    std err          z      P>|z|      [0.025      0.975]\n",
       "----------------------------------------------------------------------------------------------------------\n",
       "const                                     -1.7157      0.085    -20.223      0.000      -1.882      -1.549\n",
       "Total Time Spent on Website                1.0938      0.039     27.859      0.000       1.017       1.171\n",
       "Lead Origin_Lead Add Form                  4.1391      0.196     21.157      0.000       3.756       4.523\n",
       "Lead Source_Olark Chat                     1.4625      0.114     12.803      0.000       1.239       1.686\n",
       "Lead Source_Welingak Website               2.3458      1.024      2.290      0.022       0.338       4.353\n",
       "Last Activity_Email Bounced               -1.7505      0.299     -5.858      0.000      -2.336      -1.165\n",
       "Last Activity_Had a Phone Conversation     1.5276      0.580      2.634      0.008       0.391       2.664\n",
       "Last Activity_Olark Chat Conversation     -1.6008      0.172     -9.283      0.000      -1.939      -1.263\n",
       "Last Activity_SMS Sent                     1.3545      0.073     18.671      0.000       1.212       1.497\n",
       "City_Mumbai                                0.4166      0.091      4.565      0.000       0.238       0.595\n",
       "City_Other Cities                          0.4075      0.136      2.997      0.003       0.141       0.674\n",
       "City_Other Cities of Maharashtra           0.5353      0.166      3.231      0.001       0.211       0.860\n",
       "City_Other Metro Cities                    0.3893      0.179      2.178      0.029       0.039       0.740\n",
       "City_Thane & Outskirts                     0.5352      0.136      3.945      0.000       0.269       0.801\n",
       "==========================================================================================================\n",
       "\"\"\""
      ]
     },
     "execution_count": 85,
     "metadata": {},
     "output_type": "execute_result"
    }
   ],
   "source": [
    "# let's create our fourth model.\n",
    "X_train_sm = sm.add_constant(X_train[rfe_col])\n",
    "logm4 = sm.GLM(y_train, X_train_sm, family = sm.families.Binomial())\n",
    "res4 = logm4.fit()\n",
    "res4.summary()"
   ]
  },
  {
   "cell_type": "code",
   "execution_count": 86,
   "metadata": {},
   "outputs": [
    {
     "name": "stdout",
     "output_type": "stream",
     "text": [
      "                                  Features   VIF\n",
      "2                   Lead Source_Olark Chat  1.61\n",
      "6    Last Activity_Olark Chat Conversation  1.41\n",
      "1                Lead Origin_Lead Add Form  1.38\n",
      "7                   Last Activity_SMS Sent  1.37\n",
      "3             Lead Source_Welingak Website  1.27\n",
      "0              Total Time Spent on Website  1.26\n",
      "8                              City_Mumbai  1.20\n",
      "12                  City_Thane & Outskirts  1.05\n",
      "4              Last Activity_Email Bounced  1.04\n",
      "9                        City_Other Cities  1.04\n",
      "10        City_Other Cities of Maharashtra  1.03\n",
      "11                 City_Other Metro Cities  1.03\n",
      "5   Last Activity_Had a Phone Conversation  1.01\n"
     ]
    }
   ],
   "source": [
    "# Check the VIFs for the model.\n",
    "check_vif(X_train[rfe_col])"
   ]
  },
  {
   "cell_type": "markdown",
   "metadata": {},
   "source": [
    "<p style=\"font-family: Arial; font-size:1.0em;color:blue;\"> \n",
    "All variables have a good value of VIF and low p-values(~0). So we need not drop any more variables and we can proceed with making predictions using this model only"
   ]
  },
  {
   "cell_type": "code",
   "execution_count": 87,
   "metadata": {},
   "outputs": [
    {
     "data": {
      "text/plain": [
       "array([0.07184691, 0.02893484, 0.53187588, 0.19823953, 0.99646674,\n",
       "       0.56732514, 0.1279563 , 0.23033031, 0.08223851, 0.0816353 ])"
      ]
     },
     "execution_count": 87,
     "metadata": {},
     "output_type": "execute_result"
    }
   ],
   "source": [
    "# Let's predict the probabilities on the train data.\n",
    "y_train_pred = res4.predict(X_train_sm).values.reshape(-1)\n",
    "y_train_pred[:10]"
   ]
  },
  {
   "cell_type": "code",
   "execution_count": 88,
   "metadata": {},
   "outputs": [
    {
     "data": {
      "text/html": [
       "<div>\n",
       "<style scoped>\n",
       "    .dataframe tbody tr th:only-of-type {\n",
       "        vertical-align: middle;\n",
       "    }\n",
       "\n",
       "    .dataframe tbody tr th {\n",
       "        vertical-align: top;\n",
       "    }\n",
       "\n",
       "    .dataframe thead th {\n",
       "        text-align: right;\n",
       "    }\n",
       "</style>\n",
       "<table border=\"1\" class=\"dataframe\">\n",
       "  <thead>\n",
       "    <tr style=\"text-align: right;\">\n",
       "      <th></th>\n",
       "      <th>Converted</th>\n",
       "      <th>Converted_Prob</th>\n",
       "    </tr>\n",
       "  </thead>\n",
       "  <tbody>\n",
       "    <tr>\n",
       "      <td>0</td>\n",
       "      <td>0</td>\n",
       "      <td>0.071847</td>\n",
       "    </tr>\n",
       "    <tr>\n",
       "      <td>1</td>\n",
       "      <td>0</td>\n",
       "      <td>0.028935</td>\n",
       "    </tr>\n",
       "    <tr>\n",
       "      <td>2</td>\n",
       "      <td>0</td>\n",
       "      <td>0.531876</td>\n",
       "    </tr>\n",
       "    <tr>\n",
       "      <td>3</td>\n",
       "      <td>0</td>\n",
       "      <td>0.198240</td>\n",
       "    </tr>\n",
       "    <tr>\n",
       "      <td>4</td>\n",
       "      <td>1</td>\n",
       "      <td>0.996467</td>\n",
       "    </tr>\n",
       "  </tbody>\n",
       "</table>\n",
       "</div>"
      ],
      "text/plain": [
       "   Converted  Converted_Prob\n",
       "0          0        0.071847\n",
       "1          0        0.028935\n",
       "2          0        0.531876\n",
       "3          0        0.198240\n",
       "4          1        0.996467"
      ]
     },
     "execution_count": 88,
     "metadata": {},
     "output_type": "execute_result"
    }
   ],
   "source": [
    "# Creating a dataframe with actual converted flag and predicted probabilities.\n",
    "y_train_pred_final = pd.DataFrame({'Converted':y_train.values, 'Converted_Prob':y_train_pred})\n",
    "y_train_pred_final.head()"
   ]
  },
  {
   "cell_type": "code",
   "execution_count": 89,
   "metadata": {},
   "outputs": [],
   "source": [
    "# Plot the ROC curve.\n",
    "def draw_roc( actual, probs ):\n",
    "    fpr, tpr, thresholds = metrics.roc_curve( actual, probs,\n",
    "                                              drop_intermediate = False )\n",
    "    auc_score = metrics.roc_auc_score( actual, probs )\n",
    "    plt.figure(figsize=(5, 5))\n",
    "    plt.plot( fpr, tpr, label='ROC curve (area = %0.2f)' % auc_score )\n",
    "    plt.plot([0, 1], [0, 1], 'k--')\n",
    "    plt.xlim([0.0, 1.0])\n",
    "    plt.ylim([0.0, 1.05])\n",
    "    plt.xlabel('False Positive Rate or [1 - True Negative Rate]')\n",
    "    plt.ylabel('True Positive Rate')\n",
    "    plt.title('Receiver operating characteristic example')\n",
    "    plt.legend(loc=\"lower right\")\n",
    "    plt.show()\n",
    "\n",
    "    return None"
   ]
  },
  {
   "cell_type": "code",
   "execution_count": 90,
   "metadata": {},
   "outputs": [],
   "source": [
    "fpr, tpr, thresholds = metrics.roc_curve(y_train_pred_final.Converted, y_train_pred_final.Converted_Prob, drop_intermediate=False)"
   ]
  },
  {
   "cell_type": "markdown",
   "metadata": {},
   "source": [
    "### ROC CURVE:\n",
    "<p style=\"font-family: Arial; font-size:1.0em;color:blue;\">  ROC (Receiver Operating Characteristic) curve plots the graph between the True positive rate and the False Postive rate. This graph determines if the model is good enough for logistic regression or not. If the area of the graph is greater than 0.5 i.e. if the line in the plot is on the upper left of the plot, then we can say that the data is good to perform the logistic regression."
   ]
  },
  {
   "cell_type": "code",
   "execution_count": 91,
   "metadata": {},
   "outputs": [
    {
     "data": {
      "image/png": "[encoded data removed]",
      "text/plain": [
       "<Figure size 360x360 with 1 Axes>"
      ]
     },
     "metadata": {
      "needs_background": "light"
     },
     "output_type": "display_data"
    }
   ],
   "source": [
    "draw_roc(y_train_pred_final.Converted, y_train_pred_final.Converted_Prob)"
   ]
  },
  {
   "cell_type": "markdown",
   "metadata": {},
   "source": [
    "<p style=\"font-family: Arial; font-size:1.0em;color:blue;\"> Ideal ROC Curve would have a value close to 1. We got a good value of 0.86 indicating a good predictive model."
   ]
  },
  {
   "cell_type": "markdown",
   "metadata": {},
   "source": [
    "### FINDING THE OPTIMAL CUT OFF VALUE"
   ]
  },
  {
   "cell_type": "markdown",
   "metadata": {},
   "source": [
    "<p style=\"font-family: Arial; font-size:1.0em;color:blue;\"> Optimal cutoff probability is probability at which sensitivity and specificity values are balanced."
   ]
  },
  {
   "cell_type": "code",
   "execution_count": 92,
   "metadata": {},
   "outputs": [
    {
     "data": {
      "text/html": [
       "<div>\n",
       "<style scoped>\n",
       "    .dataframe tbody tr th:only-of-type {\n",
       "        vertical-align: middle;\n",
       "    }\n",
       "\n",
       "    .dataframe tbody tr th {\n",
       "        vertical-align: top;\n",
       "    }\n",
       "\n",
       "    .dataframe thead th {\n",
       "        text-align: right;\n",
       "    }\n",
       "</style>\n",
       "<table border=\"1\" class=\"dataframe\">\n",
       "  <thead>\n",
       "    <tr style=\"text-align: right;\">\n",
       "      <th></th>\n",
       "      <th>Converted</th>\n",
       "      <th>Converted_Prob</th>\n",
       "      <th>0.0</th>\n",
       "      <th>0.05</th>\n",
       "      <th>0.1</th>\n",
       "      <th>0.15</th>\n",
       "      <th>0.2</th>\n",
       "      <th>0.25</th>\n",
       "      <th>0.3</th>\n",
       "      <th>0.35</th>\n",
       "      <th>...</th>\n",
       "      <th>0.5</th>\n",
       "      <th>0.55</th>\n",
       "      <th>0.6</th>\n",
       "      <th>0.65</th>\n",
       "      <th>0.7</th>\n",
       "      <th>0.75</th>\n",
       "      <th>0.8</th>\n",
       "      <th>0.85</th>\n",
       "      <th>0.9</th>\n",
       "      <th>0.95</th>\n",
       "    </tr>\n",
       "  </thead>\n",
       "  <tbody>\n",
       "    <tr>\n",
       "      <td>0</td>\n",
       "      <td>0</td>\n",
       "      <td>0.071847</td>\n",
       "      <td>1</td>\n",
       "      <td>1</td>\n",
       "      <td>0</td>\n",
       "      <td>0</td>\n",
       "      <td>0</td>\n",
       "      <td>0</td>\n",
       "      <td>0</td>\n",
       "      <td>0</td>\n",
       "      <td>...</td>\n",
       "      <td>0</td>\n",
       "      <td>0</td>\n",
       "      <td>0</td>\n",
       "      <td>0</td>\n",
       "      <td>0</td>\n",
       "      <td>0</td>\n",
       "      <td>0</td>\n",
       "      <td>0</td>\n",
       "      <td>0</td>\n",
       "      <td>0</td>\n",
       "    </tr>\n",
       "    <tr>\n",
       "      <td>1</td>\n",
       "      <td>0</td>\n",
       "      <td>0.028935</td>\n",
       "      <td>1</td>\n",
       "      <td>0</td>\n",
       "      <td>0</td>\n",
       "      <td>0</td>\n",
       "      <td>0</td>\n",
       "      <td>0</td>\n",
       "      <td>0</td>\n",
       "      <td>0</td>\n",
       "      <td>...</td>\n",
       "      <td>0</td>\n",
       "      <td>0</td>\n",
       "      <td>0</td>\n",
       "      <td>0</td>\n",
       "      <td>0</td>\n",
       "      <td>0</td>\n",
       "      <td>0</td>\n",
       "      <td>0</td>\n",
       "      <td>0</td>\n",
       "      <td>0</td>\n",
       "    </tr>\n",
       "    <tr>\n",
       "      <td>2</td>\n",
       "      <td>0</td>\n",
       "      <td>0.531876</td>\n",
       "      <td>1</td>\n",
       "      <td>1</td>\n",
       "      <td>1</td>\n",
       "      <td>1</td>\n",
       "      <td>1</td>\n",
       "      <td>1</td>\n",
       "      <td>1</td>\n",
       "      <td>1</td>\n",
       "      <td>...</td>\n",
       "      <td>1</td>\n",
       "      <td>0</td>\n",
       "      <td>0</td>\n",
       "      <td>0</td>\n",
       "      <td>0</td>\n",
       "      <td>0</td>\n",
       "      <td>0</td>\n",
       "      <td>0</td>\n",
       "      <td>0</td>\n",
       "      <td>0</td>\n",
       "    </tr>\n",
       "    <tr>\n",
       "      <td>3</td>\n",
       "      <td>0</td>\n",
       "      <td>0.198240</td>\n",
       "      <td>1</td>\n",
       "      <td>1</td>\n",
       "      <td>1</td>\n",
       "      <td>1</td>\n",
       "      <td>0</td>\n",
       "      <td>0</td>\n",
       "      <td>0</td>\n",
       "      <td>0</td>\n",
       "      <td>...</td>\n",
       "      <td>0</td>\n",
       "      <td>0</td>\n",
       "      <td>0</td>\n",
       "      <td>0</td>\n",
       "      <td>0</td>\n",
       "      <td>0</td>\n",
       "      <td>0</td>\n",
       "      <td>0</td>\n",
       "      <td>0</td>\n",
       "      <td>0</td>\n",
       "    </tr>\n",
       "    <tr>\n",
       "      <td>4</td>\n",
       "      <td>1</td>\n",
       "      <td>0.996467</td>\n",
       "      <td>1</td>\n",
       "      <td>1</td>\n",
       "      <td>1</td>\n",
       "      <td>1</td>\n",
       "      <td>1</td>\n",
       "      <td>1</td>\n",
       "      <td>1</td>\n",
       "      <td>1</td>\n",
       "      <td>...</td>\n",
       "      <td>1</td>\n",
       "      <td>1</td>\n",
       "      <td>1</td>\n",
       "      <td>1</td>\n",
       "      <td>1</td>\n",
       "      <td>1</td>\n",
       "      <td>1</td>\n",
       "      <td>1</td>\n",
       "      <td>1</td>\n",
       "      <td>1</td>\n",
       "    </tr>\n",
       "  </tbody>\n",
       "</table>\n",
       "<p>5 rows × 22 columns</p>\n",
       "</div>"
      ],
      "text/plain": [
       "   Converted  Converted_Prob  0.0  0.05  0.1  0.15  0.2  0.25  0.3  0.35  ...  \\\n",
       "0          0        0.071847    1     1    0     0    0     0    0     0  ...   \n",
       "1          0        0.028935    1     0    0     0    0     0    0     0  ...   \n",
       "2          0        0.531876    1     1    1     1    1     1    1     1  ...   \n",
       "3          0        0.198240    1     1    1     1    0     0    0     0  ...   \n",
       "4          1        0.996467    1     1    1     1    1     1    1     1  ...   \n",
       "\n",
       "   0.5  0.55  0.6  0.65  0.7  0.75  0.8  0.85  0.9  0.95  \n",
       "0    0     0    0     0    0     0    0     0    0     0  \n",
       "1    0     0    0     0    0     0    0     0    0     0  \n",
       "2    1     0    0     0    0     0    0     0    0     0  \n",
       "3    0     0    0     0    0     0    0     0    0     0  \n",
       "4    1     1    1     1    1     1    1     1    1     1  \n",
       "\n",
       "[5 rows x 22 columns]"
      ]
     },
     "execution_count": 92,
     "metadata": {},
     "output_type": "execute_result"
    }
   ],
   "source": [
    "# Let's create columns with different probability cutoffs \n",
    "numbers = [float(x)/100 for x in range(0,100,5)]\n",
    "for i in numbers:\n",
    "    y_train_pred_final[i]= y_train_pred_final.Converted_Prob.map(lambda x: 1 if x > i else 0)\n",
    "y_train_pred_final.head()"
   ]
  },
  {
   "cell_type": "code",
   "execution_count": 93,
   "metadata": {},
   "outputs": [
    {
     "name": "stdout",
     "output_type": "stream",
     "text": [
      "      prob  accuracy  sensitivity  specificity\n",
      "0.00  0.00  0.381728     1.000000     0.000000\n",
      "0.05  0.05  0.427984     0.995688     0.077476\n",
      "0.10  0.10  0.550947     0.976714     0.288072\n",
      "0.15  0.15  0.659095     0.941354     0.484824\n",
      "0.20  0.20  0.710947     0.923243     0.579872\n",
      "0.25  0.25  0.769218     0.865028     0.710064\n",
      "0.30  0.30  0.777613     0.840448     0.738818\n",
      "0.35  0.35  0.783045     0.786115     0.781150\n",
      "0.40  0.40  0.788807     0.749461     0.813099\n",
      "0.45  0.45  0.793745     0.707633     0.846912\n",
      "0.50  0.50  0.796708     0.674860     0.871938\n",
      "0.55  0.55  0.783374     0.586891     0.904686\n",
      "0.60  0.60  0.777284     0.547219     0.919329\n",
      "0.65  0.65  0.770041     0.502803     0.935037\n",
      "0.70  0.70  0.759671     0.459681     0.944888\n",
      "0.75  0.75  0.746831     0.409228     0.955272\n",
      "0.80  0.80  0.732510     0.351013     0.968051\n",
      "0.85  0.85  0.709794     0.277275     0.976837\n",
      "0.90  0.90  0.681317     0.185425     0.987487\n",
      "0.95  0.95  0.649877     0.088400     0.996539\n"
     ]
    }
   ],
   "source": [
    "# Now let's calculate accuracy sensitivity and specificity for various probability cutoffs.\n",
    "cutoff_df = pd.DataFrame(columns = ['prob','accuracy','sensitivity','specificity'])\n",
    "from sklearn.metrics import confusion_matrix\n",
    "\n",
    "# TP = confusion[1,1] # true positive \n",
    "# TN = confusion[0,0] # true negatives\n",
    "# FP = confusion[0,1] # false positives\n",
    "# FN = confusion[1,0] # false negatives\n",
    "\n",
    "num = [float(x)/100 for x in range(0,100,5)]\n",
    "for i in num:\n",
    "    cm1 = metrics.confusion_matrix(y_train_pred_final.Converted, y_train_pred_final[i] )\n",
    "    total1=sum(sum(cm1))\n",
    "    accuracy = (cm1[0,0]+cm1[1,1])/total1\n",
    "    \n",
    "    speci = cm1[0,0]/(cm1[0,0]+cm1[0,1])\n",
    "    sensi = cm1[1,1]/(cm1[1,0]+cm1[1,1])\n",
    "    cutoff_df.loc[i] =[ i ,accuracy,sensi,speci]\n",
    "print(cutoff_df)"
   ]
  },
  {
   "cell_type": "code",
   "execution_count": 94,
   "metadata": {},
   "outputs": [
    {
     "data": {
      "image/png": "[encoded data removed]",
      "text/plain": [
       "<Figure size 432x288 with 1 Axes>"
      ]
     },
     "metadata": {
      "needs_background": "light"
     },
     "output_type": "display_data"
    }
   ],
   "source": [
    "# Let's plot accuracy sensitivity and specificity for various probabilities.\n",
    "cutoff_df.plot.line(x='prob', y=['accuracy','sensitivity','specificity'])\n",
    "plt.xticks([float(x)/100 for x in range(0,100,5)], rotation=90)\n",
    "plt.show()"
   ]
  },
  {
   "cell_type": "markdown",
   "metadata": {},
   "source": [
    "<p style=\"font-family: Arial; font-size:1.0em;color:blue;\"> From the above graph, we can say that at 0.35, the values of accuracy, sensitivty and specificity match. But, as per our business problem, we need to provide a model with sensitivity greater than 80 percent. Moreover, we cant lose the customers who are willing to join. So, our major prioirity is that we have to predict precisely about the customers who want to join the program. That means, the sensitivity of then algorithm should be high.<br><br> So, we will consider our cur off as 0.3. i.e. for all the customers, if their probability of conversion is more than 0.3,then they are predicted to be converted (1). If their probability of conversion is less than 0.3,then they are predicted to be not converted (0)."
   ]
  },
  {
   "cell_type": "code",
   "execution_count": 95,
   "metadata": {},
   "outputs": [
    {
     "data": {
      "text/html": [
       "<div>\n",
       "<style scoped>\n",
       "    .dataframe tbody tr th:only-of-type {\n",
       "        vertical-align: middle;\n",
       "    }\n",
       "\n",
       "    .dataframe tbody tr th {\n",
       "        vertical-align: top;\n",
       "    }\n",
       "\n",
       "    .dataframe thead th {\n",
       "        text-align: right;\n",
       "    }\n",
       "</style>\n",
       "<table border=\"1\" class=\"dataframe\">\n",
       "  <thead>\n",
       "    <tr style=\"text-align: right;\">\n",
       "      <th></th>\n",
       "      <th>Converted</th>\n",
       "      <th>Converted_Prob</th>\n",
       "      <th>0.0</th>\n",
       "      <th>0.05</th>\n",
       "      <th>0.1</th>\n",
       "      <th>0.15</th>\n",
       "      <th>0.2</th>\n",
       "      <th>0.25</th>\n",
       "      <th>0.3</th>\n",
       "      <th>0.35</th>\n",
       "      <th>...</th>\n",
       "      <th>0.55</th>\n",
       "      <th>0.6</th>\n",
       "      <th>0.65</th>\n",
       "      <th>0.7</th>\n",
       "      <th>0.75</th>\n",
       "      <th>0.8</th>\n",
       "      <th>0.85</th>\n",
       "      <th>0.9</th>\n",
       "      <th>0.95</th>\n",
       "      <th>final_predicted</th>\n",
       "    </tr>\n",
       "  </thead>\n",
       "  <tbody>\n",
       "    <tr>\n",
       "      <td>0</td>\n",
       "      <td>0</td>\n",
       "      <td>0.071847</td>\n",
       "      <td>1</td>\n",
       "      <td>1</td>\n",
       "      <td>0</td>\n",
       "      <td>0</td>\n",
       "      <td>0</td>\n",
       "      <td>0</td>\n",
       "      <td>0</td>\n",
       "      <td>0</td>\n",
       "      <td>...</td>\n",
       "      <td>0</td>\n",
       "      <td>0</td>\n",
       "      <td>0</td>\n",
       "      <td>0</td>\n",
       "      <td>0</td>\n",
       "      <td>0</td>\n",
       "      <td>0</td>\n",
       "      <td>0</td>\n",
       "      <td>0</td>\n",
       "      <td>0</td>\n",
       "    </tr>\n",
       "    <tr>\n",
       "      <td>1</td>\n",
       "      <td>0</td>\n",
       "      <td>0.028935</td>\n",
       "      <td>1</td>\n",
       "      <td>0</td>\n",
       "      <td>0</td>\n",
       "      <td>0</td>\n",
       "      <td>0</td>\n",
       "      <td>0</td>\n",
       "      <td>0</td>\n",
       "      <td>0</td>\n",
       "      <td>...</td>\n",
       "      <td>0</td>\n",
       "      <td>0</td>\n",
       "      <td>0</td>\n",
       "      <td>0</td>\n",
       "      <td>0</td>\n",
       "      <td>0</td>\n",
       "      <td>0</td>\n",
       "      <td>0</td>\n",
       "      <td>0</td>\n",
       "      <td>0</td>\n",
       "    </tr>\n",
       "    <tr>\n",
       "      <td>2</td>\n",
       "      <td>0</td>\n",
       "      <td>0.531876</td>\n",
       "      <td>1</td>\n",
       "      <td>1</td>\n",
       "      <td>1</td>\n",
       "      <td>1</td>\n",
       "      <td>1</td>\n",
       "      <td>1</td>\n",
       "      <td>1</td>\n",
       "      <td>1</td>\n",
       "      <td>...</td>\n",
       "      <td>0</td>\n",
       "      <td>0</td>\n",
       "      <td>0</td>\n",
       "      <td>0</td>\n",
       "      <td>0</td>\n",
       "      <td>0</td>\n",
       "      <td>0</td>\n",
       "      <td>0</td>\n",
       "      <td>0</td>\n",
       "      <td>1</td>\n",
       "    </tr>\n",
       "    <tr>\n",
       "      <td>3</td>\n",
       "      <td>0</td>\n",
       "      <td>0.198240</td>\n",
       "      <td>1</td>\n",
       "      <td>1</td>\n",
       "      <td>1</td>\n",
       "      <td>1</td>\n",
       "      <td>0</td>\n",
       "      <td>0</td>\n",
       "      <td>0</td>\n",
       "      <td>0</td>\n",
       "      <td>...</td>\n",
       "      <td>0</td>\n",
       "      <td>0</td>\n",
       "      <td>0</td>\n",
       "      <td>0</td>\n",
       "      <td>0</td>\n",
       "      <td>0</td>\n",
       "      <td>0</td>\n",
       "      <td>0</td>\n",
       "      <td>0</td>\n",
       "      <td>0</td>\n",
       "    </tr>\n",
       "    <tr>\n",
       "      <td>4</td>\n",
       "      <td>1</td>\n",
       "      <td>0.996467</td>\n",
       "      <td>1</td>\n",
       "      <td>1</td>\n",
       "      <td>1</td>\n",
       "      <td>1</td>\n",
       "      <td>1</td>\n",
       "      <td>1</td>\n",
       "      <td>1</td>\n",
       "      <td>1</td>\n",
       "      <td>...</td>\n",
       "      <td>1</td>\n",
       "      <td>1</td>\n",
       "      <td>1</td>\n",
       "      <td>1</td>\n",
       "      <td>1</td>\n",
       "      <td>1</td>\n",
       "      <td>1</td>\n",
       "      <td>1</td>\n",
       "      <td>1</td>\n",
       "      <td>1</td>\n",
       "    </tr>\n",
       "  </tbody>\n",
       "</table>\n",
       "<p>5 rows × 23 columns</p>\n",
       "</div>"
      ],
      "text/plain": [
       "   Converted  Converted_Prob  0.0  0.05  0.1  0.15  0.2  0.25  0.3  0.35  ...  \\\n",
       "0          0        0.071847    1     1    0     0    0     0    0     0  ...   \n",
       "1          0        0.028935    1     0    0     0    0     0    0     0  ...   \n",
       "2          0        0.531876    1     1    1     1    1     1    1     1  ...   \n",
       "3          0        0.198240    1     1    1     1    0     0    0     0  ...   \n",
       "4          1        0.996467    1     1    1     1    1     1    1     1  ...   \n",
       "\n",
       "   0.55  0.6  0.65  0.7  0.75  0.8  0.85  0.9  0.95  final_predicted  \n",
       "0     0    0     0    0     0    0     0    0     0                0  \n",
       "1     0    0     0    0     0    0     0    0     0                0  \n",
       "2     0    0     0    0     0    0     0    0     0                1  \n",
       "3     0    0     0    0     0    0     0    0     0                0  \n",
       "4     1    1     1    1     1    1     1    1     1                1  \n",
       "\n",
       "[5 rows x 23 columns]"
      ]
     },
     "execution_count": 95,
     "metadata": {},
     "output_type": "execute_result"
    }
   ],
   "source": [
    "# Predict the train data using the optimal cut-off.\n",
    "y_train_pred_final['final_predicted'] = y_train_pred_final.Converted_Prob.map( lambda x: 1 if x > 0.3 else 0)\n",
    "\n",
    "# Look at the head of the dataframe.\n",
    "y_train_pred_final.head()"
   ]
  },
  {
   "cell_type": "code",
   "execution_count": 96,
   "metadata": {},
   "outputs": [
    {
     "data": {
      "text/plain": [
       "0.7776131687242799"
      ]
     },
     "execution_count": 96,
     "metadata": {},
     "output_type": "execute_result"
    }
   ],
   "source": [
    "# Let's check the overall accuracy.\n",
    "metrics.accuracy_score(y_train_pred_final.Converted, y_train_pred_final.final_predicted)"
   ]
  },
  {
   "cell_type": "code",
   "execution_count": 97,
   "metadata": {},
   "outputs": [
    {
     "data": {
      "text/plain": [
       "array([[2775,  981],\n",
       "       [ 370, 1949]], dtype=int64)"
      ]
     },
     "execution_count": 97,
     "metadata": {},
     "output_type": "execute_result"
    }
   ],
   "source": [
    "# Let's get the confusion matrix.\n",
    "confusion_train = metrics.confusion_matrix(y_train_pred_final.Converted, y_train_pred_final.final_predicted)\n",
    "confusion_train"
   ]
  },
  {
   "cell_type": "code",
   "execution_count": 98,
   "metadata": {},
   "outputs": [],
   "source": [
    "TP = confusion_train[1,1] # true positive \n",
    "TN = confusion_train[0,0] # true negatives\n",
    "FP = confusion_train[0,1] # false positives\n",
    "FN = confusion_train[1,0] # false negatives"
   ]
  },
  {
   "cell_type": "code",
   "execution_count": 99,
   "metadata": {},
   "outputs": [
    {
     "data": {
      "text/plain": [
       "0.8404484691677447"
      ]
     },
     "execution_count": 99,
     "metadata": {},
     "output_type": "execute_result"
    }
   ],
   "source": [
    "# Let's see the sensitivity of our logistic regression model\n",
    "TP / float(TP+FN)"
   ]
  },
  {
   "cell_type": "code",
   "execution_count": 100,
   "metadata": {},
   "outputs": [
    {
     "data": {
      "text/plain": [
       "0.7388178913738019"
      ]
     },
     "execution_count": 100,
     "metadata": {},
     "output_type": "execute_result"
    }
   ],
   "source": [
    "# Let us calculate specificity\n",
    "TN / float(TN+FP)"
   ]
  },
  {
   "cell_type": "markdown",
   "metadata": {},
   "source": [
    "<p style=\"font-family: Arial; font-size:1.0em;color:blue;\"> Observations:<br>\n",
    "As we can see above the model seems to be performing well. \n",
    "The ROC curve has a value of 0.86, which is very good and we have the following values for the train Data:\n",
    "<p style=\"font-family: Arial; font-size:1.0em;color:blue;\"> \n",
    "Accuracy : 77.76%<br>\n",
    "Sensitivity : 84.04%<br>\n",
    "Specificity : 73.88%"
   ]
  },
  {
   "cell_type": "code",
   "execution_count": 101,
   "metadata": {},
   "outputs": [
    {
     "name": "stdout",
     "output_type": "stream",
     "text": [
      "0.26118210862619806\n"
     ]
    }
   ],
   "source": [
    "# Calculate false postive rate - predicting converted when customer does not have converted\n",
    "print(FP/float(TN+FP))"
   ]
  },
  {
   "cell_type": "code",
   "execution_count": 102,
   "metadata": {},
   "outputs": [
    {
     "name": "stdout",
     "output_type": "stream",
     "text": [
      "0.6651877133105802\n"
     ]
    }
   ],
   "source": [
    "# Positive predictive value \n",
    "print (TP/float(TP+FP))"
   ]
  },
  {
   "cell_type": "code",
   "execution_count": 103,
   "metadata": {},
   "outputs": [
    {
     "name": "stdout",
     "output_type": "stream",
     "text": [
      "0.8823529411764706\n"
     ]
    }
   ],
   "source": [
    "# Negative predictive value\n",
    "print (TN/float(TN+FN))"
   ]
  },
  {
   "cell_type": "markdown",
   "metadata": {},
   "source": [
    "### PRECISION AND RECALL TRADE OFF"
   ]
  },
  {
   "cell_type": "code",
   "execution_count": 104,
   "metadata": {},
   "outputs": [],
   "source": [
    "p, r, thresholds = precision_recall_curve(y_train_pred_final.Converted, y_train_pred_final.Converted_Prob)"
   ]
  },
  {
   "cell_type": "code",
   "execution_count": 105,
   "metadata": {},
   "outputs": [
    {
     "data": {
      "image/png": "[encoded data removed]",
      "text/plain": [
       "<Figure size 432x288 with 1 Axes>"
      ]
     },
     "metadata": {
      "needs_background": "light"
     },
     "output_type": "display_data"
    }
   ],
   "source": [
    "# Plot the curves.\n",
    "plt.plot(thresholds, p[:-1], \"g-\")\n",
    "plt.plot(thresholds, r[:-1], \"r-\")\n",
    "plt.show()"
   ]
  },
  {
   "cell_type": "markdown",
   "metadata": {},
   "source": [
    "<p style=\"font-family: Arial; font-size:1.0em;color:blue;\"> From the above graph, the values of precision and recall match at 0.4, but as per our business problem ,we will go ahead with the cut off value that is acheived from our Sensitivity and Specificity graph."
   ]
  },
  {
   "cell_type": "markdown",
   "metadata": {},
   "source": [
    "### MAKING PREDICTIONS ON TEST DATA"
   ]
  },
  {
   "cell_type": "code",
   "execution_count": 106,
   "metadata": {},
   "outputs": [
    {
     "data": {
      "text/html": [
       "<div>\n",
       "<style scoped>\n",
       "    .dataframe tbody tr th:only-of-type {\n",
       "        vertical-align: middle;\n",
       "    }\n",
       "\n",
       "    .dataframe tbody tr th {\n",
       "        vertical-align: top;\n",
       "    }\n",
       "\n",
       "    .dataframe thead th {\n",
       "        text-align: right;\n",
       "    }\n",
       "</style>\n",
       "<table border=\"1\" class=\"dataframe\">\n",
       "  <thead>\n",
       "    <tr style=\"text-align: right;\">\n",
       "      <th></th>\n",
       "      <th>TotalVisits</th>\n",
       "      <th>Total Time Spent on Website</th>\n",
       "      <th>Page Views Per Visit</th>\n",
       "      <th>A free copy of Mastering The Interview</th>\n",
       "      <th>Lead Origin_API</th>\n",
       "      <th>Lead Origin_Landing Page Submission</th>\n",
       "      <th>Lead Origin_Lead Add Form</th>\n",
       "      <th>Lead Origin_Lead Import</th>\n",
       "      <th>Lead Source_Direct Traffic</th>\n",
       "      <th>Lead Source_Facebook</th>\n",
       "      <th>...</th>\n",
       "      <th>Specialization_Rural and Agribusiness</th>\n",
       "      <th>Specialization_Services Excellence</th>\n",
       "      <th>Specialization_Supply Chain Management</th>\n",
       "      <th>Specialization_Travel and Tourism</th>\n",
       "      <th>City_Mumbai</th>\n",
       "      <th>City_Other Cities</th>\n",
       "      <th>City_Other Cities of Maharashtra</th>\n",
       "      <th>City_Other Metro Cities</th>\n",
       "      <th>City_Thane &amp; Outskirts</th>\n",
       "      <th>City_Tier II Cities</th>\n",
       "    </tr>\n",
       "  </thead>\n",
       "  <tbody>\n",
       "    <tr>\n",
       "      <td>475</td>\n",
       "      <td>-1.156834</td>\n",
       "      <td>-0.871404</td>\n",
       "      <td>-1.254739</td>\n",
       "      <td>0</td>\n",
       "      <td>0</td>\n",
       "      <td>0</td>\n",
       "      <td>1</td>\n",
       "      <td>0</td>\n",
       "      <td>0</td>\n",
       "      <td>0</td>\n",
       "      <td>...</td>\n",
       "      <td>0</td>\n",
       "      <td>0</td>\n",
       "      <td>0</td>\n",
       "      <td>0</td>\n",
       "      <td>0</td>\n",
       "      <td>0</td>\n",
       "      <td>0</td>\n",
       "      <td>0</td>\n",
       "      <td>1</td>\n",
       "      <td>0</td>\n",
       "    </tr>\n",
       "    <tr>\n",
       "      <td>2461</td>\n",
       "      <td>-1.156834</td>\n",
       "      <td>-0.871404</td>\n",
       "      <td>-1.254739</td>\n",
       "      <td>0</td>\n",
       "      <td>0</td>\n",
       "      <td>0</td>\n",
       "      <td>1</td>\n",
       "      <td>0</td>\n",
       "      <td>0</td>\n",
       "      <td>0</td>\n",
       "      <td>...</td>\n",
       "      <td>0</td>\n",
       "      <td>0</td>\n",
       "      <td>0</td>\n",
       "      <td>0</td>\n",
       "      <td>0</td>\n",
       "      <td>0</td>\n",
       "      <td>0</td>\n",
       "      <td>0</td>\n",
       "      <td>0</td>\n",
       "      <td>0</td>\n",
       "    </tr>\n",
       "    <tr>\n",
       "      <td>1890</td>\n",
       "      <td>-0.332511</td>\n",
       "      <td>-0.561668</td>\n",
       "      <td>-0.045307</td>\n",
       "      <td>0</td>\n",
       "      <td>1</td>\n",
       "      <td>0</td>\n",
       "      <td>0</td>\n",
       "      <td>0</td>\n",
       "      <td>0</td>\n",
       "      <td>0</td>\n",
       "      <td>...</td>\n",
       "      <td>0</td>\n",
       "      <td>0</td>\n",
       "      <td>0</td>\n",
       "      <td>0</td>\n",
       "      <td>0</td>\n",
       "      <td>0</td>\n",
       "      <td>0</td>\n",
       "      <td>0</td>\n",
       "      <td>0</td>\n",
       "      <td>0</td>\n",
       "    </tr>\n",
       "    <tr>\n",
       "      <td>6007</td>\n",
       "      <td>0.079651</td>\n",
       "      <td>-0.699124</td>\n",
       "      <td>-0.347665</td>\n",
       "      <td>1</td>\n",
       "      <td>1</td>\n",
       "      <td>0</td>\n",
       "      <td>0</td>\n",
       "      <td>0</td>\n",
       "      <td>0</td>\n",
       "      <td>0</td>\n",
       "      <td>...</td>\n",
       "      <td>0</td>\n",
       "      <td>0</td>\n",
       "      <td>0</td>\n",
       "      <td>0</td>\n",
       "      <td>1</td>\n",
       "      <td>0</td>\n",
       "      <td>0</td>\n",
       "      <td>0</td>\n",
       "      <td>0</td>\n",
       "      <td>0</td>\n",
       "    </tr>\n",
       "    <tr>\n",
       "      <td>4052</td>\n",
       "      <td>0.079651</td>\n",
       "      <td>-0.596490</td>\n",
       "      <td>0.559408</td>\n",
       "      <td>1</td>\n",
       "      <td>0</td>\n",
       "      <td>1</td>\n",
       "      <td>0</td>\n",
       "      <td>0</td>\n",
       "      <td>1</td>\n",
       "      <td>0</td>\n",
       "      <td>...</td>\n",
       "      <td>0</td>\n",
       "      <td>0</td>\n",
       "      <td>0</td>\n",
       "      <td>0</td>\n",
       "      <td>1</td>\n",
       "      <td>0</td>\n",
       "      <td>0</td>\n",
       "      <td>0</td>\n",
       "      <td>0</td>\n",
       "      <td>0</td>\n",
       "    </tr>\n",
       "  </tbody>\n",
       "</table>\n",
       "<p>5 rows × 51 columns</p>\n",
       "</div>"
      ],
      "text/plain": [
       "      TotalVisits  Total Time Spent on Website  Page Views Per Visit  \\\n",
       "475     -1.156834                    -0.871404             -1.254739   \n",
       "2461    -1.156834                    -0.871404             -1.254739   \n",
       "1890    -0.332511                    -0.561668             -0.045307   \n",
       "6007     0.079651                    -0.699124             -0.347665   \n",
       "4052     0.079651                    -0.596490              0.559408   \n",
       "\n",
       "      A free copy of Mastering The Interview  Lead Origin_API  \\\n",
       "475                                        0                0   \n",
       "2461                                       0                0   \n",
       "1890                                       0                1   \n",
       "6007                                       1                1   \n",
       "4052                                       1                0   \n",
       "\n",
       "      Lead Origin_Landing Page Submission  Lead Origin_Lead Add Form  \\\n",
       "475                                     0                          1   \n",
       "2461                                    0                          1   \n",
       "1890                                    0                          0   \n",
       "6007                                    0                          0   \n",
       "4052                                    1                          0   \n",
       "\n",
       "      Lead Origin_Lead Import  Lead Source_Direct Traffic  \\\n",
       "475                         0                           0   \n",
       "2461                        0                           0   \n",
       "1890                        0                           0   \n",
       "6007                        0                           0   \n",
       "4052                        0                           1   \n",
       "\n",
       "      Lead Source_Facebook  ...  Specialization_Rural and Agribusiness  \\\n",
       "475                      0  ...                                      0   \n",
       "2461                     0  ...                                      0   \n",
       "1890                     0  ...                                      0   \n",
       "6007                     0  ...                                      0   \n",
       "4052                     0  ...                                      0   \n",
       "\n",
       "      Specialization_Services Excellence  \\\n",
       "475                                    0   \n",
       "2461                                   0   \n",
       "1890                                   0   \n",
       "6007                                   0   \n",
       "4052                                   0   \n",
       "\n",
       "      Specialization_Supply Chain Management  \\\n",
       "475                                        0   \n",
       "2461                                       0   \n",
       "1890                                       0   \n",
       "6007                                       0   \n",
       "4052                                       0   \n",
       "\n",
       "      Specialization_Travel and Tourism  City_Mumbai  City_Other Cities  \\\n",
       "475                                   0            0                  0   \n",
       "2461                                  0            0                  0   \n",
       "1890                                  0            0                  0   \n",
       "6007                                  0            1                  0   \n",
       "4052                                  0            1                  0   \n",
       "\n",
       "      City_Other Cities of Maharashtra  City_Other Metro Cities  \\\n",
       "475                                  0                        0   \n",
       "2461                                 0                        0   \n",
       "1890                                 0                        0   \n",
       "6007                                 0                        0   \n",
       "4052                                 0                        0   \n",
       "\n",
       "      City_Thane & Outskirts  City_Tier II Cities  \n",
       "475                        1                    0  \n",
       "2461                       0                    0  \n",
       "1890                       0                    0  \n",
       "6007                       0                    0  \n",
       "4052                       0                    0  \n",
       "\n",
       "[5 rows x 51 columns]"
      ]
     },
     "execution_count": 106,
     "metadata": {},
     "output_type": "execute_result"
    }
   ],
   "source": [
    "# Transform the train set\n",
    "X_test[num_columns] = scaler.transform(X_test[num_columns])\n",
    "\n",
    "# Look at the head of the dataframe.\n",
    "X_test.head()"
   ]
  },
  {
   "cell_type": "code",
   "execution_count": 107,
   "metadata": {},
   "outputs": [],
   "source": [
    "# Add constant to X_test.\n",
    "X_test_sm = sm.add_constant(X_test[rfe_col])"
   ]
  },
  {
   "cell_type": "code",
   "execution_count": 108,
   "metadata": {},
   "outputs": [
    {
     "data": {
      "text/plain": [
       "475     0.881360\n",
       "2461    0.994350\n",
       "1890    0.088659\n",
       "6007    0.354016\n",
       "4052    0.355007\n",
       "7587    0.113905\n",
       "2066    0.093464\n",
       "7285    0.100091\n",
       "3269    0.056933\n",
       "4817    0.506255\n",
       "dtype: float64"
      ]
     },
     "execution_count": 108,
     "metadata": {},
     "output_type": "execute_result"
    }
   ],
   "source": [
    "# Let's predict the probabilities on the test data.\n",
    "y_test_pred = res4.predict(X_test_sm)\n",
    "y_test_pred[:10]"
   ]
  },
  {
   "cell_type": "code",
   "execution_count": 109,
   "metadata": {},
   "outputs": [
    {
     "data": {
      "text/html": [
       "<div>\n",
       "<style scoped>\n",
       "    .dataframe tbody tr th:only-of-type {\n",
       "        vertical-align: middle;\n",
       "    }\n",
       "\n",
       "    .dataframe tbody tr th {\n",
       "        vertical-align: top;\n",
       "    }\n",
       "\n",
       "    .dataframe thead th {\n",
       "        text-align: right;\n",
       "    }\n",
       "</style>\n",
       "<table border=\"1\" class=\"dataframe\">\n",
       "  <thead>\n",
       "    <tr style=\"text-align: right;\">\n",
       "      <th></th>\n",
       "      <th>Converted</th>\n",
       "      <th>Converted_Prob</th>\n",
       "    </tr>\n",
       "  </thead>\n",
       "  <tbody>\n",
       "    <tr>\n",
       "      <td>0</td>\n",
       "      <td>1</td>\n",
       "      <td>0.881360</td>\n",
       "    </tr>\n",
       "    <tr>\n",
       "      <td>1</td>\n",
       "      <td>1</td>\n",
       "      <td>0.994350</td>\n",
       "    </tr>\n",
       "    <tr>\n",
       "      <td>2</td>\n",
       "      <td>0</td>\n",
       "      <td>0.088659</td>\n",
       "    </tr>\n",
       "    <tr>\n",
       "      <td>3</td>\n",
       "      <td>0</td>\n",
       "      <td>0.354016</td>\n",
       "    </tr>\n",
       "    <tr>\n",
       "      <td>4</td>\n",
       "      <td>0</td>\n",
       "      <td>0.355007</td>\n",
       "    </tr>\n",
       "  </tbody>\n",
       "</table>\n",
       "</div>"
      ],
      "text/plain": [
       "   Converted  Converted_Prob\n",
       "0          1        0.881360\n",
       "1          1        0.994350\n",
       "2          0        0.088659\n",
       "3          0        0.354016\n",
       "4          0        0.355007"
      ]
     },
     "execution_count": 109,
     "metadata": {},
     "output_type": "execute_result"
    }
   ],
   "source": [
    "# Creating a dataframe with actual converted flag and predicted probabilities.\n",
    "y_test_pred_final = pd.DataFrame({'Converted':y_test.values, 'Converted_Prob':y_test_pred})\n",
    "y_test_pred_final.reset_index(drop=True, inplace=True)\n",
    "y_test_pred_final.head()"
   ]
  },
  {
   "cell_type": "code",
   "execution_count": 110,
   "metadata": {},
   "outputs": [
    {
     "data": {
      "text/html": [
       "<div>\n",
       "<style scoped>\n",
       "    .dataframe tbody tr th:only-of-type {\n",
       "        vertical-align: middle;\n",
       "    }\n",
       "\n",
       "    .dataframe tbody tr th {\n",
       "        vertical-align: top;\n",
       "    }\n",
       "\n",
       "    .dataframe thead th {\n",
       "        text-align: right;\n",
       "    }\n",
       "</style>\n",
       "<table border=\"1\" class=\"dataframe\">\n",
       "  <thead>\n",
       "    <tr style=\"text-align: right;\">\n",
       "      <th></th>\n",
       "      <th>Converted</th>\n",
       "      <th>Converted_Prob</th>\n",
       "      <th>final_predicted</th>\n",
       "    </tr>\n",
       "  </thead>\n",
       "  <tbody>\n",
       "    <tr>\n",
       "      <td>0</td>\n",
       "      <td>1</td>\n",
       "      <td>0.881360</td>\n",
       "      <td>1</td>\n",
       "    </tr>\n",
       "    <tr>\n",
       "      <td>1</td>\n",
       "      <td>1</td>\n",
       "      <td>0.994350</td>\n",
       "      <td>1</td>\n",
       "    </tr>\n",
       "    <tr>\n",
       "      <td>2</td>\n",
       "      <td>0</td>\n",
       "      <td>0.088659</td>\n",
       "      <td>0</td>\n",
       "    </tr>\n",
       "    <tr>\n",
       "      <td>3</td>\n",
       "      <td>0</td>\n",
       "      <td>0.354016</td>\n",
       "      <td>1</td>\n",
       "    </tr>\n",
       "    <tr>\n",
       "      <td>4</td>\n",
       "      <td>0</td>\n",
       "      <td>0.355007</td>\n",
       "      <td>1</td>\n",
       "    </tr>\n",
       "  </tbody>\n",
       "</table>\n",
       "</div>"
      ],
      "text/plain": [
       "   Converted  Converted_Prob  final_predicted\n",
       "0          1        0.881360                1\n",
       "1          1        0.994350                1\n",
       "2          0        0.088659                0\n",
       "3          0        0.354016                1\n",
       "4          0        0.355007                1"
      ]
     },
     "execution_count": 110,
     "metadata": {},
     "output_type": "execute_result"
    }
   ],
   "source": [
    "# Predict the test data using the optimal cut-off.\n",
    "y_test_pred_final['final_predicted'] = y_test_pred_final.Converted_Prob.map(lambda x: 1 if x > 0.3 else 0)\n",
    "\n",
    "# Look at the head of the dataframe.\n",
    "y_test_pred_final.head()"
   ]
  },
  {
   "cell_type": "code",
   "execution_count": 111,
   "metadata": {},
   "outputs": [
    {
     "data": {
      "text/plain": [
       "0.772273425499232"
      ]
     },
     "execution_count": 111,
     "metadata": {},
     "output_type": "execute_result"
    }
   ],
   "source": [
    "# Let's check the overall accuracy.\n",
    "metrics.accuracy_score(y_test_pred_final.Converted, y_test_pred_final.final_predicted)"
   ]
  },
  {
   "cell_type": "code",
   "execution_count": 112,
   "metadata": {},
   "outputs": [
    {
     "data": {
      "text/plain": [
       "array([[1160,  431],\n",
       "       [ 162,  851]], dtype=int64)"
      ]
     },
     "execution_count": 112,
     "metadata": {},
     "output_type": "execute_result"
    }
   ],
   "source": [
    "# Let's get the confusion matrix.\n",
    "confusion_test = metrics.confusion_matrix(y_test_pred_final.Converted, y_test_pred_final.final_predicted )\n",
    "confusion_test"
   ]
  },
  {
   "cell_type": "code",
   "execution_count": 113,
   "metadata": {},
   "outputs": [],
   "source": [
    "TP = confusion_test[1,1] # true positive \n",
    "TN = confusion_test[0,0] # true negatives\n",
    "FP = confusion_test[0,1] # false positives\n",
    "FN = confusion_test[1,0] # false negatives"
   ]
  },
  {
   "cell_type": "code",
   "execution_count": 114,
   "metadata": {},
   "outputs": [
    {
     "data": {
      "text/plain": [
       "0.8400789733464955"
      ]
     },
     "execution_count": 114,
     "metadata": {},
     "output_type": "execute_result"
    }
   ],
   "source": [
    "# Let's see the sensitivity of our logistic regression model\n",
    "TP / float(TP+FN)"
   ]
  },
  {
   "cell_type": "code",
   "execution_count": 115,
   "metadata": {},
   "outputs": [
    {
     "data": {
      "text/plain": [
       "0.7291011942174733"
      ]
     },
     "execution_count": 115,
     "metadata": {},
     "output_type": "execute_result"
    }
   ],
   "source": [
    "# Let us calculate specificity\n",
    "TN / float(TN+FP)"
   ]
  },
  {
   "cell_type": "markdown",
   "metadata": {},
   "source": [
    "<p style=\"font-family: Arial; font-size:1.0em;color:blue;\"> \n",
    "After running the model on the Test Data the below are the figures we obtain:\n",
    "<p style=\"font-family: Arial; font-size:1.0em;color:blue;\"> \n",
    "Accuracy : 77.23%<br>\n",
    "Sensitivity : 84.01%<br>\n",
    "Specificity : 72.91%"
   ]
  },
  {
   "cell_type": "markdown",
   "metadata": {},
   "source": [
    "<p style=\"font-family: Arial; font-size:1.0em;color:blue;\"> Results:<p style=\"font-family: Arial; font-size:1.0em;color:blue;\"> The sensitivity of the Model on the train data is 84.04% and on the test data is 84.01% which is higher than that of expected from X Education."
   ]
  },
  {
   "cell_type": "markdown",
   "metadata": {},
   "source": [
    "### LEAD SCORE ON TRAIN DATA"
   ]
  },
  {
   "cell_type": "markdown",
   "metadata": {},
   "source": [
    "<p style=\"font-family: Arial; font-size:1.0em;color:blue;\"> As we have predict the probability of conversion for all the candidates, now we assign a lead score to all of them which demoonstrates the chances of a candidate to take up the course. As the probabilities of conversion lie between 0 to 1. We multiply the values with 100 and determine the lead score which is between 0 to 100. Greater the lead score, greater is the probability for a candidate to be converted."
   ]
  },
  {
   "cell_type": "code",
   "execution_count": 116,
   "metadata": {
    "scrolled": false
   },
   "outputs": [
    {
     "data": {
      "text/plain": [
       "0        7.18\n",
       "1        2.89\n",
       "2       53.19\n",
       "3       19.82\n",
       "4       99.65\n",
       "        ...  \n",
       "6070    13.80\n",
       "6071    11.95\n",
       "6072    14.72\n",
       "6073    21.28\n",
       "6074    74.25\n",
       "Name: Converted_Prob, Length: 6075, dtype: float64"
      ]
     },
     "execution_count": 116,
     "metadata": {},
     "output_type": "execute_result"
    }
   ],
   "source": [
    "round(y_train_pred_final['Converted_Prob']*100, 2)"
   ]
  },
  {
   "cell_type": "markdown",
   "metadata": {},
   "source": [
    "### LEAD SCORE ON TEST DATA"
   ]
  },
  {
   "cell_type": "code",
   "execution_count": 117,
   "metadata": {},
   "outputs": [
    {
     "data": {
      "text/plain": [
       "0       88.14\n",
       "1       99.44\n",
       "2        8.87\n",
       "3       35.40\n",
       "4       35.50\n",
       "        ...  \n",
       "2599    53.05\n",
       "2600    70.07\n",
       "2601    67.66\n",
       "2602    25.60\n",
       "2603    65.21\n",
       "Name: Converted_Prob, Length: 2604, dtype: float64"
      ]
     },
     "execution_count": 117,
     "metadata": {},
     "output_type": "execute_result"
    }
   ],
   "source": [
    "round(y_test_pred_final['Converted_Prob']*100, 2)"
   ]
  }
 ],
 "metadata": {
  "kernelspec": {
   "display_name": "Python 3",
   "language": "python",
   "name": "python3"
  },
  "language_info": {
   "codemirror_mode": {
    "name": "ipython",
    "version": 3
   },
   "file_extension": ".py",
   "mimetype": "text/x-python",
   "name": "python",
   "nbconvert_exporter": "python",
   "pygments_lexer": "ipython3",
   "version": "3.7.4"
  }
 },
 "nbformat": 4,
 "nbformat_minor": 2
}
